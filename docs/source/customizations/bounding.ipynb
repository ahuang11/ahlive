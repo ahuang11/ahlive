{
 "cells": [
  {
   "cell_type": "markdown",
   "metadata": {},
   "source": [
    "# Bounding\n",
    "\n",
    "It's easy to bound the extents in the animation!"
   ]
  },
  {
   "cell_type": "markdown",
   "metadata": {},
   "source": [
    "### limits\n",
    "\n",
    "`xlim0s`, `xlim1s`, `ylim0s`, and `ylim1s` accept an `Iterable`, `str`, or scalar.\n",
    "\n",
    "If an `Iterable` is passed, the plots' limits are animated! The length of the `Iterable` must match the number of states."
   ]
  },
  {
   "cell_type": "code",
   "execution_count": null,
   "metadata": {},
   "outputs": [],
   "source": [
    "import ahlive as ah\n",
    "ah.Array([0, 1, 2], [4, 5, 6], xlim1s=[7, 8, 9]).render()"
   ]
  },
  {
   "cell_type": "markdown",
   "metadata": {},
   "source": [
    "If a scalar is passed, the limits are statically set to that value."
   ]
  },
  {
   "cell_type": "code",
   "execution_count": null,
   "metadata": {},
   "outputs": [],
   "source": [
    "import ahlive as ah\n",
    "ah.Array([0, 1, 2], [4, 5, 6], xlim1s=9).render()"
   ]
  },
  {
   "cell_type": "markdown",
   "metadata": {},
   "source": [
    "There are a couple built-in `str` options for limits.\n",
    "\n",
    "`fixed` sets the limits to the absolute min / max of all items and states."
   ]
  },
  {
   "cell_type": "code",
   "execution_count": null,
   "metadata": {},
   "outputs": [],
   "source": [
    "import ahlive as ah\n",
    "ah.Array([0, 1, 2], [4, 5, 6], xlim1s='fixed').render()"
   ]
  },
  {
   "cell_type": "markdown",
   "metadata": {},
   "source": [
    "`follow` follows the current *state*'s min/max across all items."
   ]
  },
  {
   "cell_type": "code",
   "execution_count": null,
   "metadata": {},
   "outputs": [],
   "source": [
    "import ahlive as ah\n",
    "ah.Array([0, 1, 2, 0], [4, 5, 6, 6], xlim1s='follow').render()"
   ]
  },
  {
   "cell_type": "markdown",
   "metadata": {},
   "source": [
    "`explore` is similar to `follow` except, the min/max doesn't decrease once explored."
   ]
  },
  {
   "cell_type": "code",
   "execution_count": null,
   "metadata": {},
   "outputs": [],
   "source": [
    "import ahlive as ah\n",
    "ah.Array([0, 1, 2, 0], [4, 5, 6, 6], xlim1s='explore').render()"
   ]
  },
  {
   "cell_type": "markdown",
   "metadata": {},
   "source": [
    "All these string limits can be suffixed with a desired offset value."
   ]
  },
  {
   "cell_type": "code",
   "execution_count": null,
   "metadata": {},
   "outputs": [],
   "source": [
    "import ahlive as ah\n",
    "ah.Array([0, 1, 2, 0], [4, 5, 6, 6], xlim1s='explore_1').render()"
   ]
  },
  {
   "cell_type": "markdown",
   "metadata": {},
   "source": [
    "If `xs` is a datetime type, a string representing a timedelta value can be passed. Any units listed in [`pd.to_timedelta`](https://pandas.pydata.org/pandas-docs/stable/reference/api/pandas.to_timedelta.html) can be used."
   ]
  },
  {
   "cell_type": "code",
   "execution_count": null,
   "metadata": {},
   "outputs": [],
   "source": [
    "import ahlive as ah\n",
    "import pandas as pd\n",
    "ah.Array(pd.date_range(\"2017-02-01\", \"2017-02-04\"), [4, 5, 6, 6], xlim1s='explore_12H').render()"
   ]
  },
  {
   "cell_type": "markdown",
   "metadata": {},
   "source": [
    "If setting `xlim0s` and `xlim1s` or `ylim0s` and `ylim1s` individually feels tedious, there is the option to set `xlims` and `ylims`."
   ]
  },
  {
   "cell_type": "code",
   "execution_count": null,
   "metadata": {},
   "outputs": [],
   "source": [
    "import ahlive as ah\n",
    "ah.Array([0, 1, 2, 0], [4, 5, 6, 6], xlims='explore', ylims='explore').render()"
   ]
  },
  {
   "cell_type": "markdown",
   "metadata": {},
   "source": [
    "### margins\n",
    "\n",
    "On top of setting limits, `margins` can be set as well. For example, 0.5 pads both the upper and lower limits by 50%."
   ]
  },
  {
   "cell_type": "code",
   "execution_count": null,
   "metadata": {},
   "outputs": [],
   "source": [
    "import ahlive as ah\n",
    "ah.Array([0, 1, 2, 0], [4, 5, 6, 6], xmargins=0.5, ymargins=0.5).render()"
   ]
  },
  {
   "cell_type": "markdown",
   "metadata": {},
   "source": [
    "If a `tuple` is passed, the first value maps to the lower limit and the second value maps to the upper limit."
   ]
  },
  {
   "cell_type": "code",
   "execution_count": null,
   "metadata": {},
   "outputs": [],
   "source": [
    "import ahlive as ah\n",
    "ah.Array([0, 1, 2, 0], [4, 5, 6, 6], xmargins=(0.5, 0), ymargins=(0, 0.5)).render()"
   ]
  }
 ],
 "metadata": {},
 "nbformat": 4,
 "nbformat_minor": 4
}
