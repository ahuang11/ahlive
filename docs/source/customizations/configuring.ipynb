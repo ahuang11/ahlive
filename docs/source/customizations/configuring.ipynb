{
 "cells": [
  {
   "cell_type": "markdown",
   "metadata": {},
   "source": [
    "# Configuring\n",
    "Besides being super convenient, ahlive is super customizable."
   ]
  },
  {
   "cell_type": "markdown",
   "metadata": {},
   "source": [
    "### keywords\n",
    "Common settings can be accessed through documented keywords.\n",
    "\n",
    "For a list of documented keywords, see `help(ah.Array)`."
   ]
  },
  {
   "cell_type": "code",
   "execution_count": null,
   "metadata": {},
   "outputs": [],
   "source": [
    "import ahlive as ah\n",
    "ah.Array([0, 1, 2], [3, 4, 5], figsize=(3, 3)).render()"
   ]
  },
  {
   "cell_type": "markdown",
   "metadata": {},
   "source": [
    "<div class=\"alert alert-warning\">\n",
    "\n",
    "Do not expect all the keywords exposed in ahlive to match the matplotlib keywords!\n",
    "    \n",
    "This is because some keywords are too generic in matplotlib, e.g. `plt.margins(x=1)` is exposed as `xmargins=1`\n",
    "\n",
    "</div>"
   ]
  },
  {
   "cell_type": "markdown",
   "metadata": {},
   "source": [
    "Any keywords not documented are assumed to be `plot` keywords.\n",
    "\n",
    "For example in vanilla matplotlib, to change the marker type:"
   ]
  },
  {
   "cell_type": "code",
   "execution_count": null,
   "metadata": {},
   "outputs": [],
   "source": [
    "import matplotlib.pyplot as plt\n",
    "_ = plt.scatter([0], [3], marker='o')\n",
    "_ = plt.scatter([1], [4], marker='^')\n",
    "_ = plt.scatter([2], [5], marker='v')"
   ]
  },
  {
   "cell_type": "markdown",
   "metadata": {},
   "source": [
    "Here, although `marker` is not documented in ahlive's docstring, it can still be used."
   ]
  },
  {
   "cell_type": "code",
   "execution_count": null,
   "metadata": {},
   "outputs": [],
   "source": [
    "import ahlive as ah\n",
    "ah.Array([0, 1, 2], [3, 4, 5], marker=['o', '^', 'v']).render()"
   ]
  },
  {
   "cell_type": "markdown",
   "metadata": {},
   "source": [
    "These `plot` keywords can be a scalar too."
   ]
  },
  {
   "cell_type": "code",
   "execution_count": null,
   "metadata": {},
   "outputs": [],
   "source": [
    "import ahlive as ah\n",
    "ah.Array([0, 1, 2], [3, 4, 5], marker='^').render()"
   ]
  },
  {
   "cell_type": "markdown",
   "metadata": {},
   "source": [
    "### config\n",
    "However, because matplotlib is huge, not all keywords can be exposed. Instead, ahlive has a generic `config` method.\n",
    "\n",
    "To set `figsize` without the built-in keyword, first pass the name of the method followed by the keyword arguments.\n",
    "\n",
    "For example, to set `figsize` in vanilla matplotlib:"
   ]
  },
  {
   "cell_type": "code",
   "execution_count": null,
   "metadata": {},
   "outputs": [],
   "source": [
    "import matplotlib.pyplot as plt\n",
    "_ = plt.figure(figsize=(3, 3))"
   ]
  },
  {
   "cell_type": "markdown",
   "metadata": {},
   "source": [
    "The method is `figure` so that will be the first positional argument passed to `config`, and then the keyword argument is `figsize=(3, 3)`."
   ]
  },
  {
   "cell_type": "code",
   "execution_count": null,
   "metadata": {},
   "outputs": [],
   "source": [
    "import ahlive as ah\n",
    "arr = ah.Array([0, 1, 2], [3, 4, 5])\n",
    "arr.config('figure', figsize=(3, 3)).render()"
   ]
  },
  {
   "cell_type": "markdown",
   "metadata": {},
   "source": [
    "Or another way of doing this is to pass a nested dictionary; this way, multiple methods can be configured simultaneously."
   ]
  },
  {
   "cell_type": "code",
   "execution_count": null,
   "metadata": {},
   "outputs": [],
   "source": [
    "import ahlive as ah\n",
    "arr = ah.Array([0, 1, 2], [3, 4, 5])\n",
    "arr.config(**{\n",
    "    'figure': {'figsize': (3, 3)},\n",
    "    'axes': {'xlim': [0, 4], 'ylim': [0, 10]}\n",
    "}).render()"
   ]
  },
  {
   "cell_type": "markdown",
   "metadata": {},
   "source": [
    "However not all methods are named exactly as their matplotlib counterpart!\n",
    "\n",
    "For example to set `color` in vanilla matplotlib:"
   ]
  },
  {
   "cell_type": "code",
   "execution_count": null,
   "metadata": {},
   "outputs": [],
   "source": [
    "import matplotlib.pyplot as plt\n",
    "plt.scatter([0, 1, 2], [3, 4, 5], color='red')"
   ]
  },
  {
   "cell_type": "markdown",
   "metadata": {},
   "source": [
    "The method is not `scatter` in ahlive, instead it's `plot`! This is so that ahlive can handle `plot`, `scatter`, `bar`, etc. without too complex internal code."
   ]
  },
  {
   "cell_type": "code",
   "execution_count": null,
   "metadata": {},
   "outputs": [],
   "source": [
    "import ahlive as ah\n",
    "arr = ah.Array([0, 1, 2], [3, 4, 5])\n",
    "arr.config('plot', color='red').render()"
   ]
  },
  {
   "cell_type": "markdown",
   "metadata": {},
   "source": [
    "Furthermore, methods are often prefixed: `ref_` for references, `grid_` for grids, `remark_` for remarks, etc."
   ]
  },
  {
   "cell_type": "code",
   "execution_count": null,
   "metadata": {},
   "outputs": [],
   "source": [
    "import ahlive as ah\n",
    "arr = ah.Reference([0, 1, 2])\n",
    "arr.config('ref_plot', color='red').render()"
   ]
  },
  {
   "cell_type": "markdown",
   "metadata": {},
   "source": [
    "To get a full list of configurable methods:"
   ]
  },
  {
   "cell_type": "code",
   "execution_count": null,
   "metadata": {},
   "outputs": [],
   "source": [
    "import ahlive as ah\n",
    "for key, val in ah.CONFIGURABLES.items():\n",
    "    print(f\"{key}\\n{val}\\n\")"
   ]
  },
  {
   "cell_type": "markdown",
   "metadata": {},
   "source": [
    "### hooks\n",
    "Still, there's lots to be desired that ahlive is incapable of doing. Therefore, if there's a need, things can be done the vanilla matplotlib way first and wrapped into a function listed in `hooks`."
   ]
  },
  {
   "cell_type": "code",
   "execution_count": null,
   "metadata": {},
   "outputs": [],
   "source": [
    "import ahlive as ah\n",
    "import matplotlib.pyplot as plt\n",
    "import numpy as np\n",
    "\n",
    "def add_twinx(fig, ax):\n",
    "    ax2 = ax.twinx()\n",
    "    ax2.set_ylabel('The twin axes')\n",
    "    ax2.set_ylim(0, 24)\n",
    "\n",
    "ah.Array([0, 1], [0, 12], hooks=[add_twinx]).render()"
   ]
  },
  {
   "cell_type": "markdown",
   "metadata": {},
   "source": [
    "<div class=\"alert alert-info\">\n",
    "\n",
    "`hooks` accept multiple custom functions.\n",
    "\n",
    "</div>"
   ]
  },
  {
   "cell_type": "markdown",
   "metadata": {},
   "source": [
    "### style\n",
    "\n",
    "Setting `style='minimal'` reduces the number of tick labels and grid lines."
   ]
  },
  {
   "cell_type": "code",
   "execution_count": null,
   "metadata": {},
   "outputs": [],
   "source": [
    "import ahlive as ah\n",
    "ah.Array([0, 1, 2], [3, 4, 5], style='minimal').render()"
   ]
  },
  {
   "cell_type": "markdown",
   "metadata": {},
   "source": [
    "Setting `style='bare'` removes all tick labels, grid lines, borders, and spacing around the subplot."
   ]
  },
  {
   "cell_type": "code",
   "execution_count": null,
   "metadata": {},
   "outputs": [],
   "source": [
    "import ahlive as ah\n",
    "ah.Array([0, 1, 2], [3, 4, 5], style='bare').render()"
   ]
  },
  {
   "cell_type": "markdown",
   "metadata": {},
   "source": [
    "### defaults\n",
    "\n",
    "To get a full list of configurable defaults:"
   ]
  },
  {
   "cell_type": "code",
   "execution_count": null,
   "metadata": {},
   "outputs": [],
   "source": [
    "import ahlive as ah\n",
    "for key, val in ah.DEFAULTS.items():\n",
    "    print(f\"{key}\\n{val}\\n\")"
   ]
  },
  {
   "cell_type": "markdown",
   "metadata": {},
   "source": [
    "To set, or update, defaults, specify the relevant key as a positional argument, and the desired keyword arguments.\n",
    "\n",
    "Here, the the final and transition frames' `durations`, or lag, is updated to 3 and 0.25 seconds respectively."
   ]
  },
  {
   "cell_type": "code",
   "execution_count": null,
   "metadata": {},
   "outputs": [],
   "source": [
    "import ahlive as ah\n",
    "\n",
    "ah.config_defaults(\"durations\", final_frame=3, transition_frames=0.1)\n",
    "\n",
    "ah.Array([0, 1, 2], [3, 4, 5]).render()"
   ]
  },
  {
   "cell_type": "markdown",
   "metadata": {},
   "source": [
    "Or equivalently; emphasis on the double asterisks if done this way!\n",
    "\n",
    "```python\n",
    "import ahlive as ah\n",
    "\n",
    "ah.config_defaults(\"durations\", **{'final_frame': 3, 'transition_frames': 0.1})\n",
    "\n",
    "ah.Array([0, 1, 2], [3, 4, 5]).render()\n",
    "```"
   ]
  },
  {
   "cell_type": "markdown",
   "metadata": {},
   "source": [
    "Or another way of doing this is to pass a nested dictionary; this way, multiple default keys can be configured simultaneously. The `_kwds` suffix is optional."
   ]
  },
  {
   "cell_type": "code",
   "execution_count": 1,
   "metadata": {
    "ExecuteTime": {
     "end_time": "2021-10-17T03:22:50.582154Z",
     "start_time": "2021-10-17T03:22:43.915033Z"
    }
   },
   "outputs": [
    {
     "name": "stdout",
     "output_type": "stream",
     "text": [
      "durations_kwds {'durations_kwds': {'final_frame': 5, 'transition_frames': 0.5}, 'plot': {'scatter': {'color': 'red', 's': 1000}}}\n",
      "plot_kwds {'durations_kwds': {'final_frame': 5, 'transition_frames': 0.5}, 'plot': {'scatter': {'color': 'red', 's': 1000}}}\n",
      "[########################################] | 100% Completed |  4.3s\n"
     ]
    },
    {
     "data": {
      "text/html": [
       "<img src=\"data:image/gif;base64,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\" />"
      ],
      "text/plain": [
       "<IPython.core.display.HTML object>"
      ]
     },
     "execution_count": 1,
     "metadata": {},
     "output_type": "execute_result"
    }
   ],
   "source": [
    "import ahlive as ah\n",
    "\n",
    "ah.config_defaults(**{\n",
    "    \"durations_kwds\": dict(final_frame=5, transition_frames=0.5),\n",
    "    \"plot\": {\"scatter\": dict(color=\"red\", s=1000)}\n",
    "})\n",
    "\n",
    "ah.Array([0, 1, 2], [3, 4, 5]).render()"
   ]
  },
  {
   "cell_type": "markdown",
   "metadata": {},
   "source": [
    "<div class=\"alert alert-warning\">\n",
    "\n",
    "Note that some defaults require an extra layer of nesting, with the keys as the name of the `chart`, like for `plot_kwds`, `ref_plot_kwds`, `preset_kwds`.\n",
    "\n",
    "</div>"
   ]
  },
  {
   "cell_type": "markdown",
   "metadata": {},
   "source": [
    "The new defaults will persist the entire session until restarted."
   ]
  },
  {
   "cell_type": "code",
   "execution_count": null,
   "metadata": {},
   "outputs": [],
   "source": [
    "ah.Array([0, 1, 0], [6, -1, 2]).render()"
   ]
  }
 ],
 "metadata": {
  "kernelspec": {
   "display_name": "Python 3",
   "language": "python",
   "name": "python3"
  },
  "varInspector": {
   "cols": {
    "lenName": 16,
    "lenType": 16,
    "lenVar": 40
   },
   "kernels_config": {
    "python": {
     "delete_cmd_postfix": "",
     "delete_cmd_prefix": "del ",
     "library": "var_list.py",
     "varRefreshCmd": "print(var_dic_list())"
    },
    "r": {
     "delete_cmd_postfix": ") ",
     "delete_cmd_prefix": "rm(",
     "library": "var_list.r",
     "varRefreshCmd": "cat(var_dic_list()) "
    }
   },
   "types_to_exclude": [
    "module",
    "function",
    "builtin_function_or_method",
    "instance",
    "_Feature"
   ],
   "window_display": false
  }
 },
 "nbformat": 4,
 "nbformat_minor": 4
}
