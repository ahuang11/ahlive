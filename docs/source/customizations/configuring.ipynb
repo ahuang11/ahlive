{
 "cells": [
  {
   "cell_type": "markdown",
   "metadata": {},
   "source": [
    "# Configuring\n",
    "Besides being super convenient, ahlive is super customizable."
   ]
  },
  {
   "cell_type": "markdown",
   "metadata": {},
   "source": [
    "### keywords\n",
    "Common settings can be accessed through documented keywords.\n",
    "\n",
    "For a list of documented keywords, see `help(ah.Array)`."
   ]
  },
  {
   "cell_type": "code",
   "execution_count": null,
   "metadata": {},
   "outputs": [],
   "source": [
    "import ahlive as ah\n",
    "ah.Array([0, 1, 2], [3, 4, 5], figsize=(3, 3)).render()"
   ]
  },
  {
   "cell_type": "markdown",
   "metadata": {},
   "source": [
    "<div class=\"alert alert-warning\">\n",
    "\n",
    "Do not expect all the keywords exposed in ahlive to match the matplotlib keywords!\n",
    "    \n",
    "This is because some keywords are too generic in matplotlib, e.g. `plt.margins(x=1)` is exposed as `xmargins=1`\n",
    "\n",
    "</div>"
   ]
  },
  {
   "cell_type": "markdown",
   "metadata": {},
   "source": [
    "Any keywords not documented are assumed to be `plot` keywords.\n",
    "\n",
    "For example in vanilla matplotlib, to change the marker type:"
   ]
  },
  {
   "cell_type": "code",
   "execution_count": null,
   "metadata": {},
   "outputs": [],
   "source": [
    "import matplotlib.pyplot as plt\n",
    "_ = plt.scatter([0], [3], marker='o')\n",
    "_ = plt.scatter([1], [4], marker='^')\n",
    "_ = plt.scatter([2], [5], marker='v')"
   ]
  },
  {
   "cell_type": "markdown",
   "metadata": {},
   "source": [
    "Here, although `marker` is not documented in ahlive's docstring, it can still be used."
   ]
  },
  {
   "cell_type": "code",
   "execution_count": null,
   "metadata": {},
   "outputs": [],
   "source": [
    "import ahlive as ah\n",
    "ah.Array([0, 1, 2], [3, 4, 5], marker=['o', '^', 'v']).render()"
   ]
  },
  {
   "cell_type": "markdown",
   "metadata": {},
   "source": [
    "These `plot` keywords can be a scalar too."
   ]
  },
  {
   "cell_type": "code",
   "execution_count": null,
   "metadata": {},
   "outputs": [],
   "source": [
    "import ahlive as ah\n",
    "ah.Array([0, 1, 2], [3, 4, 5], marker='^').render()"
   ]
  },
  {
   "cell_type": "markdown",
   "metadata": {},
   "source": [
    "### config\n",
    "However, because matplotlib is huge, not all keywords can be exposed. Instead, ahlive has a generic `config` method.\n",
    "\n",
    "To set `figsize` without the built-in keyword, first pass the name of the method followed by the keyword arguments.\n",
    "\n",
    "For example, to set `figsize` in vanilla matplotlib:"
   ]
  },
  {
   "cell_type": "code",
   "execution_count": null,
   "metadata": {},
   "outputs": [],
   "source": [
    "import matplotlib.pyplot as plt\n",
    "_ = plt.figure(figsize=(3, 3))"
   ]
  },
  {
   "cell_type": "markdown",
   "metadata": {},
   "source": [
    "The method is `figure` so that will be the first positional argument passed to `config`, and then the keyword argument is `figsize=(3, 3)`."
   ]
  },
  {
   "cell_type": "code",
   "execution_count": null,
   "metadata": {},
   "outputs": [],
   "source": [
    "import ahlive as ah\n",
    "arr = ah.Array([0, 1, 2], [3, 4, 5])\n",
    "arr.config('figure', figsize=(3, 3)).render()"
   ]
  },
  {
   "cell_type": "markdown",
   "metadata": {},
   "source": [
    "Or another way of doing this is to pass a nested dictionary; this way, multiple methods can be configured simultaneously."
   ]
  },
  {
   "cell_type": "code",
   "execution_count": null,
   "metadata": {},
   "outputs": [],
   "source": [
    "import ahlive as ah\n",
    "arr = ah.Array([0, 1, 2], [3, 4, 5])\n",
    "arr.config(**{\n",
    "    'figure': {'figsize': (3, 3)},\n",
    "    'axes': {'xlim': [0, 4], 'ylim': [0, 10]}\n",
    "}).render()"
   ]
  },
  {
   "cell_type": "markdown",
   "metadata": {},
   "source": [
    "However not all methods are named exactly as their matplotlib counterpart!\n",
    "\n",
    "For example to set `color` in vanilla matplotlib:"
   ]
  },
  {
   "cell_type": "code",
   "execution_count": null,
   "metadata": {},
   "outputs": [],
   "source": [
    "import matplotlib.pyplot as plt\n",
    "plt.scatter([0, 1, 2], [3, 4, 5], color='red')"
   ]
  },
  {
   "cell_type": "markdown",
   "metadata": {},
   "source": [
    "The method is not `scatter` in ahlive, instead it's `plot`! This is so that ahlive can handle `plot`, `scatter`, `bar`, etc. without too complex internal code."
   ]
  },
  {
   "cell_type": "code",
   "execution_count": null,
   "metadata": {},
   "outputs": [],
   "source": [
    "import ahlive as ah\n",
    "arr = ah.Array([0, 1, 2], [3, 4, 5])\n",
    "arr.config('plot', color='red').render()"
   ]
  },
  {
   "cell_type": "markdown",
   "metadata": {},
   "source": [
    "Furthermore, methods are often prefixed: `ref_` for references, `grid_` for grids, `remark_` for remarks, etc."
   ]
  },
  {
   "cell_type": "code",
   "execution_count": null,
   "metadata": {},
   "outputs": [],
   "source": [
    "import ahlive as ah\n",
    "arr = ah.Reference([0, 1, 2])\n",
    "arr.config('ref_plot', color='red').render()"
   ]
  },
  {
   "cell_type": "markdown",
   "metadata": {},
   "source": [
    "To get a full list of configurable methods:"
   ]
  },
  {
   "cell_type": "code",
   "execution_count": null,
   "metadata": {},
   "outputs": [],
   "source": [
    "import ahlive as ah\n",
    "for key, val in ah.CONFIGURABLES.items():\n",
    "    print(key.upper())\n",
    "    print(val)"
   ]
  },
  {
   "cell_type": "markdown",
   "metadata": {},
   "source": [
    "### hooks\n",
    "Still, there's lots to be desired that ahlive is incapable of doing. Therefore, if there's a need, things can be done the vanilla matplotlib way first and wrapped into a function listed in `hooks`."
   ]
  },
  {
   "cell_type": "code",
   "execution_count": null,
   "metadata": {},
   "outputs": [],
   "source": [
    "import matplotlib.pyplot as plt\n",
    "import numpy as np\n",
    "\n",
    "def add_twinx(fig, ax):\n",
    "    ax2 = ax.twinx()\n",
    "    ax2.set_ylabel('The twin axes')\n",
    "    ax2.set_ylim(0, 24)\n",
    "\n",
    "ah.Array([0, 1], [0, 12], hooks=[add_twinx]).render()"
   ]
  },
  {
   "cell_type": "markdown",
   "metadata": {},
   "source": [
    "<div class=\"alert alert-info\">\n",
    "\n",
    "`hooks` accept multiple custom functions.\n",
    "\n",
    "</div>"
   ]
  },
  {
   "cell_type": "markdown",
   "metadata": {},
   "source": [
    "### preset\n",
    "For some charts, there are some presets built-in for convenience.\n",
    "\n",
    "`trail` allows scatter charts to leave behind footprints."
   ]
  },
  {
   "cell_type": "code",
   "execution_count": null,
   "metadata": {},
   "outputs": [],
   "source": [
    "import ahlive as ah\n",
    "ah.Array([0, 1, 2], [3, 4, 5], preset='trail').render()"
   ]
  },
  {
   "cell_type": "markdown",
   "metadata": {},
   "source": [
    "`trail` can be configured to `expire` in number of base states and only show a trailing `line`."
   ]
  },
  {
   "cell_type": "code",
   "execution_count": null,
   "metadata": {},
   "outputs": [],
   "source": [
    "import ahlive as ah\n",
    "arr = ah.Array([0, 1, 2, 4, 10], [3, 4, 5, 20, 50], chart='scatter', preset='trail')\n",
    "arr.config('preset', chart='line', expire=2).render()"
   ]
  },
  {
   "cell_type": "markdown",
   "metadata": {},
   "source": [
    "`race` will yield bar chart races as long as there is more than one item overlaid."
   ]
  },
  {
   "cell_type": "code",
   "execution_count": null,
   "metadata": {},
   "outputs": [],
   "source": [
    "import ahlive as ah\n",
    "import pandas as pd\n",
    "x = ['a', 'a', 'a', 'b', 'b', 'b']\n",
    "y =  [4, 5, 6, 3, 8, 10]\n",
    "df = pd.DataFrame({'x': x, 'y': y})\n",
    "ah.DataFrame(\n",
    "    df, 'x', 'y', label='x', inline_labels='y',\n",
    "    chart='barh', preset='race'\n",
    ").render()"
   ]
  },
  {
   "cell_type": "markdown",
   "metadata": {},
   "source": [
    "To disable the inline `bar_label`:"
   ]
  },
  {
   "cell_type": "code",
   "execution_count": null,
   "metadata": {},
   "outputs": [],
   "source": [
    "import ahlive as ah\n",
    "import pandas as pd\n",
    "x = ['a', 'a', 'a', 'b', 'b', 'b']\n",
    "y =  [4, 5, 6, 3, 8, 10]\n",
    "df = pd.DataFrame({'x': x, 'y': y})\n",
    "ah.DataFrame(\n",
    "    df, 'x', 'y', label='x', inline_labels='y',\n",
    "    chart='barh', preset='race'\n",
    ").config('preset', bar_label=False).render()"
   ]
  },
  {
   "cell_type": "markdown",
   "metadata": {},
   "source": [
    "`delta` will highlight the differences in values."
   ]
  },
  {
   "cell_type": "code",
   "execution_count": null,
   "metadata": {},
   "outputs": [],
   "source": [
    "import ahlive as ah\n",
    "import pandas as pd\n",
    "x = ['a', 'a', 'a', 'b', 'b', 'b']\n",
    "y =  [4, 5, 6, 3, 8, 10]\n",
    "df = pd.DataFrame({'x': x, 'y': y})\n",
    "ah.DataFrame(\n",
    "    df, 'x', 'y', label='x', inline_labels='y',\n",
    "    chart='bar', preset='delta'\n",
    ").render()"
   ]
  },
  {
   "cell_type": "markdown",
   "metadata": {},
   "source": [
    "`series` is for creating a continuous series of bars."
   ]
  },
  {
   "cell_type": "code",
   "execution_count": null,
   "metadata": {},
   "outputs": [],
   "source": [
    "import ahlive as ah\n",
    "import pandas as pd\n",
    "x = [0, 1, 2, 3, 4, 5]\n",
    "y =  [-1, 10, 20, -5, 10, 35]\n",
    "ah.Array(x, y, chart='bar', preset='series').render()"
   ]
  },
  {
   "cell_type": "markdown",
   "metadata": {},
   "source": [
    "<div class=\"alert alert-info\">\n",
    "\n",
    "`series` is often used for timeseries; e.g. overlaying a line showing smoothed, rolling mean values with a bar series showing actual values.\n",
    "\n",
    "</div>"
   ]
  },
  {
   "cell_type": "markdown",
   "metadata": {},
   "source": [
    "`rotate` will yield a rotating globe."
   ]
  },
  {
   "cell_type": "code",
   "execution_count": null,
   "metadata": {},
   "outputs": [],
   "source": [
    "import xarray as xr\n",
    "import ahlive as ah\n",
    "ds = xr.tutorial.open_dataset('air_temperature').isel(time=slice(0, 10))\n",
    "ah.Dataset(ds, 'lon', 'lat', 'air', preset='rotate').render()"
   ]
  },
  {
   "cell_type": "markdown",
   "metadata": {},
   "source": [
    "Geostationary views of the world can be achieved through `worldwide=True`."
   ]
  },
  {
   "cell_type": "code",
   "execution_count": null,
   "metadata": {},
   "outputs": [],
   "source": [
    "import xarray as xr\n",
    "import ahlive as ah\n",
    "ds = xr.tutorial.open_dataset('air_temperature').isel(time=slice(0, 10))\n",
    "ah.Dataset(ds, 'lon', 'lat', 'air', crs='platecarree', preset='rotate', worldwide=True).render()"
   ]
  },
  {
   "cell_type": "markdown",
   "metadata": {},
   "source": [
    "The start and end of the central longitudes can be specified as a tuple in `central_lon`."
   ]
  },
  {
   "cell_type": "code",
   "execution_count": null,
   "metadata": {},
   "outputs": [],
   "source": [
    "import xarray as xr\n",
    "import ahlive as ah\n",
    "ds = xr.tutorial.open_dataset('air_temperature').isel(time=slice(0, 10))\n",
    "ah.Dataset(\n",
    "    ds, 'lon', 'lat', 'air', crs='platecarree', preset='rotate',\n",
    "    central_lon=(0, 360), worldwide=True).render()"
   ]
  },
  {
   "cell_type": "markdown",
   "metadata": {},
   "source": [
    "For each state, `scan_x` will scan left to right, replacing the old state's value with the new state."
   ]
  },
  {
   "cell_type": "code",
   "execution_count": null,
   "metadata": {},
   "outputs": [],
   "source": [
    "import xarray as xr\n",
    "import ahlive as ah\n",
    "ds = xr.tutorial.open_dataset('air_temperature').isel(time=[0, 120])\n",
    "ah.Dataset(\n",
    "    ds, 'lon', 'lat', 'air', state_labels='time',\n",
    "    crs='platecarree', preset='scan_x',\n",
    ").render()"
   ]
  },
  {
   "cell_type": "markdown",
   "metadata": {},
   "source": [
    "There's an equivalent `scan_y` which goes from top down."
   ]
  },
  {
   "cell_type": "code",
   "execution_count": null,
   "metadata": {},
   "outputs": [],
   "source": [
    "import xarray as xr\n",
    "import ahlive as ah\n",
    "ds = xr.tutorial.open_dataset('air_temperature').isel(time=[0, 480])\n",
    "ah.Dataset(\n",
    "    ds, 'lon', 'lat', 'air', state_labels='time',\n",
    "    crs='platecarree', preset='scan_y', frames=5,\n",
    "    interp='linear', revert='traceback'\n",
    ").render()"
   ]
  },
  {
   "cell_type": "markdown",
   "metadata": {},
   "source": [
    "To get a listing of available presets:"
   ]
  },
  {
   "cell_type": "code",
   "execution_count": null,
   "metadata": {},
   "outputs": [],
   "source": [
    "import ahlive as ah\n",
    "for key, val in ah.PRESETS.items():\n",
    "    print(key.upper())\n",
    "    print(val)"
   ]
  }
 ],
 "metadata": {
  "kernelspec": {
   "display_name": "Python 3",
   "language": "python",
   "name": "python3"
  },
  "language_info": {
   "codemirror_mode": {
    "name": "ipython",
    "version": 3
   },
   "file_extension": ".py",
   "mimetype": "text/x-python",
   "name": "python",
   "nbconvert_exporter": "python",
   "pygments_lexer": "ipython3",
   "version": "3.8.5"
  }
 },
 "nbformat": 4,
 "nbformat_minor": 4
}
