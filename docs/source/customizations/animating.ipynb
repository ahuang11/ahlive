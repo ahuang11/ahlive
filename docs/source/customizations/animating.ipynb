{
 "cells": [
  {
   "cell_type": "markdown",
   "metadata": {},
   "source": [
    "# Animating\n",
    "To animate or not to animate, that is the question."
   ]
  },
  {
   "cell_type": "markdown",
   "metadata": {},
   "source": [
    "### animate\n",
    "By default, `animate` is set to `True`. However, if set to `False`, the individual frames can be saved to a directory named after `save`."
   ]
  },
  {
   "cell_type": "code",
   "execution_count": null,
   "metadata": {},
   "outputs": [],
   "source": [
    "import ahlive as ah\n",
    "ah.Array([0, 1], [4, 5], save='exporting_tutorial', animate=False).render()"
   ]
  },
  {
   "cell_type": "markdown",
   "metadata": {},
   "source": [
    "Or, rather than saving to disk, the ouput can be piped to other packages, like panel."
   ]
  },
  {
   "cell_type": "code",
   "execution_count": null,
   "metadata": {},
   "outputs": [],
   "source": [
    "import ahlive as ah\n",
    "import panel as pn\n",
    "pn.extension()\n",
    "images = ah.Array([0, 1], [4, 5], animate=False).render()\n",
    "pngs = [pn.pane.PNG(image, name=str(i)) for i, image in enumerate(images)]\n",
    "tabs = pn.Tabs(*pngs)\n",
    "player = pn.widgets.Player(align='center', end=len(tabs))\n",
    "link = player.jslink(tabs, value='active', bidirectional=True)\n",
    "pn.Column(tabs, player).servable()"
   ]
  },
  {
   "cell_type": "markdown",
   "metadata": {},
   "source": [
    "Besides a `bool`, `animate` also accepts a `Iterable`, `str`, `slice`, or `int`.\n",
    "\n",
    "If an `Iterable` is passed to `animate`, only those frames will be animated."
   ]
  },
  {
   "cell_type": "code",
   "execution_count": null,
   "metadata": {},
   "outputs": [],
   "source": [
    "import ahlive as ah\n",
    "ah.Array([0, 1, 2], [4, 5, 6], animate=[1, 25]).render()"
   ]
  },
  {
   "cell_type": "markdown",
   "metadata": {},
   "source": [
    "If `head` (or `tail`) is passed, the first (or last) 10 frames will be animated and `fps` will be set to `1`."
   ]
  },
  {
   "cell_type": "code",
   "execution_count": null,
   "metadata": {},
   "outputs": [],
   "source": [
    "import ahlive as ah\n",
    "tst = ah.Array([0, 1], [4, 5], animate='head')\n",
    "tst.render()"
   ]
  },
  {
   "cell_type": "markdown",
   "metadata": {},
   "source": [
    "A number can be suffixed to control the number of frames."
   ]
  },
  {
   "cell_type": "code",
   "execution_count": null,
   "metadata": {},
   "outputs": [],
   "source": [
    "import ahlive as ah\n",
    "tst = ah.Array([0, 1], [4, 5], animate='head_5')\n",
    "tst.render()"
   ]
  },
  {
   "cell_type": "markdown",
   "metadata": {},
   "source": [
    "Any arbitrary `str` will animate 10 frames evenly distributed."
   ]
  },
  {
   "cell_type": "code",
   "execution_count": null,
   "metadata": {},
   "outputs": [],
   "source": [
    "import ahlive as ah\n",
    "tst = ah.Array([0, 1, 2], [4, 5, 6], animate='test')\n",
    "tst.render()"
   ]
  },
  {
   "cell_type": "markdown",
   "metadata": {},
   "source": [
    "If a `slice` is passed to `animate`, only those frames in between the `start` and `stop` will be animated at `step` intervals."
   ]
  },
  {
   "cell_type": "code",
   "execution_count": null,
   "metadata": {},
   "outputs": [],
   "source": [
    "import ahlive as ah\n",
    "ah.Array([0, 1, 2], [4, 5, 6], animate=slice(0, 40, 5)).render()"
   ]
  },
  {
   "cell_type": "markdown",
   "metadata": {},
   "source": [
    "If an `int` is passed, only that frame will be rendered, i.e. a static image is produced."
   ]
  },
  {
   "cell_type": "code",
   "execution_count": null,
   "metadata": {},
   "outputs": [],
   "source": [
    "import ahlive as ah\n",
    "ah.Array([0, 1, 2], [4, 5, 6], animate=28).render()"
   ]
  },
  {
   "cell_type": "markdown",
   "metadata": {},
   "source": [
    "### durations\n",
    "The animations can be slowed down or sped up using `durations`.\n",
    "\n",
    "If a scalar is passed to `durations` all frames will be delayed by the specified value in seconds."
   ]
  },
  {
   "cell_type": "code",
   "execution_count": null,
   "metadata": {},
   "outputs": [],
   "source": [
    "import ahlive as ah\n",
    "ah.Array([0, 1, 2], [4, 5, 6], durations=2).render()"
   ]
  },
  {
   "cell_type": "markdown",
   "metadata": {},
   "source": [
    "<div class=\"alert alert-warning\">\n",
    "\n",
    "`durations` is only supported for GIFs!\n",
    "\n",
    "</div>"
   ]
  },
  {
   "cell_type": "markdown",
   "metadata": {},
   "source": [
    "`durations` can also be specified as an `Iterable`. The length must match the number of states."
   ]
  },
  {
   "cell_type": "code",
   "execution_count": null,
   "metadata": {},
   "outputs": [],
   "source": [
    "import ahlive as ah\n",
    "ah.Array([0, 1, 2], [4, 5, 6], durations=[1e-6, 1, 10]).render()"
   ]
  },
  {
   "cell_type": "markdown",
   "metadata": {},
   "source": [
    "`durations` only delay the original states. To delay the interpolated frames, `transition_frames` can be set through `config`."
   ]
  },
  {
   "cell_type": "code",
   "execution_count": null,
   "metadata": {},
   "outputs": [],
   "source": [
    "import ahlive as ah\n",
    "arr = ah.Array([0, 1], [4, 5])\n",
    "arr = arr.config('durations', transition_frames=0.5)\n",
    "arr.render()"
   ]
  },
  {
   "cell_type": "markdown",
   "metadata": {},
   "source": [
    "Setting `final_frame` can delay the last frame before the animation restarts."
   ]
  },
  {
   "cell_type": "code",
   "execution_count": null,
   "metadata": {},
   "outputs": [],
   "source": [
    "import ahlive as ah\n",
    "arr = ah.Array([0, 1], [4, 5])\n",
    "arr = arr.config('durations', final_frame=3)\n",
    "arr.render()"
   ]
  },
  {
   "cell_type": "markdown",
   "metadata": {},
   "source": [
    "### fps\n",
    "Alternatively, animations can be slowed down or sped up using durations.\n",
    "\n",
    "`fps`, or frames per second, is the inverse of `durations`, e.g. 10 `fps` == 1 / 10 `durations`."
   ]
  },
  {
   "cell_type": "code",
   "execution_count": null,
   "metadata": {},
   "outputs": [],
   "source": [
    "import ahlive as ah\n",
    "ah.Array([0, 1, 2], [4, 5, 6], fps=10).render()"
   ]
  },
  {
   "cell_type": "markdown",
   "metadata": {},
   "source": [
    "### loop\n",
    "The number of times the animation plays can be limited with `loop`."
   ]
  },
  {
   "cell_type": "code",
   "execution_count": null,
   "metadata": {},
   "outputs": [],
   "source": [
    "import ahlive as ah\n",
    "ah.Array([0, 1, 2], [4, 5, 6], loop=1).render()"
   ]
  },
  {
   "cell_type": "markdown",
   "metadata": {},
   "source": [
    "### limits\n",
    "`xlim0s`, `xlim1s`, `ylim0s`, and `ylim1s` accept an `Iterable`, `str`, or scalar.\n",
    "\n",
    "If an `Iterable` is passed, the plots' limits are animated! The length of the `Iterable` must match the number of states."
   ]
  },
  {
   "cell_type": "code",
   "execution_count": null,
   "metadata": {},
   "outputs": [],
   "source": [
    "import ahlive as ah\n",
    "ah.Array([0, 1, 2], [4, 5, 6], xlim1s=[7, 8, 9]).render()"
   ]
  },
  {
   "cell_type": "markdown",
   "metadata": {},
   "source": [
    "If a scalar is passed, the limits are statically set to that value."
   ]
  },
  {
   "cell_type": "code",
   "execution_count": null,
   "metadata": {},
   "outputs": [],
   "source": [
    "import ahlive as ah\n",
    "ah.Array([0, 1, 2], [4, 5, 6], xlim1s=9).render()"
   ]
  },
  {
   "cell_type": "markdown",
   "metadata": {},
   "source": [
    "There are a couple built-in `str` options for limits.\n",
    "\n",
    "`fixed` sets the limits to the absolute min / max of all items and states."
   ]
  },
  {
   "cell_type": "code",
   "execution_count": null,
   "metadata": {},
   "outputs": [],
   "source": [
    "import ahlive as ah\n",
    "ah.Array([0, 1, 2], [4, 5, 6], xlim1s='fixed').render()"
   ]
  },
  {
   "cell_type": "markdown",
   "metadata": {},
   "source": [
    "`follow` follows the current *state*'s min/max across all items."
   ]
  },
  {
   "cell_type": "code",
   "execution_count": null,
   "metadata": {},
   "outputs": [],
   "source": [
    "import ahlive as ah\n",
    "ah.Array([0, 1, 2, 0], [4, 5, 6, 6], xlim1s='follow').render()"
   ]
  },
  {
   "cell_type": "markdown",
   "metadata": {},
   "source": [
    "`explore` is similar to `follow` except, the min/max doesn't decrease once explored."
   ]
  },
  {
   "cell_type": "code",
   "execution_count": null,
   "metadata": {},
   "outputs": [],
   "source": [
    "import ahlive as ah\n",
    "ah.Array([0, 1, 2, 0], [4, 5, 6, 6], xlim1s='explore').render()"
   ]
  },
  {
   "cell_type": "markdown",
   "metadata": {},
   "source": [
    "All these string limits can be suffixed with a desired median offset percentage (1 = 100%)."
   ]
  },
  {
   "cell_type": "code",
   "execution_count": null,
   "metadata": {},
   "outputs": [],
   "source": [
    "import ahlive as ah\n",
    "ah.Array([0, 1, 2, 0], [4, 5, 6, 6], xlim1s='explore_1').render()"
   ]
  },
  {
   "cell_type": "markdown",
   "metadata": {},
   "source": [
    "Or similarly, set `xmargins` or `ymargins` for offsets on both ends."
   ]
  },
  {
   "cell_type": "code",
   "execution_count": null,
   "metadata": {},
   "outputs": [],
   "source": [
    "import ahlive as ah\n",
    "ah.Array([0, 1, 2, 0], [4, 5, 6, 6], xlim1s='explore', xmargins=1).render()"
   ]
  },
  {
   "cell_type": "markdown",
   "metadata": {},
   "source": [
    "If setting `xlim0s` and `xlim1s` or `ylim0s` and `ylim1s` individually feels tedious, there is the option to set `xlims` and `ylims`."
   ]
  },
  {
   "cell_type": "code",
   "execution_count": null,
   "metadata": {},
   "outputs": [],
   "source": [
    "import ahlive as ah\n",
    "ah.Array([0, 1, 2, 0], [4, 5, 6, 6], xlims='explore', ylims='explore').render()"
   ]
  }
 ],
 "metadata": {},
 "nbformat": 4,
 "nbformat_minor": 4
}
