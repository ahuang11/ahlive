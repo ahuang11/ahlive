{
 "cells": [
  {
   "cell_type": "markdown",
   "metadata": {},
   "source": [
    "# Interpolating\n",
    "ahlive can make animations alive."
   ]
  },
  {
   "cell_type": "markdown",
   "metadata": {},
   "source": [
    "### interp\n",
    "There are various `interp` methods built-in."
   ]
  },
  {
   "cell_type": "code",
   "execution_count": null,
   "metadata": {},
   "outputs": [],
   "source": [
    "import ahlive as ah\n",
    "interp = \"linear\"\n",
    "ah.Array(\n",
    "    [0, 1], [1, 1], s=[18, 488],\n",
    "    interp=interp, inline_labels=interp,\n",
    "    xmargins=(0.1, 0.5), ymargins=0, figsize=(10, 0.75),\n",
    "    revert='traceback', style=\"bare\", watermark=\" \"\n",
    ").render()"
   ]
  },
  {
   "cell_type": "code",
   "execution_count": null,
   "metadata": {},
   "outputs": [],
   "source": [
    "import ahlive as ah\n",
    "interp = \"cubic\"\n",
    "ah.Array(\n",
    "    [0, 1], [1, 1], s=[18, 488],\n",
    "    interp=interp, inline_labels=interp,\n",
    "    xmargins=(0.1, 0.5), ymargins=0, figsize=(10, 0.75),\n",
    "    revert='traceback', style=\"bare\", watermark=\" \"\n",
    ").render()"
   ]
  },
  {
   "cell_type": "code",
   "execution_count": null,
   "metadata": {},
   "outputs": [],
   "source": [
    "import ahlive as ah\n",
    "interp = \"elastic\"\n",
    "ah.Array(\n",
    "    [0, 1], [1, 1], s=[18, 488],\n",
    "    interp=interp, inline_labels=interp,\n",
    "    xmargins=(0.1, 0.5), ymargins=0, figsize=(10, 0.75),\n",
    "    revert='traceback', style=\"bare\", watermark=\" \"\n",
    ").render()"
   ]
  },
  {
   "cell_type": "markdown",
   "metadata": {},
   "source": [
    "For a full list:"
   ]
  },
  {
   "cell_type": "code",
   "execution_count": null,
   "metadata": {},
   "outputs": [],
   "source": [
    "import ahlive as ah\n",
    "ah.easing.INTERPS"
   ]
  },
  {
   "cell_type": "markdown",
   "metadata": {},
   "source": [
    "### ease\n",
    "There are also three easing methods for each of these interp methods."
   ]
  },
  {
   "cell_type": "code",
   "execution_count": null,
   "metadata": {},
   "outputs": [],
   "source": [
    "import ahlive as ah\n",
    "\n",
    "ease = \"in_out\"\n",
    "ah.Array(\n",
    "    [0, 1], [1, 1], s=[18, 488],\n",
    "    interp=\"cubic\", ease=ease, inline_labels=ease,\n",
    "    xmargins=(0.1, 0.5), ymargins=0, figsize=(10, 0.75),\n",
    "    revert='traceback', style=\"bare\", watermark=\" \"\n",
    ").render()"
   ]
  },
  {
   "cell_type": "code",
   "execution_count": null,
   "metadata": {},
   "outputs": [],
   "source": [
    "import ahlive as ah\n",
    "\n",
    "ease = \"in\"\n",
    "ah.Array(\n",
    "    [0, 1], [1, 1], s=[18, 488],\n",
    "    interp=\"cubic\", ease=ease, inline_labels=ease,\n",
    "    xmargins=(0.1, 0.5), ymargins=0, figsize=(10, 0.75),\n",
    "    revert='traceback', style=\"bare\", watermark=\" \"\n",
    ").render()"
   ]
  },
  {
   "cell_type": "code",
   "execution_count": null,
   "metadata": {},
   "outputs": [],
   "source": [
    "import ahlive as ah\n",
    "\n",
    "ease = \"out\"\n",
    "ah.Array(\n",
    "    [0, 1], [1, 1], s=[18, 488],\n",
    "    interp=\"cubic\", ease=ease, inline_labels=ease,\n",
    "    xmargins=(0.1, 0.5), ymargins=0, figsize=(10, 0.75),\n",
    "    revert='traceback', style=\"bare\", watermark=\" \"\n",
    ").render()"
   ]
  },
  {
   "cell_type": "markdown",
   "metadata": {},
   "source": [
    "### frames\n",
    "The number of frames per transition to the next base state can be controlled using `frames`.\n",
    "\n",
    "Higher number of frames will be more smooth."
   ]
  },
  {
   "cell_type": "code",
   "execution_count": null,
   "metadata": {},
   "outputs": [],
   "source": [
    "import ahlive as ah\n",
    "ah.Array([0, 1], [0, 1], frames=25).render()"
   ]
  },
  {
   "cell_type": "markdown",
   "metadata": {},
   "source": [
    "Lower number of `frames` will be more choppy."
   ]
  },
  {
   "cell_type": "code",
   "execution_count": null,
   "metadata": {},
   "outputs": [],
   "source": [
    "import ahlive as ah\n",
    "ah.Array([0, 1], [0, 1], frames=5).render()"
   ]
  },
  {
   "cell_type": "markdown",
   "metadata": {},
   "source": [
    "<div class=\"alert alert-info\">\n",
    "\n",
    "`fps` can be set alongside `frames` to control the length of the animation.\n",
    "\n",
    "</div>"
   ]
  },
  {
   "cell_type": "markdown",
   "metadata": {},
   "source": [
    "### revert\n",
    "There are three `revert` methods.\n",
    "\n",
    "`boomerang` finds the shortest path to the initial state."
   ]
  },
  {
   "cell_type": "code",
   "execution_count": null,
   "metadata": {},
   "outputs": [],
   "source": [
    "import ahlive as ah\n",
    "ah.Array(\n",
    "    [0, 50, 1000], [0, 1000, 5000], revert='boomerang'\n",
    ").render()"
   ]
  },
  {
   "cell_type": "markdown",
   "metadata": {},
   "source": [
    "`traceback` backtracks the original path to the initial state."
   ]
  },
  {
   "cell_type": "code",
   "execution_count": null,
   "metadata": {},
   "outputs": [],
   "source": [
    "import ahlive as ah\n",
    "ah.Array(\n",
    "    [0, 50, 1000], [0, 1000, 5000], revert='traceback'\n",
    ").render()"
   ]
  },
  {
   "cell_type": "markdown",
   "metadata": {},
   "source": [
    "`rollback` is like traceback, but disregards the original path's `durations`."
   ]
  },
  {
   "cell_type": "code",
   "execution_count": null,
   "metadata": {},
   "outputs": [],
   "source": [
    "import ahlive as ah\n",
    "ah.Array(\n",
    "    [0, 50, 1000], [0, 1000, 5000], revert='rollback'\n",
    ").render()"
   ]
  },
  {
   "cell_type": "markdown",
   "metadata": {},
   "source": [
    "### stand-alone\n",
    "The `Easing` class be applied to any generic `Iterable`s."
   ]
  },
  {
   "cell_type": "code",
   "execution_count": null,
   "metadata": {},
   "outputs": [],
   "source": [
    "import numpy as np\n",
    "from ahlive import Easing\n",
    "\n",
    "array = np.array([0, 1, 3])\n",
    "easing = Easing(interp='cubic', ease='in')\n",
    "easing.interpolate(array)"
   ]
  }
 ],
 "metadata": {},
 "nbformat": 4,
 "nbformat_minor": 4
}
