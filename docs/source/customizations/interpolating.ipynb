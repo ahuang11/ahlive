{
 "cells": [
  {
   "cell_type": "markdown",
   "metadata": {},
   "source": [
    "# Interpolating\n",
    "ahlive can make animations alive."
   ]
  },
  {
   "cell_type": "markdown",
   "metadata": {},
   "source": [
    "### interp\n",
    "There are various `interp` methods built-in."
   ]
  },
  {
   "cell_type": "code",
   "execution_count": null,
   "metadata": {},
   "outputs": [],
   "source": [
    "import ahlive as ah\n",
    "ah.overlay([\n",
    "    ah.Array(\n",
    "        [0, 5, 10, 20, 0], [i] * 5,\n",
    "        s=[50, 150, 500, 1000, 50],\n",
    "        interp=interp, inline_labels=interp\n",
    "    ) for i, interp in enumerate(ah.easing.INTERPS)\n",
    "]).render()"
   ]
  },
  {
   "cell_type": "markdown",
   "metadata": {},
   "source": [
    "Or another way to view the differences."
   ]
  },
  {
   "cell_type": "code",
   "execution_count": null,
   "metadata": {},
   "outputs": [],
   "source": [
    "import numpy as np\n",
    "import pandas as pd\n",
    "import ahlive as ah\n",
    "\n",
    "x = np.random.rand(5) \n",
    "y = np.random.rand(5) \n",
    "s = np.random.rand(5) * 1000\n",
    "\n",
    "df = pd.concat(\n",
    "    pd.DataFrame({'x': x, 'y': y, 's': s, 'interp': interp})\n",
    "    for interp in ah.easing.INTERPS\n",
    ")\n",
    "\n",
    "ah.DataFrame(\n",
    "    df, 'x', 'y', join='layout', s='s', alpha=0.5,\n",
    "    interp='interp', label='interp'\n",
    ").cols(4).render()"
   ]
  },
  {
   "cell_type": "markdown",
   "metadata": {},
   "source": [
    "### ease\n",
    "There are also three easing methods for each of these interp methods."
   ]
  },
  {
   "cell_type": "code",
   "execution_count": null,
   "metadata": {},
   "outputs": [],
   "source": [
    "import ahlive as ah\n",
    "\n",
    "overlays = []\n",
    "for interp in ah.easing.INTERPS:\n",
    "    overlays.append(\n",
    "        ah.overlay([\n",
    "            ah.Array(\n",
    "                [0, 5, 10, 20, 0], [i] * 5,\n",
    "                s=[50, 150, 500, 1000, 50],\n",
    "                interp=interp, title=interp,\n",
    "                ease=ease, inline_labels=ease\n",
    "            ) for i, ease in enumerate(ah.easing.EASES)\n",
    "        ])\n",
    "    )\n",
    "ah.layout(overlays, cols=4).render()"
   ]
  },
  {
   "cell_type": "markdown",
   "metadata": {},
   "source": [
    "### frames\n",
    "The number of frames per transition to the next base state can be controlled using `frames`.\n",
    "\n",
    "Higher number of frames will be more smooth."
   ]
  },
  {
   "cell_type": "code",
   "execution_count": null,
   "metadata": {},
   "outputs": [],
   "source": [
    "import ahlive as ah\n",
    "ah.Array([0, 1], [0, 1], frames=30).render()"
   ]
  },
  {
   "cell_type": "markdown",
   "metadata": {},
   "source": [
    "Lower number of `frames` will be more choppy."
   ]
  },
  {
   "cell_type": "code",
   "execution_count": null,
   "metadata": {},
   "outputs": [],
   "source": [
    "import ahlive as ah\n",
    "ah.Array([0, 1], [0, 1], frames=5).render()"
   ]
  },
  {
   "cell_type": "markdown",
   "metadata": {},
   "source": [
    "<div class=\"alert alert-info\">\n",
    "\n",
    "`fps` can be set alongside `frames` to control the length of the animation.\n",
    "\n",
    "</div>"
   ]
  },
  {
   "cell_type": "markdown",
   "metadata": {},
   "source": [
    "### revert\n",
    "There are three `revert` methods.\n",
    "\n",
    "`boomerang` finds the shortest path to the initial state."
   ]
  },
  {
   "cell_type": "code",
   "execution_count": null,
   "metadata": {},
   "outputs": [],
   "source": [
    "import ahlive as ah\n",
    "ah.Array(\n",
    "    [0, 50, 1000], [0, 1000, 5000], revert='boomerang'\n",
    ").render()"
   ]
  },
  {
   "cell_type": "markdown",
   "metadata": {},
   "source": [
    "`traceback` backtracks the original path to the initial state."
   ]
  },
  {
   "cell_type": "code",
   "execution_count": null,
   "metadata": {},
   "outputs": [],
   "source": [
    "import ahlive as ah\n",
    "ah.Array(\n",
    "    [0, 50, 1000], [0, 1000, 5000], revert='traceback'\n",
    ").render()"
   ]
  },
  {
   "cell_type": "markdown",
   "metadata": {},
   "source": [
    "`rollback` is like traceback, but disregards the original path's `durations`."
   ]
  },
  {
   "cell_type": "code",
   "execution_count": null,
   "metadata": {},
   "outputs": [],
   "source": [
    "import ahlive as ah\n",
    "ah.Array(\n",
    "    [0, 50, 1000], [0, 1000, 5000], revert='rollback'\n",
    ").render()"
   ]
  },
  {
   "cell_type": "markdown",
   "metadata": {},
   "source": [
    "### stand-alone\n",
    "The `Easing` class be applied to any generic `Iterable`s."
   ]
  },
  {
   "cell_type": "code",
   "execution_count": null,
   "metadata": {},
   "outputs": [],
   "source": [
    "import numpy as np\n",
    "from ahlive import Easing\n",
    "\n",
    "array = np.array([0, 1, 2, 3])\n",
    "easing = Easing(interp='cubic', ease='in')\n",
    "easing.interpolate(array)"
   ]
  }
 ],
 "metadata": {
  "kernelspec": {
   "display_name": "Python 3",
   "language": "python",
   "name": "python3"
  },
  "language_info": {
   "codemirror_mode": {
    "name": "ipython",
    "version": 3
   },
   "file_extension": ".py",
   "mimetype": "text/x-python",
   "name": "python",
   "nbconvert_exporter": "python",
   "pygments_lexer": "ipython3",
   "version": "3.8.5"
  }
 },
 "nbformat": 4,
 "nbformat_minor": 4
}
