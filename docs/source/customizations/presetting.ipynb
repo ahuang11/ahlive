{
 "cells": [
  {
   "cell_type": "markdown",
   "metadata": {},
   "source": [
    "# Presetting\n",
    "\n",
    "Awesome presets, built-in!"
   ]
  },
  {
   "cell_type": "markdown",
   "metadata": {},
   "source": [
    "### preset keywords\n",
    "ahlive has these keywords for presetting data:\n",
    "\n",
    "ahlive keyword | charts | description\n",
    "--- | --- | --- |\n",
    "`trail` | `scatter` | have a line or point follow the original\n",
    "`race` | `bar`, `barh` | move bars around by ranking\n",
    "`delta` | `bar`, `barh` | highlight differences between adjacent bars\n",
    "`stacked` | `bar`, `barh` | pile bars atop rather than side-by-side\n",
    "`morph` | `line`, `scatter`, `bar`, `barh`, `errorbar`, `area` | plot all states simultaneously\n",
    "`morph_trail` | `line`, `scatter`, `errorbar`, `area` | plot all states simultaneously plus trail\n",
    "`morph_stacked` | `bar`, `barh` | plot all states simultaneously plus stacked\n",
    "`rotate` | `line`, `scatter`, `errorbar`, `area`, `pcolormesh`, `contourf`, `contour`, `hexbin`, `quiver`, `streamplot` | show data on a revolving globe \n",
    "`scan_x` | `pcolormesh`, `contourf`, `contour`, `hexbin`, `quiver`, `streamplot` | replace old data with new from left to right \n",
    "`scan_y` | `pcolormesh`, `contourf`, `contour`, `hexbin`, `quiver`, `streamplot` | replace old data with new from top to bottom"
   ]
  },
  {
   "cell_type": "markdown",
   "metadata": {},
   "source": [
    "### trail\n",
    "\n",
    "`trail` allows scatter charts to leave behind footprints."
   ]
  },
  {
   "cell_type": "code",
   "execution_count": null,
   "metadata": {},
   "outputs": [],
   "source": [
    "import ahlive as ah\n",
    "ah.Array([0, 1, 2], [3, 4, 5], color=\"red\", preset='trail').render()"
   ]
  },
  {
   "cell_type": "markdown",
   "metadata": {},
   "source": [
    "`trail` can be configured to `expire` in number of base states and only show a trailing `line`."
   ]
  },
  {
   "cell_type": "code",
   "execution_count": null,
   "metadata": {},
   "outputs": [],
   "source": [
    "import ahlive as ah\n",
    "arr = ah.Array([0, 1, 2], [0, 1, 0], chart='scatter', preset='trail')\n",
    "arr.config('preset', chart='line', expire=1).render()"
   ]
  },
  {
   "cell_type": "markdown",
   "metadata": {},
   "source": [
    "### race\n",
    "`race` will yield bar chart races as long as there is more than one item overlaid. It's also possible to customize `bar_label` and `ascending`."
   ]
  },
  {
   "cell_type": "code",
   "execution_count": null,
   "metadata": {},
   "outputs": [],
   "source": [
    "import ahlive as ah\n",
    "import pandas as pd\n",
    "x = ['a', 'a', 'b', 'b']\n",
    "y =  [4, 5, 3, 6]\n",
    "df = pd.DataFrame({'x': x, 'y': y})\n",
    "ah.DataFrame(\n",
    "    df, 'x', 'y', label='x', inline_labels='y',\n",
    "    chart='bar', preset='race'\n",
    ").config(\n",
    "    'preset', bar_label=False, ascending=True\n",
    ").render()"
   ]
  },
  {
   "cell_type": "markdown",
   "metadata": {},
   "source": [
    "### delta\n",
    "\n",
    "`delta` will highlight the differences in values for bar charts."
   ]
  },
  {
   "cell_type": "code",
   "execution_count": null,
   "metadata": {},
   "outputs": [],
   "source": [
    "import ahlive as ah\n",
    "import pandas as pd\n",
    "x = ['a', 'a', 'b', 'b']\n",
    "y =  [4, 5, 3, 8]\n",
    "df = pd.DataFrame({'x': x, 'y': y})\n",
    "ah.DataFrame(\n",
    "    df, 'x', 'y', label='x', inline_labels='y',\n",
    "    chart='barh', preset='delta'\n",
    ").render()"
   ]
  },
  {
   "cell_type": "markdown",
   "metadata": {},
   "source": [
    "### stacked\n",
    "\n",
    "Create `stacked` bar charts instead of the default side by side."
   ]
  },
  {
   "cell_type": "code",
   "execution_count": null,
   "metadata": {},
   "outputs": [],
   "source": [
    "import ahlive as ah\n",
    "\n",
    "x = [\"X\", \"X\"]\n",
    "y1 = [1, 0]\n",
    "y2 = [2, 0]\n",
    "\n",
    "(ah.Array(x, y1, label=\"A\", preset=\"stacked\", chart=\"bar\", revert=\"boomerang\") *\n",
    " ah.Array(x, y2, label=\"B\", preset=\"stacked\", chart=\"bar\", ylims=(0, 3))\n",
    ").render()"
   ]
  },
  {
   "cell_type": "markdown",
   "metadata": {},
   "source": [
    "### morph\n",
    "\n",
    "The initial `state`s are batched together and each `item` gets morphed into a new `state`, grouped by `group` as the new `item`s."
   ]
  },
  {
   "cell_type": "code",
   "execution_count": null,
   "metadata": {},
   "outputs": [],
   "source": [
    "import ahlive as ah\n",
    "\n",
    "x = [0, 1, 2, 3]\n",
    "y1 = [4, 5, 6, 7]\n",
    "y2 = [2, 10, 15, 20]\n",
    "\n",
    "(\n",
    "    ah.Array(x, y1, group=\"A\") *  # item 1, state 1\n",
    "    ah.Array(x, y2, group=\"A\") *  # item 1, state 2\n",
    "    ah.Array(x, y2, group=\"B\") *  # item 2, state 1\n",
    "    ah.Array(x, y1, group=\"B\", chart=\"line\", preset=\"morph\", fps=30, revert=\"boomerang\")  # item 2, state 2\n",
    ").render()"
   ]
  },
  {
   "cell_type": "markdown",
   "metadata": {},
   "source": [
    "### morph_trail\n",
    "\n",
    "Same as `morph` with a footprint."
   ]
  },
  {
   "cell_type": "code",
   "execution_count": null,
   "metadata": {},
   "outputs": [],
   "source": [
    "import ahlive as ah\n",
    "\n",
    "x = [0, 1, 2]\n",
    "y1 = [0, 36, 0]\n",
    "y2 = [0, 72, 0]\n",
    "y3 = [0, 144, 0]\n",
    "\n",
    "(\n",
    "    ah.Array(x, y1, group=\"a\") *\n",
    "    ah.Array(x, y3, group=\"a\") *\n",
    "    ah.Array(x, y2, group=\"b\") *\n",
    "    ah.Array(x, y1, group=\"b\", preset=\"morph_trail\", chart=\"line\", revert=\"boomerang\")\n",
    ").config(\n",
    "    \"preset\", color=\"gray\"\n",
    ").render()"
   ]
  },
  {
   "cell_type": "markdown",
   "metadata": {},
   "source": [
    "### morph_stacked\n",
    "\n",
    "Same as `morph`, but for `bar` and `barh` charts: stacking separate `group`s."
   ]
  },
  {
   "cell_type": "code",
   "execution_count": null,
   "metadata": {},
   "outputs": [],
   "source": [
    "import ahlive as ah\n",
    "\n",
    "x = [0, 1]\n",
    "y1 = [0, 0.8]\n",
    "y2 = [1, 0.2]\n",
    "\n",
    "(\n",
    "    ah.Array(x, y1, group=\"A\") *  # item 1, state 1\n",
    "    ah.Array(x, y2, group=\"A\") *  # item 1, state 2\n",
    "    ah.Array(x, y2, group=\"B\") *  # item 2, state 1\n",
    "    ah.Array(x, y1, group=\"B\", preset=\"morph_stacked\", ylims=\"fixed\",\n",
    "             fps=30, revert=\"boomerang\", chart=\"barh\")  # item 2, state 2\n",
    ").render()"
   ]
  },
  {
   "cell_type": "markdown",
   "metadata": {},
   "source": [
    "### rotate\n",
    "\n",
    "`rotate` will yie\n",
    "ld a rotating globe for gridded charts. Geostationary views of the world can be achieved through `worldwide=True`, and the start and end of the central longitudes can be specified as a tuple in `central_lon`."
   ]
  },
  {
   "cell_type": "code",
   "execution_count": null,
   "metadata": {},
   "outputs": [],
   "source": [
    "import xarray as xr\n",
    "import ahlive as ah\n",
    "ds = xr.tutorial.open_dataset('air_temperature').isel(time=slice(0, 8))\n",
    "ah.Dataset(\n",
    "    ds, 'lon', 'lat', 'air', crs='platecarree', preset='rotate',\n",
    "    central_lon=(-90, -110), worldwide=True\n",
    ").render()"
   ]
  },
  {
   "cell_type": "markdown",
   "metadata": {},
   "source": [
    "### scan_x\n",
    "\n",
    "For each state, `scan_x` will scan left to right, replacing the old state's value with the new state, and the `scan` can be reverted with `traceback`."
   ]
  },
  {
   "cell_type": "code",
   "execution_count": null,
   "metadata": {},
   "outputs": [],
   "source": [
    "import xarray as xr\n",
    "import ahlive as ah\n",
    "ds = xr.tutorial.open_dataset('air_temperature').isel(time=[0, 120])\n",
    "ah.Dataset(\n",
    "    ds, 'lon', 'lat', 'air', state_labels='time',\n",
    "    crs='platecarree', preset='scan_x', fps=30, revert=\"traceback\"\n",
    ").render()"
   ]
  },
  {
   "cell_type": "markdown",
   "metadata": {},
   "source": [
    "### scan_y\n",
    "\n",
    "There's an equivalent `scan_y` which goes from top to down."
   ]
  }
 ],
 "metadata": {},
 "nbformat": 4,
 "nbformat_minor": 4
}
