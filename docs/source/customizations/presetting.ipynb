{
 "cells": [
  {
   "cell_type": "markdown",
   "metadata": {},
   "source": [
    "# Presetting\n",
    "\n",
    "Awesome presets, built-in!"
   ]
  },
  {
   "cell_type": "markdown",
   "metadata": {},
   "source": [
    "### trail\n",
    "\n",
    "`trail` allows scatter charts to leave behind footprints."
   ]
  },
  {
   "cell_type": "code",
   "execution_count": null,
   "metadata": {},
   "outputs": [],
   "source": [
    "import ahlive as ah\n",
    "ah.Array([0, 1, 2], [3, 4, 5], preset='trail').render()"
   ]
  },
  {
   "cell_type": "markdown",
   "metadata": {},
   "source": [
    "`trail` can be configured to `expire` in number of base states and only show a trailing `line`."
   ]
  },
  {
   "cell_type": "code",
   "execution_count": null,
   "metadata": {},
   "outputs": [],
   "source": [
    "import ahlive as ah\n",
    "arr = ah.Array([0, 2, 10], [3, 5, 50], chart='scatter', preset='trail')\n",
    "arr.config('preset', chart='line', expire=1).render()"
   ]
  },
  {
   "cell_type": "markdown",
   "metadata": {},
   "source": [
    "### race\n",
    "`race` will yield bar chart races as long as there is more than one item overlaid."
   ]
  },
  {
   "cell_type": "code",
   "execution_count": null,
   "metadata": {},
   "outputs": [],
   "source": [
    "import ahlive as ah\n",
    "import pandas as pd\n",
    "x = ['a', 'a', 'b', 'b']\n",
    "y =  [4, 5, 3, 8]\n",
    "df = pd.DataFrame({'x': x, 'y': y})\n",
    "ah.DataFrame(\n",
    "    df, 'x', 'y', label='x', inline_labels='y',\n",
    "    chart='barh', preset='race'\n",
    ").render()"
   ]
  },
  {
   "cell_type": "markdown",
   "metadata": {},
   "source": [
    "To disable the inline `bar_label`:"
   ]
  },
  {
   "cell_type": "code",
   "execution_count": null,
   "metadata": {},
   "outputs": [],
   "source": [
    "import ahlive as ah\n",
    "import pandas as pd\n",
    "x = ['a', 'a', 'b', 'b']\n",
    "y =  [4, 5, 3, 8]\n",
    "df = pd.DataFrame({'x': x, 'y': y})\n",
    "ah.DataFrame(\n",
    "    df, 'x', 'y', label='x', inline_labels='y',\n",
    "    chart='barh', preset='race'\n",
    ").config('preset', bar_label=False).render()"
   ]
  },
  {
   "cell_type": "markdown",
   "metadata": {},
   "source": [
    "### delta\n",
    "\n",
    "`delta` will highlight the differences in values for bar charts."
   ]
  },
  {
   "cell_type": "code",
   "execution_count": null,
   "metadata": {},
   "outputs": [],
   "source": [
    "import ahlive as ah\n",
    "import pandas as pd\n",
    "x = ['a', 'a', 'b', 'b']\n",
    "y =  [4, 5, 3, 8]\n",
    "df = pd.DataFrame({'x': x, 'y': y})\n",
    "ah.DataFrame(\n",
    "    df, 'x', 'y', label='x', inline_labels='y',\n",
    "    chart='bar', preset='delta'\n",
    ").render()"
   ]
  },
  {
   "cell_type": "markdown",
   "metadata": {},
   "source": [
    "### series\n",
    "\n",
    "`series` is for creating a continuous series of bars."
   ]
  },
  {
   "cell_type": "code",
   "execution_count": null,
   "metadata": {},
   "outputs": [],
   "source": [
    "import ahlive as ah\n",
    "import pandas as pd\n",
    "x = [0, 4, 5]\n",
    "y =  [-1, 10, 35]\n",
    "ah.Array(x, y, chart='bar', preset='series').render()"
   ]
  },
  {
   "cell_type": "markdown",
   "metadata": {},
   "source": [
    "<div class=\"alert alert-info\">\n",
    "\n",
    "`series` is often used for timeseries; e.g. overlaying a line showing smoothed, rolling mean values with a bar series showing actual values.\n",
    "\n",
    "</div>"
   ]
  },
  {
   "cell_type": "markdown",
   "metadata": {},
   "source": [
    "### rotate\n",
    "\n",
    "`rotate` will yield a rotating globe for gridded charts."
   ]
  },
  {
   "cell_type": "code",
   "execution_count": null,
   "metadata": {},
   "outputs": [],
   "source": [
    "import xarray as xr\n",
    "import ahlive as ah\n",
    "ds = xr.tutorial.open_dataset('air_temperature').isel(time=slice(0, 8))\n",
    "ah.Dataset(ds, 'lon', 'lat', 'air', preset='rotate').render()"
   ]
  },
  {
   "cell_type": "markdown",
   "metadata": {},
   "source": [
    "Geostationary views of the world can be achieved through `worldwide=True`."
   ]
  },
  {
   "cell_type": "code",
   "execution_count": null,
   "metadata": {},
   "outputs": [],
   "source": [
    "import xarray as xr\n",
    "import ahlive as ah\n",
    "ds = xr.tutorial.open_dataset('air_temperature').isel(time=slice(0, 8))\n",
    "ah.Dataset(ds, 'lon', 'lat', 'air', crs='platecarree', preset='rotate', worldwide=True).render()"
   ]
  },
  {
   "cell_type": "markdown",
   "metadata": {},
   "source": [
    "The start and end of the central longitudes can be specified as a tuple in `central_lon`."
   ]
  },
  {
   "cell_type": "code",
   "execution_count": null,
   "metadata": {},
   "outputs": [],
   "source": [
    "import xarray as xr\n",
    "import ahlive as ah\n",
    "ds = xr.tutorial.open_dataset('air_temperature').isel(time=slice(0, 8))\n",
    "ah.Dataset(\n",
    "    ds, 'lon', 'lat', 'air', crs='platecarree', preset='rotate',\n",
    "    central_lon=(0, 360), worldwide=True).render()"
   ]
  },
  {
   "cell_type": "markdown",
   "metadata": {},
   "source": [
    "### scan_x\n",
    "\n",
    "For each state, `scan_x` will scan left to right, replacing the old state's value with the new state."
   ]
  },
  {
   "cell_type": "code",
   "execution_count": null,
   "metadata": {},
   "outputs": [],
   "source": [
    "import xarray as xr\n",
    "import ahlive as ah\n",
    "ds = xr.tutorial.open_dataset('air_temperature').isel(time=[0, 120])\n",
    "ah.Dataset(\n",
    "    ds, 'lon', 'lat', 'air', state_labels='time',\n",
    "    crs='platecarree', preset='scan_x', frames=2,\n",
    ").render()"
   ]
  },
  {
   "cell_type": "markdown",
   "metadata": {},
   "source": [
    "### scan_y\n",
    "\n",
    "There's an equivalent `scan_y` which goes from top down and the `scan` can be reverted with `traceback`."
   ]
  },
  {
   "cell_type": "code",
   "execution_count": null,
   "metadata": {},
   "outputs": [],
   "source": [
    "import xarray as xr\n",
    "import ahlive as ah\n",
    "ds = xr.tutorial.open_dataset('air_temperature').isel(time=[0, 480])\n",
    "ah.Dataset(\n",
    "    ds, 'lon', 'lat', 'air', state_labels='time',\n",
    "    crs='platecarree', preset='scan_y', frames=2,\n",
    "    revert='traceback'\n",
    ").render()"
   ]
  }
 ],
 "metadata": {},
 "nbformat": 4,
 "nbformat_minor": 4
}
