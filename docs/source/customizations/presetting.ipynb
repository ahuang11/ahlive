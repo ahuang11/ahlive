{
 "cells": [
  {
   "cell_type": "markdown",
   "metadata": {},
   "source": [
    "# Presetting\n",
    "\n",
    "Awesome presets, built-in!"
   ]
  },
  {
   "cell_type": "markdown",
   "metadata": {},
   "source": [
    "### trail\n",
    "\n",
    "`trail` allows scatter charts to leave behind footprints."
   ]
  },
  {
   "cell_type": "code",
   "execution_count": null,
   "metadata": {
    "ExecuteTime": {
     "end_time": "2021-09-03T18:00:16.976662Z",
     "start_time": "2021-09-03T18:00:07.876481Z"
    }
   },
   "outputs": [],
   "source": [
    "import ahlive as ah\n",
    "ah.Array([0, 1, 2], [3, 4, 5], preset='trail').render()"
   ]
  },
  {
   "cell_type": "markdown",
   "metadata": {},
   "source": [
    "`trail` can be configured to `expire` in number of base states and only show a trailing `line`."
   ]
  },
  {
   "cell_type": "code",
   "execution_count": null,
   "metadata": {
    "ExecuteTime": {
     "end_time": "2021-09-03T18:00:22.182005Z",
     "start_time": "2021-09-03T18:00:16.979812Z"
    }
   },
   "outputs": [],
   "source": [
    "import ahlive as ah\n",
    "arr = ah.Array([0, 2, 10], [3, 5, 50], chart='scatter', preset='trail')\n",
    "arr.config('preset', chart='line', expire=1).render()"
   ]
  },
  {
   "cell_type": "markdown",
   "metadata": {},
   "source": [
    "### race\n",
    "`race` will yield bar chart races as long as there is more than one item overlaid. It's also possible to customize `bar_label` and `ascending`."
   ]
  },
  {
   "cell_type": "code",
   "execution_count": null,
   "metadata": {
    "ExecuteTime": {
     "end_time": "2021-09-03T18:09:49.368899Z",
     "start_time": "2021-09-03T18:09:44.804394Z"
    }
   },
   "outputs": [],
   "source": [
    "import ahlive as ah\n",
    "import pandas as pd\n",
    "x = ['a', 'a', 'b', 'b']\n",
    "y =  [4, 5, 3, 8]\n",
    "df = pd.DataFrame({'x': x, 'y': y})\n",
    "ah.DataFrame(\n",
    "    df, 'x', 'y', label='x', inline_labels='y',\n",
    "    chart='barh', preset='race'\n",
    ").config(\n",
    "    'preset', bar_label=False, ascending=True\n",
    ").render()"
   ]
  },
  {
   "cell_type": "markdown",
   "metadata": {},
   "source": [
    "### delta\n",
    "\n",
    "`delta` will highlight the differences in values for bar charts."
   ]
  },
  {
   "cell_type": "code",
   "execution_count": null,
   "metadata": {
    "ExecuteTime": {
     "end_time": "2021-09-03T18:00:36.110911Z",
     "start_time": "2021-09-03T18:00:31.201903Z"
    }
   },
   "outputs": [],
   "source": [
    "import ahlive as ah\n",
    "import pandas as pd\n",
    "x = ['a', 'a', 'b', 'b']\n",
    "y =  [4, 5, 3, 8]\n",
    "df = pd.DataFrame({'x': x, 'y': y})\n",
    "ah.DataFrame(\n",
    "    df, 'x', 'y', label='x', inline_labels='y',\n",
    "    chart='bar', preset='delta'\n",
    ").render()"
   ]
  },
  {
   "cell_type": "markdown",
   "metadata": {},
   "source": [
    "### series\n",
    "\n",
    "`series` is for creating a continuous series of bars."
   ]
  },
  {
   "cell_type": "code",
   "execution_count": null,
   "metadata": {
    "ExecuteTime": {
     "end_time": "2021-09-03T18:00:42.063290Z",
     "start_time": "2021-09-03T18:00:36.113401Z"
    }
   },
   "outputs": [],
   "source": [
    "import ahlive as ah\n",
    "import pandas as pd\n",
    "x = [0, 4, 5]\n",
    "y =  [-1, 10, 35]\n",
    "ah.Array(x, y, chart='bar', preset='series').render()"
   ]
  },
  {
   "cell_type": "markdown",
   "metadata": {},
   "source": [
    "<div class=\"alert alert-info\">\n",
    "\n",
    "`series` is often used for timeseries; e.g. overlaying a line showing smoothed, rolling mean values with a bar series showing actual values.\n",
    "\n",
    "</div>"
   ]
  },
  {
   "cell_type": "markdown",
   "metadata": {},
   "source": [
    "### rotate\n",
    "\n",
    "`rotate` will yield a rotating globe for gridded charts. Geostationary views of the world can be achieved through `worldwide=True`, and the start and end of the central longitudes can be specified as a tuple in `central_lon`."
   ]
  },
  {
   "cell_type": "code",
   "execution_count": null,
   "metadata": {
    "ExecuteTime": {
     "end_time": "2021-09-03T18:10:54.463010Z",
     "start_time": "2021-09-03T18:10:44.157072Z"
    }
   },
   "outputs": [],
   "source": [
    "import xarray as xr\n",
    "import ahlive as ah\n",
    "ds = xr.tutorial.open_dataset('air_temperature').isel(time=slice(0, 8))\n",
    "ah.Dataset(\n",
    "    ds, 'lon', 'lat', 'air', crs='platecarree', preset='rotate',\n",
    "    central_lon=(-90, -130), worldwide=True).render()"
   ]
  },
  {
   "cell_type": "markdown",
   "metadata": {},
   "source": [
    "### scan_x\n",
    "\n",
    "For each state, `scan_x` will scan left to right, replacing the old state's value with the new state, and the `scan` can be reverted with `traceback`."
   ]
  },
  {
   "cell_type": "code",
   "execution_count": null,
   "metadata": {
    "ExecuteTime": {
     "end_time": "2021-09-03T18:07:01.652401Z",
     "start_time": "2021-09-03T18:06:24.988347Z"
    }
   },
   "outputs": [],
   "source": [
    "import xarray as xr\n",
    "import ahlive as ah\n",
    "ds = xr.tutorial.open_dataset('air_temperature').isel(time=[0, 120])\n",
    "ah.Dataset(\n",
    "    ds, 'lon', 'lat', 'air', state_labels='time',\n",
    "    crs='platecarree', preset='scan_x', fps=30, revert=\"traceback\"\n",
    ").render()"
   ]
  },
  {
   "cell_type": "markdown",
   "metadata": {},
   "source": [
    "### scan_y\n",
    "\n",
    "There's an equivalent `scan_y` which goes from top to down."
   ]
  },
  {
   "cell_type": "markdown",
   "metadata": {},
   "source": [
    "### morph\n",
    "\n",
    "The initial `state`s are batched together and each `item` gets morphed into a new `state`, grouped by `group`."
   ]
  },
  {
   "cell_type": "code",
   "execution_count": null,
   "metadata": {
    "ExecuteTime": {
     "end_time": "2021-09-03T18:06:02.125304Z",
     "start_time": "2021-09-03T18:05:53.972819Z"
    }
   },
   "outputs": [],
   "source": [
    "import ahlive as ah\n",
    "\n",
    "x = [0, 1, 2, 3]\n",
    "y1 = [4, 5, 6, 7]\n",
    "y2 = [2, 10, 15, 20]\n",
    "\n",
    "(\n",
    "    ah.Array(x, y1, group=\"A\", preset=\"morph\", fps=30, revert=\"boomerang\") *  # item 1, state 1\n",
    "    ah.Array(x, y2, group=\"A\") *  # item 1, state 2\n",
    "    ah.Array(x, y2, group=\"B\") *  # item 2, state 1\n",
    "    ah.Array(x, y1, group=\"B\", chart=\"line\")  # item 2, state 2\n",
    ").render()"
   ]
  }
 ],
 "metadata": {
  "kernelspec": {
   "display_name": "Python 3",
   "language": "python",
   "name": "python3"
  },
  "language_info": {
   "codemirror_mode": {
    "name": "ipython",
    "version": 3
   },
   "file_extension": ".py",
   "mimetype": "text/x-python",
   "name": "python",
   "nbconvert_exporter": "python",
   "pygments_lexer": "ipython3",
   "version": "3.8.5"
  }
 },
 "nbformat": 4,
 "nbformat_minor": 4
}
