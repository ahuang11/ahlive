{
 "cells": [
  {
   "cell_type": "markdown",
   "metadata": {},
   "source": [
    "### Transforming\n",
    "\n",
    "Transform the ahlive objects on the go!"
   ]
  },
  {
   "cell_type": "markdown",
   "metadata": {},
   "source": [
    "### invert\n",
    "\n",
    "`invert` swaps the `item` and `state` dimensions."
   ]
  },
  {
   "cell_type": "code",
   "execution_count": null,
   "metadata": {},
   "outputs": [],
   "source": [
    "import pandas as pd\n",
    "import ahlive as ah\n",
    "\n",
    "df = pd.DataFrame({'x': [1, 2, 3], 'y': [3, 4, 5], 'z': [5, 6, 7]}).melt('x')\n",
    "ah_df = ah.DataFrame(df, 'x', 'value', label='variable')\n",
    "ah_df_inv = ah_df.invert()\n",
    "\n",
    "print('Original', ah_df)\n",
    "print('Inverted', ah_df_inv)\n",
    "\n",
    "ah_df.render()\n",
    "ah_df_inv.render()"
   ]
  },
  {
   "cell_type": "markdown",
   "metadata": {},
   "source": [
    "`label`, `group`, and `state_labels` all can be passed to the `invert` method to override existing values."
   ]
  },
  {
   "cell_type": "code",
   "execution_count": null,
   "metadata": {},
   "outputs": [],
   "source": [
    "import pandas as pd\n",
    "import ahlive as ah\n",
    "\n",
    "df = pd.DataFrame({'x': [1, 2, 3], 'y': [3, 4, 5], 'z': [5, 6, 7]}).melt('x')\n",
    "ah_df = ah.DataFrame(df, 'x', 'value', label='variable')\n",
    "ah_df_inv = ah_df.invert(group=\"A\", state_labels=['1', '2'])\n",
    "ah_df_inv.render()"
   ]
  }
 ],
 "metadata": {
  "kernelspec": {
   "display_name": "Python 3",
   "language": "python",
   "name": "python3"
  },
  "language_info": {
   "codemirror_mode": {
    "name": "ipython",
    "version": 3
   },
   "file_extension": ".py",
   "mimetype": "text/x-python",
   "name": "python",
   "nbconvert_exporter": "python",
   "pygments_lexer": "ipython3",
   "version": "3.8.5"
  }
 },
 "nbformat": 4,
 "nbformat_minor": 4
}
