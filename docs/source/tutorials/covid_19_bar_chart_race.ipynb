{
 "cells": [
  {
   "cell_type": "markdown",
   "metadata": {},
   "source": [
    "# COVID-19 Bar Chart Race\n",
    "This tutorial will visualize COVID-19 data as a bar chart race and will use a preprocessed dataset. For understanding how to process and serialize a dataset step by step, see [COVID-19 Time Series](covid_19_time_series.ipynb) tutorial (albeit the preprocessed dataset here differs slightly).\n",
    "\n",
    "Click [here](covid_19_bar_chart_race.ipynb#final-animation) to see the full animation."
   ]
  },
  {
   "cell_type": "markdown",
   "metadata": {},
   "source": [
    "### load data\n",
    "\n",
    "Here, we import ahlive and open a partially preprocessed dataset."
   ]
  },
  {
   "cell_type": "code",
   "execution_count": null,
   "metadata": {},
   "outputs": [],
   "source": [
    "import ahlive as ah\n",
    "import pandas as pd\n",
    "df = ah.tutorial.open_dataset('covid19_global_cases')\n",
    "display(df)"
   ]
  },
  {
   "cell_type": "markdown",
   "metadata": {},
   "source": [
    "### preprocess data"
   ]
  },
  {
   "cell_type": "markdown",
   "metadata": {},
   "source": [
    "To have a bit more variety from the previous tutorial, we can preprocess the dataset to be a 7 day rolling average of new daily confirmed cases. It's also better if we convert the values to integer because 0.75 case doesn't really make sense. Finally we subset a timeframe, starting in March."
   ]
  },
  {
   "cell_type": "code",
   "execution_count": null,
   "metadata": {},
   "outputs": [],
   "source": [
    "df_diff = df.pivot_table(\n",
    "    'cases', columns='country_region', index='date'\n",
    ").diff()\n",
    "df_roll = df_diff.rolling('7D').mean().dropna().astype(int)\n",
    "df_melt = df_roll.dropna().reset_index().melt(\n",
    "    'date', value_name='new_cases'\n",
    ").sort_values('date')\n",
    "df_new = df_melt.loc[df_melt['date'] >= '2020-03-01']\n",
    "display(df_new)"
   ]
  },
  {
   "cell_type": "markdown",
   "metadata": {},
   "source": [
    "### serialize data"
   ]
  },
  {
   "cell_type": "markdown",
   "metadata": {},
   "source": [
    "Then we serialize the `country_region` as the `x` and `cases` as the `y`, also setting `country_region` as the `label` to group them as separate items. And for this tutorial, we will plot the confirmed new cases with `chart='bar'` and `preset='race'`, i.e. a bar chart race. We can go for a test run by setting `animate='test'` and calling `render`."
   ]
  },
  {
   "cell_type": "code",
   "execution_count": null,
   "metadata": {},
   "outputs": [],
   "source": [
    "ah_df = ah.DataFrame(\n",
    "    df_new, 'country_region', 'new_cases', label='country_region',\n",
    "    chart='bar', preset='race', animate='tail')\n",
    "print(ah_df)\n",
    "ah_df.render()"
   ]
  },
  {
   "cell_type": "markdown",
   "metadata": {},
   "source": [
    "### add labels"
   ]
  },
  {
   "cell_type": "markdown",
   "metadata": {},
   "source": [
    "Not too shabby for a test run, but we can make a some improvements.\n",
    "\n",
    "1. Scale the `new_cases` by 1000 to be more intuitive and update `ylabel`.\n",
    "\n",
    "2. Use `barh` instead of `bar`.\n",
    "\n",
    "3. Set `ylims='explore'` to lessen crowding of `bar_label`.\n",
    "\n",
    "4. Add `state_labels` to show the `date`.\n",
    "\n",
    "5. Add `inline_labels` to show the `cases`.\n",
    "\n",
    "6. Add `title` to highlight the data shown is a 7-day rolling mean.\n",
    "\n",
    "7. Add a `note` to cite the data.\n",
    "\n",
    "8. Increase `figsize` to prevent left side from being cut-off.\n",
    "\n",
    "9. Add \"k\" suffix to `inline_label` through `config`."
   ]
  },
  {
   "cell_type": "code",
   "execution_count": null,
   "metadata": {},
   "outputs": [],
   "source": [
    "df_scale = df_new.copy()\n",
    "df_scale['new_cases'] /= 1000\n",
    "\n",
    "ah_df = ah.DataFrame(\n",
    "    df_scale, 'country_region', 'new_cases', label='country_region',\n",
    "    chart='barh', preset='race', ylabel='New Cases [thousand]',\n",
    "    ylims='explore', state_labels='date', inline_labels='new_cases',\n",
    "    title='New Confirmed COVID-19 Cases per Day, 7-Day Rolling Average',\n",
    "    note='Source: JHU CSSE COVID-19', figsize=(15, 10),\n",
    "    animate='tail'\n",
    ").config('inline', suffix='k')\n",
    "ah_df.render()"
   ]
  },
  {
   "cell_type": "markdown",
   "metadata": {},
   "source": [
    "<div class=\"alert alert-warning\">\n",
    "\n",
    "The bars' labels are jumping around instantaneously here. `frames` can be set to a higher number to show a proper animation, but for the sake of this tutorials' filesize, it will be left until the end.\n",
    "\n",
    "</div>"
   ]
  },
  {
   "cell_type": "markdown",
   "metadata": {},
   "source": [
    "### tweak further"
   ]
  },
  {
   "cell_type": "markdown",
   "metadata": {},
   "source": [
    "We can normalize by population (per 100k) as well."
   ]
  },
  {
   "cell_type": "code",
   "execution_count": null,
   "metadata": {},
   "outputs": [],
   "source": [
    "df_pop = ah.tutorial.open_dataset('covid19_population')[['combined_key', 'population']]\n",
    "df_norm = df_scale.merge(df_pop, left_on='country_region', right_on='combined_key')\n",
    "df_norm['new_cases'] = df_norm['new_cases'] * 1000 / df_norm['population']\n",
    "df_norm['new_cases'] *= 1e5"
   ]
  },
  {
   "cell_type": "markdown",
   "metadata": {},
   "source": [
    "And also increase the number of bars shown with `limit` and fix `xlim0s=0`."
   ]
  },
  {
   "cell_type": "code",
   "execution_count": null,
   "metadata": {},
   "outputs": [],
   "source": [
    "ah_df = ah.DataFrame(\n",
    "    df_norm, 'country_region', 'new_cases', label='country_region',\n",
    "    chart='barh', preset='race', ylabel='New Cases / 100k People',\n",
    "    ylims='explore', state_labels='date', inline_labels='new_cases',\n",
    "    title='New Confirmed COVID-19 Cases per Day, 7-Day Rolling Average',\n",
    "    note='Source: JHU CSSE COVID-19', figsize=(15, 10), xlim0s=0,\n",
    "    animate='tail'\n",
    ").config('inline', suffix='k').config('preset', limit=7)\n",
    "ah_df.render()"
   ]
  },
  {
   "cell_type": "markdown",
   "metadata": {},
   "source": [
    "We can fix the length of the `country_region` labels and manually edit the finalized `xr.Dataset`, hiding `bar_label` where values are less than 10."
   ]
  },
  {
   "cell_type": "code",
   "execution_count": null,
   "metadata": {},
   "outputs": [],
   "source": [
    "df_short = df_norm.copy()\n",
    "df_short['country_region'] = df_short['country_region'].str[:20]\n",
    "\n",
    "ah_df = ah.DataFrame(\n",
    "    df_short, 'country_region', 'new_cases', label='country_region',\n",
    "    chart='barh', preset='race', ylabel='New Cases / 100k People',\n",
    "    ylims='explore', state_labels='date', inline_labels='new_cases',\n",
    "    title='New Confirmed COVID-19 Cases per Day, 7-Day Rolling Average',\n",
    "    note='Source: JHU CSSE COVID-19', figsize=(15, 10), xlim0s=0,\n",
    "    animate='test'\n",
    ").config('inline', suffix='/ 100k').config('preset', limit=7)\n",
    "ah_df = ah_df.finalize()\n",
    "ds = ah_df.data[1, 1]\n",
    "ds['bar_label'] = ds['bar_label'].where(ds['y'] > 10, '')\n",
    "ah_df.data[1, 1] = ds\n",
    "ah_df.render()"
   ]
  },
  {
   "cell_type": "markdown",
   "metadata": {},
   "source": [
    "### final animation"
   ]
  },
  {
   "cell_type": "markdown",
   "metadata": {},
   "source": [
    "Looks good; can do a full animation by removing the `animate` keyword. For the sake of this tutorial's file size, the animation will begin from January 2021."
   ]
  },
  {
   "cell_type": "code",
   "execution_count": null,
   "metadata": {},
   "outputs": [],
   "source": [
    "df_cut = df_short.loc[df_short['date'] > '2021-01-01']\n",
    "\n",
    "ah_df = ah.DataFrame(\n",
    "    df_cut, 'country_region', 'new_cases', label='country_region',\n",
    "    chart='barh', preset='race', ylabel='New Cases / 100k People',\n",
    "    ylims='explore', state_labels='date', inline_labels='new_cases',\n",
    "    title='New Confirmed COVID-19 Cases per Day, 7-Day Rolling Average',\n",
    "    note='Source: JHU CSSE COVID-19', figsize=(15, 10), xlim0s=0,\n",
    "    frames=10, fps=25\n",
    ").config('inline', suffix='/ 100k').config('preset', limit=7)\n",
    "\n",
    "ah_df = ah_df.finalize()\n",
    "ds = ah_df.data[1, 1]\n",
    "ds['bar_label'] = ds['bar_label'].where(ds['y'] > 10, '')\n",
    "ah_df.data[1, 1] = ds\n",
    "ah_df.render()"
   ]
  },
  {
   "cell_type": "markdown",
   "metadata": {},
   "source": [
    "That's about it for this tutorial. See the next tutorial to see how to create a geographic map!"
   ]
  },
  {
   "cell_type": "markdown",
   "metadata": {},
   "source": [
    "### full code\n",
    "\n",
    "```python\n",
    "import ahlive as ah\n",
    "import pandas as pd\n",
    "\n",
    "# load dataset\n",
    "df = ah.tutorial.open_dataset('covid19_global_cases')\n",
    "\n",
    "# compute new cases per day\n",
    "df_diff = df.pivot_table(\n",
    "    'cases', columns='country_region', index='date'\n",
    ").diff()\n",
    "df_roll = df_diff.rolling('7D').mean().dropna().astype(int)\n",
    "df_melt = df_roll.dropna().reset_index().melt(\n",
    "    'date', value_name='new_cases'\n",
    ").sort_values('date')\n",
    "df_new = df_melt.loc[df_melt['date'] >= '2020-03-01']\n",
    "\n",
    "# scale by a 1000\n",
    "df_scale = df_new.copy()\n",
    "df_scale['new_cases'] /= 1000\n",
    "\n",
    "# normalize by population\n",
    "df_pop = ah.tutorial.open_dataset('covid19_population')[['combined_key', 'population']]\n",
    "df_norm = df_scale.merge(df_pop, left_on='country_region', right_on='combined_key')\n",
    "df_norm['new_cases'] = df_norm['new_cases'] * 1000 / df_norm['population']\n",
    "df_norm['new_cases'] *= 1e5\n",
    "\n",
    "# shorten labels\n",
    "df_short = df_norm.copy()\n",
    "df_short['country_region'] = df_short['country_region'].str[:20]\n",
    "\n",
    "# cut animation\n",
    "df_cut = df_short.loc[df_short['date'] > '2021-01-01']\n",
    "\n",
    "# serialize\n",
    "ah_df = ah.DataFrame(\n",
    "    df_cut, 'country_region', 'new_cases', label='country_region',\n",
    "    chart='barh', preset='race', ylabel='New Cases / 100k People',\n",
    "    ylims='explore', state_labels='date', inline_labels='new_cases',\n",
    "    title='New Confirmed COVID-19 Cases per Day, 7-Day Rolling Average',\n",
    "    note='Source: JHU CSSE COVID-19', figsize=(15, 10), xlim0s=0,\n",
    "    frames=10, fps=25\n",
    ").config('inline', suffix='/ 100k').config('preset', limit=7)\n",
    "\n",
    "# postprocess; only show bar_label if y > 10\n",
    "ah_df = ah_df.finalize()\n",
    "ds = ah_df.data[1, 1]\n",
    "ds['bar_label'] = ds['bar_label'].where(ds['y'] > 10, '')\n",
    "ah_df.data[1, 1] = ds\n",
    "\n",
    "ah_df.render()\n",
    "```"
   ]
  }
 ],
 "metadata": {},
 "nbformat": 4,
 "nbformat_minor": 4
}
