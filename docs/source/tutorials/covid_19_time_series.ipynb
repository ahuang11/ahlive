{
 "cells": [
  {
   "cell_type": "markdown",
   "metadata": {},
   "source": [
    "# COVID-19 Time Series\n",
    "This tutorial will visualize COVID-19 data as a time series, and along the way, show what a workflow might look like when using ahlive.\n",
    "\n",
    "Click [here](covid_19_time_series.ipynb#final-animation) to see the full animation."
   ]
  },
  {
   "cell_type": "markdown",
   "metadata": {},
   "source": [
    "### load data\n",
    "\n",
    "To start, we will import ahlive and abbrieviate as `ah`. Then, we open up the COVID-19 global cases dataset and display it.\n",
    "\n",
    "`raw` is set to `True` for demonstration purposes, i.e. how to preprocess a \"wide\" dataset into a \"tidy\" dataset (this is done automatically if `raw=False`).\n",
    "\n",
    "`verbose` is set to `True` to display the direct URL where the data is retrieved from, in addition to the source and base URL."
   ]
  },
  {
   "cell_type": "code",
   "execution_count": null,
   "metadata": {},
   "outputs": [],
   "source": [
    "import ahlive as ah\n",
    "import pandas as pd\n",
    "df = ah.tutorial.open_dataset('covid19_global_cases', raw=True, verbose=True)\n",
    "display(df)"
   ]
  },
  {
   "cell_type": "markdown",
   "metadata": {},
   "source": [
    "### transform data"
   ]
  },
  {
   "cell_type": "markdown",
   "metadata": {},
   "source": [
    "This data is in `wide` form, but ahlive expects input data to be in \"tidy\" form, which is defined below:\n",
    "\n",
    "1. Each variable must have its own column.\n",
    "2. Each observation must have its own row.\n",
    "3. Each type of observational unit forms a table.\n",
    "\n",
    "Fortunately, it's easy to convert to \"tidy\" form using `pd.melt`."
   ]
  },
  {
   "cell_type": "code",
   "execution_count": null,
   "metadata": {},
   "outputs": [],
   "source": [
    "df_tidy = df.melt(\n",
    "    id_vars=['Province/State', 'Country/Region', 'Lat', 'Long'],\n",
    "    var_name='Date', value_name='Cases')\n",
    "display(df_tidy)"
   ]
  },
  {
   "cell_type": "markdown",
   "metadata": {},
   "source": [
    "### subset data\n",
    "\n",
    "Now, we can now use this \"tidy\" `pd.DataFrame` with ahlive. However, oftentimes it's best to subset and focus on a few datapoints, and also for this tutorial's simplicity sake."
   ]
  },
  {
   "cell_type": "code",
   "execution_count": null,
   "metadata": {},
   "outputs": [],
   "source": [
    "countries = ['US', 'China', 'New Zealand', 'United Kingdom',\n",
    "             'Brazil', 'India', 'Zambia', 'Pakistan']\n",
    "df_subset = df_tidy.loc[df_tidy['Country/Region'].isin(countries)]\n",
    "display(df_subset)"
   ]
  },
  {
   "cell_type": "markdown",
   "metadata": {},
   "source": [
    "Since this dataset was originally grouped by `Province/State`s, to further simplify and reduce crowdedness, we can group by `Country/Region` instead. Also since testing started mostly in March to April timeframe, we will begin animating in March."
   ]
  },
  {
   "cell_type": "code",
   "execution_count": null,
   "metadata": {},
   "outputs": [],
   "source": [
    "df_countries = df_subset.groupby(['Date', 'Country/Region'])[['Cases']].sum().reset_index()\n",
    "df_countries = df_countries.loc[df_countries['Date'] >= '3/01/21']\n",
    "display(df_countries)"
   ]
  },
  {
   "cell_type": "markdown",
   "metadata": {},
   "source": [
    "### serialize data"
   ]
  },
  {
   "cell_type": "markdown",
   "metadata": {},
   "source": [
    "Pass the preprocessed `pd.DataFrame`, the `xs` column name (what we want plotted on the x-axis), the `ys` column name (what we want plotted on the y-axis) to instantiate the `ah.DataFrame` class."
   ]
  },
  {
   "cell_type": "code",
   "execution_count": null,
   "metadata": {},
   "outputs": [],
   "source": [
    "ah_df = ah.DataFrame(df_countries, 'Date', 'Cases')\n",
    "print(ah_df)"
   ]
  },
  {
   "cell_type": "markdown",
   "metadata": {},
   "source": [
    "However, if we examine the output, we notice an abnormally large number of `state`s, or number of frames in the animation, and only 1 `item`. In other words, ahlive is unaware of the different `Country/Region`s; thus we need to pass that in as the `label`."
   ]
  },
  {
   "cell_type": "code",
   "execution_count": null,
   "metadata": {},
   "outputs": [],
   "source": [
    "ah_df = ah.DataFrame(df_countries, 'Date', 'Cases', label='Country/Region')\n",
    "print(ah_df)"
   ]
  },
  {
   "cell_type": "markdown",
   "metadata": {},
   "source": [
    "With that done, we can *almost* generate the the first animation by calling the `render` method, but before doing so, it's good to set `animate` to a list of `state`s. This limits the number of frames in the animation so we can get a preview of what the full animation looks like and ensure everything looks correct. We can also specify `fps` to prevent the animation from flashing."
   ]
  },
  {
   "cell_type": "code",
   "execution_count": null,
   "metadata": {},
   "outputs": [],
   "source": [
    "ah_df = ah.DataFrame(df_countries, 'Date', 'Cases', label='Country/Region',\n",
    "                     animate=[20, 50, 250, 300], fps=1)\n",
    "ah_df.render()"
   ]
  },
  {
   "cell_type": "markdown",
   "metadata": {},
   "source": [
    "### tweak animation"
   ]
  },
  {
   "cell_type": "markdown",
   "metadata": {},
   "source": [
    "By doing so, we can immediately notice that:\n",
    "\n",
    "1. The `ylabel` is cut-off.\n",
    "2. The dates are crowded.\n",
    "3. COVID tests did not start until March.\n",
    "4. it's hard to intuitively grasp the large numbers.\n",
    "5. The legend isn't sorted by max.\n",
    "\n",
    "To remedy this:\n",
    "\n",
    "1. Increase the width of the figure through `figsize`.\n",
    "2. Replace date `str`s with `np.datetime64` objects.\n",
    "3. Slice dataframe to begin around March.\n",
    "4. Scale the values by a million (`1e6`) and rerun.\n",
    "5. Set `sortby='y'` in config.\n",
    "\n",
    "Also, to reduce the size of this tutorial page, we will resample to every week."
   ]
  },
  {
   "cell_type": "code",
   "execution_count": null,
   "metadata": {},
   "outputs": [],
   "source": [
    "df_dts = df_countries.copy()\n",
    "df_dts['Date'] = pd.to_datetime(df_dts['Date'])\n",
    "df_dts = df_dts.loc[df_dts['Date'] >= '2020-03-01']\n",
    "df_dts = df_dts.groupby([\n",
    "    pd.Grouper(key='Date', freq='7D'), 'Country/Region'\n",
    "])['Cases'].last().reset_index()\n",
    "df_scale = df_dts.sort_values('Date')\n",
    "df_scale['Cases'] /= 1e6"
   ]
  },
  {
   "cell_type": "markdown",
   "metadata": {},
   "source": [
    "We can rerun with the newly preprocessed `pd.DataFrame`. We can also use any `str` in `animate` for a subset. It will also automatically set `fps`."
   ]
  },
  {
   "cell_type": "code",
   "execution_count": null,
   "metadata": {},
   "outputs": [],
   "source": [
    "ah_df = ah.DataFrame(\n",
    "    df_scale, 'Date', 'Cases', label='Country/Region',\n",
    "    figsize=(10, 7), animate='test'\n",
    ").config('legend', sortby='y')\n",
    "ah_df.render()"
   ]
  },
  {
   "cell_type": "markdown",
   "metadata": {},
   "source": [
    "We now note that there are extraneous decimal points so we can use `config` to set the `format`. We may also want to add `state_labels` and `inline_labels` to see directly see the x and y values."
   ]
  },
  {
   "cell_type": "code",
   "execution_count": null,
   "metadata": {},
   "outputs": [],
   "source": [
    "ah_df = ah.DataFrame(\n",
    "    df_scale, 'Date', 'Cases', label='Country/Region',\n",
    "    state_labels='Date', inline_labels='Cases',\n",
    "    figsize=(10, 7), ylabel='Confirmed Cases [million]',\n",
    "    animate='test'\n",
    ").config('yticks', format='%.0f').config('legend', sortby='y')\n",
    "ah_df.render()"
   ]
  },
  {
   "cell_type": "markdown",
   "metadata": {},
   "source": [
    "We can also set `animate` as `head_28` to animate the first 28 frames."
   ]
  },
  {
   "cell_type": "code",
   "execution_count": null,
   "metadata": {},
   "outputs": [],
   "source": [
    "ah_df = ah.DataFrame(\n",
    "    df_scale, 'Date', 'Cases', label='Country/Region',\n",
    "    state_labels='Date', inline_labels='Cases',\n",
    "    figsize=(10, 7), ylabel='Confirmed Cases [million]',\n",
    "    animate='head_28'\n",
    ").config('yticks', format='%.0f').config('legend', sortby='y')\n",
    "ah_df.render()"
   ]
  },
  {
   "cell_type": "markdown",
   "metadata": {},
   "source": [
    "Since there's not much to see in the first 28 frames, we can also animate from the tail using `tail_28`."
   ]
  },
  {
   "cell_type": "code",
   "execution_count": null,
   "metadata": {},
   "outputs": [],
   "source": [
    "ah_df = ah.DataFrame(\n",
    "    df_scale, 'Date', 'Cases', label='Country/Region',\n",
    "    state_labels='Date', inline_labels='Cases',\n",
    "    figsize=(10, 7), ylabel='Confirmed Cases [million]',\n",
    "    animate='tail_28'\n",
    ").config('yticks', format='%.0f').config('legend', sortby='y')\n",
    "ah_df.render()"
   ]
  },
  {
   "cell_type": "markdown",
   "metadata": {},
   "source": [
    "### cascade data"
   ]
  },
  {
   "cell_type": "markdown",
   "metadata": {},
   "source": [
    "It looks decent for the most part, but there's too much going on to easily garner any insights from it and there's a lot of crowding near the bottom. We can utilize `join='cascade'` to see country by country. Also, the plot can be a bit misleading because New Zealand has a much smaller population than US so we should try normalizing by population."
   ]
  },
  {
   "cell_type": "code",
   "execution_count": null,
   "metadata": {},
   "outputs": [],
   "source": [
    "df_pop = ah.tutorial.open_dataset('covid19_population')[['combined_key', 'population']]\n",
    "df_norm = df_scale.merge(df_pop, left_on='Country/Region', right_on='combined_key')\n",
    "df_norm['Cases'] = df_norm['Cases'] * 1e6 / df_norm['population']  # previously scaled by 1 million\n",
    "df_norm['Cases'] *= 1e5  # scale by per 100k people"
   ]
  },
  {
   "cell_type": "markdown",
   "metadata": {},
   "source": [
    "After updating the `ylabel` to reflect the normalization, we should once again animate a few frames to see if everything looks alright."
   ]
  },
  {
   "cell_type": "code",
   "execution_count": null,
   "metadata": {},
   "outputs": [],
   "source": [
    "ah_df = ah.DataFrame(\n",
    "    df_norm, 'Date', 'Cases', label='Country/Region',\n",
    "    state_labels='Date', inline_labels='Cases',\n",
    "    figsize=(10, 7), ylabel='Confirmed Cases / 100k People',\n",
    "    join='cascade', animate='test'\n",
    ").config('legend', sortby='y')\n",
    "ah_df.render()"
   ]
  },
  {
   "cell_type": "markdown",
   "metadata": {},
   "source": [
    "Looks mostly good, but the lines do not appear in a pleasing manner even with `sortby='y'` and the fixed `ylims` is not ideal. We can first sort the dataframe manually."
   ]
  },
  {
   "cell_type": "code",
   "execution_count": null,
   "metadata": {},
   "outputs": [],
   "source": [
    "ordering = df_norm.groupby('Country/Region').max().sort_values('Cases').index\n",
    "df_sort = df_norm.copy()\n",
    "df_sort['Country/Region'] = pd.Categorical(\n",
    "    df_sort['Country/Region'], categories=ordering, ordered=True)\n",
    "df_sort = df_sort.sort_values(['Country/Region', 'Date'])"
   ]
  },
  {
   "cell_type": "markdown",
   "metadata": {},
   "source": [
    "Then set `ylims` to explore to take full advantage of the `cascade`."
   ]
  },
  {
   "cell_type": "code",
   "execution_count": null,
   "metadata": {},
   "outputs": [],
   "source": [
    "ah_df = ah.DataFrame(\n",
    "    df_sort, 'Date', 'Cases', label='Country/Region',\n",
    "    state_labels='Date', inline_labels='Cases',\n",
    "    figsize=(10, 7), ylabel='Confirmed Cases / 100k People',\n",
    "    join='cascade', ylims='explore',\n",
    "    animate='test'\n",
    ")\n",
    "ah_df.render()"
   ]
  },
  {
   "cell_type": "markdown",
   "metadata": {},
   "source": [
    "Let's add a title and cite the data!"
   ]
  },
  {
   "cell_type": "code",
   "execution_count": null,
   "metadata": {},
   "outputs": [],
   "source": [
    "ah_df = ah.DataFrame(\n",
    "    df_sort, 'Date', 'Cases', label='Country/Region',\n",
    "    state_labels='Date', inline_labels='Cases',\n",
    "    figsize=(10, 7), ylabel='Confirmed Cases / 100k People',\n",
    "    join='cascade', ylims='explore',\n",
    "    title='Confirmed COVID-19 Cases, normalized by population',\n",
    "    note='Source: JHU CSSE COVID-19',\n",
    "    animate='test'\n",
    ")\n",
    "ah_df.render()"
   ]
  },
  {
   "cell_type": "markdown",
   "metadata": {},
   "source": [
    "### final animation\n",
    "\n",
    "There are many ways we can customize this like setting `inline_labels='Country/Region'` and chaining a `reference`."
   ]
  },
  {
   "cell_type": "code",
   "execution_count": null,
   "metadata": {},
   "outputs": [],
   "source": [
    "ah_df = ah.DataFrame(\n",
    "    df_sort, 'Date', 'Cases', label='Country/Region',\n",
    "    state_labels='Date', inline_labels='Country/Region',\n",
    "    figsize=(10, 7), ylabel='Confirmed Cases / 100k People',\n",
    "    join='cascade', ylim1s='explore_1',\n",
    "    title='Confirmed COVID-19 Cases, normalized by population',\n",
    "    note='Source: JHU CSSE COVID-19'\n",
    ").reference(y0s='y', inline_labels='y')\n",
    "ah_df.render()"
   ]
  },
  {
   "cell_type": "markdown",
   "metadata": {},
   "source": [
    "That's about it for this tutorial. See the next tutorial to see how to create a bar chart race."
   ]
  },
  {
   "cell_type": "markdown",
   "metadata": {},
   "source": [
    "### full code\n",
    "\n",
    "```python\n",
    "import ahlive as ah\n",
    "import pandas as pd\n",
    "\n",
    "# load dataset\n",
    "df = ah.tutorial.open_dataset('covid19_global_cases', raw=True, verbose=True)\n",
    "\n",
    "# transform to tidy format\n",
    "df_tidy = df.melt(\n",
    "    id_vars=['Province/State', 'Country/Region', 'Lat', 'Long'],\n",
    "    var_name='Date', value_name='Cases')\n",
    "\n",
    "# subset countries\n",
    "countries = ['US', 'China', 'New Zealand', 'United Kingdom',\n",
    "             'Brazil', 'India', 'Zambia', 'Pakistan']\n",
    "df_subset = df_tidy.loc[df_tidy['Country/Region'].isin(countries)]\n",
    "\n",
    "# find total cases per country instead of province/region\n",
    "df_countries = df_subset.groupby(['Date', 'Country/Region'])[['Cases']].sum().reset_index()\n",
    "df_countries = df_countries.loc[df_countries['Date'] >= '3/01/21']\n",
    "\n",
    "# convert to datetime\n",
    "df_dts = df_countries.copy()\n",
    "df_dts['Date'] = pd.to_datetime(df_dts['Date'])\n",
    "df_dts = df_dts.loc[df_dts['Date'] >= '2020-03-01']\n",
    "df_dts = df_dts.groupby([\n",
    "    pd.Grouper(key='Date', freq='7D'), 'Country/Region'\n",
    "])['Cases'].last().reset_index()\n",
    "\n",
    "# scale by a million\n",
    "df_scale = df_dts.sort_values('Date')\n",
    "df_scale['Cases'] /= 1e6\n",
    "\n",
    "# normalize by population\n",
    "df_pop = ah.tutorial.open_dataset('covid19_population')[['combined_key', 'population']]\n",
    "df_norm = df_scale.merge(df_pop, left_on='Country/Region', right_on='combined_key')\n",
    "df_norm['Cases'] = df_norm['Cases'] * 1e6 / df_norm['population']  # previously scaled by 1 million\n",
    "df_norm['Cases'] *= 1e5  # scale by per 100k people\n",
    "\n",
    "# sort by cases\n",
    "ordering = df_norm.groupby('Country/Region').max().sort_values('Cases').index\n",
    "df_sort = df_norm.copy()\n",
    "df_sort['Country/Region'] = pd.Categorical(\n",
    "    df_sort['Country/Region'], categories=ordering, ordered=True)\n",
    "df_sort = df_sort.sort_values(['Country/Region', 'Date'])\n",
    "\n",
    "# render\n",
    "ah_df = ah.DataFrame(\n",
    "    df_sort, 'Date', 'Cases', label='Country/Region',\n",
    "    state_labels='Date', inline_labels='Country/Region',\n",
    "    figsize=(10, 7), ylabel='Confirmed Cases / 100k People',\n",
    "    join='cascade', ylim1s='explore_1',\n",
    "    title='Confirmed COVID-19 Cases, normalized by population',\n",
    "    note='Source: JHU CSSE COVID-19'\n",
    ").reference(y0s='y', inline_labels='y')\n",
    "ah_df.render()\n",
    "```"
   ]
  }
 ],
 "metadata": {},
 "nbformat": 4,
 "nbformat_minor": 4
}
