{
 "cells": [
  {
   "cell_type": "markdown",
   "metadata": {},
   "source": [
    "# Why Animate\n",
    "\n",
    "Here are some reasons you may want to use ahlive to animate your data to life!"
   ]
  },
  {
   "cell_type": "markdown",
   "metadata": {},
   "source": [
    "### emphasize outliers\n",
    "\n",
    "By having dynamic limits, outliers can be easily highlighted."
   ]
  },
  {
   "cell_type": "code",
   "execution_count": null,
   "metadata": {},
   "outputs": [],
   "source": [
    "import ahlive as ah\n",
    "import pandas as pd\n",
    "\n",
    "df = ah.open_dataset(\"owid_co2_concentrations_over_the_long_term_scripps\")\n",
    "df = pd.concat([df.loc[:1850][::6], df.loc[1850:][::2]])\n",
    "\n",
    "ah.DataFrame(\n",
    "    df,\n",
    "    xs=\"year\",\n",
    "    ys=\"co₂_concentration_scripps\",\n",
    "    state_labels=\"co₂_concentration_scripps\",\n",
    "    xlims=\"fixed\",\n",
    "    ylims=\"explore\",\n",
    "    ymargins=0.1\n",
    ").config(\n",
    "    \"state\",\n",
    "    suffix=\" PPM\",\n",
    "    format=\".0f\"\n",
    ").render()"
   ]
  },
  {
   "cell_type": "markdown",
   "metadata": {},
   "source": [
    "### add dimension\n",
    "\n",
    "Data can be mapped to color, and also time!"
   ]
  },
  {
   "cell_type": "code",
   "execution_count": null,
   "metadata": {},
   "outputs": [],
   "source": [
    "import ahlive as ah\n",
    "import xarray as xr\n",
    "\n",
    "ds = xr.tutorial.open_dataset(\"air_temperature\")\n",
    "ds[\"month\"] = ds[\"time\"].dt.strftime(\"%m - %b\")\n",
    "ds = ds.groupby(\"month\").mean()\n",
    "\n",
    "tmpf_kcmi_inline = ds[\"air\"].sel(lon=-88.5 + 360, lat=40, method=\"nearest\")\n",
    "\n",
    "ah_ds = ah.Dataset(\n",
    "    ds,\n",
    "    xs=\"lon\",\n",
    "    ys=\"lat\",\n",
    "    cs=\"air\",\n",
    "    state_labels=\"month\",\n",
    "    title=\"2013-2014 Monthly Averaged Temperatures\",\n",
    "    projection=\"LambertConformal\",\n",
    "    coastline=True,\n",
    "    durations=1\n",
    ").reference(\n",
    "    x0s=[-88.5] * 12,  # help wanted to simplify this method!\n",
    "    y0s=[40] * 12,\n",
    "    inline_labels=tmpf_kcmi_inline\n",
    ").config(\n",
    "    \"ref_inline\", suffix=\"°F\"\n",
    ").render()"
   ]
  },
  {
   "cell_type": "markdown",
   "metadata": {},
   "source": [
    "<div class=\"alert alert-warning\">\n",
    "\n",
    "Adding extra dimensionality to a visualization does not equate to better! Remember, the primary goal of a data visualization is to communicate an aspect of the data effectively.\n",
    "\n",
    "</div>"
   ]
  },
  {
   "cell_type": "markdown",
   "metadata": {},
   "source": [
    "### show gradually\n",
    "\n",
    "Rather than showing everything at once and overwhelming the audience, a little story can be expressed!"
   ]
  },
  {
   "cell_type": "code",
   "execution_count": null,
   "metadata": {},
   "outputs": [],
   "source": [
    "import ahlive as ah\n",
    "\n",
    "df = ah.open_dataset(\n",
    "    label=\"iem_asos\",\n",
    "    stn=[\"KDEN\"],\n",
    "    ini=\"2019-10-09\",\n",
    "    end=\"2019-10-10\",\n",
    "    tz=\"mst\",\n",
    "    data=\"tmpf\",\n",
    "    verbose=True\n",
    ")\n",
    "\n",
    "ah.DataFrame(\n",
    "    df,\n",
    "    xs=\"valid\",\n",
    "    ys=\"tmpf\",\n",
    "    xlims=\"fixed\",\n",
    "    ylim0s=\"explore\",\n",
    "    ymargins=0.1,\n",
    "    title=\"Temperature at Denver Airport\",\n",
    ").remark(\n",
    "    \"High of 82°F\",\n",
    "    ys=82,\n",
    "    durations=3\n",
    ").remark(\n",
    "    \"Low of 30°F within 8 hours!\",\n",
    "    ys=30,\n",
    "    first=True,\n",
    "    durations=3,\n",
    ").config(\n",
    "    \"remark_inline\",\n",
    "    ha=\"right\"\n",
    ").render()"
   ]
  },
  {
   "cell_type": "markdown",
   "metadata": {},
   "source": [
    "### engage audience\n",
    "\n",
    "Sometimes, it's just more fun!"
   ]
  },
  {
   "cell_type": "code",
   "execution_count": null,
   "metadata": {},
   "outputs": [],
   "source": [
    "import ahlive as ah\n",
    "\n",
    "life_df = ah.open_dataset(\"gapminder_life_expectancy\")\n",
    "gdp_df = ah.open_dataset(\"gapminder_income\")\n",
    "df = life_df.merge(gdp_df, on=[\"geo\", \"time\"])\n",
    "df = df.loc[\n",
    "    (df[\"geo\"].isin(df[\"geo\"].sample(5).unique())) &\n",
    "    (df[\"time\"].isin([1880, 2020]))\n",
    "]\n",
    "df[\"geo\"] = df[\"geo\"].str.upper()\n",
    "df_avg = df.groupby('time').mean()\n",
    "\n",
    "ah.DataFrame(\n",
    "    df,\n",
    "    xs=\"life_expectancy\",\n",
    "    ys=\"income\",\n",
    "    label=\"geo\",\n",
    "    title=\"Gapminder\",\n",
    "    inline_labels=\"geo\",\n",
    "    state_labels=\"time\",\n",
    "    revert=\"boomerang\",\n",
    "    chart=\"scatter\",\n",
    "    legend=False,\n",
    "    durations=1,\n",
    "    figsize=(10, 5)\n",
    ").reference(\n",
    "    x0s=df_avg[\"life_expectancy\"],\n",
    "    inline_labels=df_avg[\"life_expectancy\"],\n",
    "    inline_locs=df_avg[\"income\"].median(),\n",
    "    alpha=0.2\n",
    ").reference(\n",
    "    y0s=df_avg[\"income\"],\n",
    "    inline_labels=df_avg[\"income\"],\n",
    "    inline_locs=df_avg[\"life_expectancy\"].median(),\n",
    "    alpha=0.2\n",
    ").render()"
   ]
  },
  {
   "cell_type": "markdown",
   "metadata": {},
   "source": [
    "### display chronologically\n",
    "\n",
    "What better way to display chronological data than to animate!"
   ]
  },
  {
   "cell_type": "code",
   "execution_count": null,
   "metadata": {},
   "outputs": [],
   "source": [
    "import ahlive as ah\n",
    "\n",
    "df = ah.open_dataset(\"gapminder_population\")\n",
    "df = df.pivot(\"time\", \"geo\", \"population\").diff().reset_index().melt(\n",
    "    \"time\", value_name=\"population_change\")\n",
    "df = df.loc[df[\"time\"].between(2000, 2020)]\n",
    "df[\"geo\"] = df[\"geo\"].str.upper()\n",
    "df[\"population_change\"] /= 1e6\n",
    "\n",
    "ah.DataFrame(\n",
    "    df,\n",
    "    xs=\"geo\",\n",
    "    ys=\"population_change\",\n",
    "    title=\"Yearly Increases in Population\",\n",
    "    ylabel=\"[million]\",\n",
    "    label=\"geo\",\n",
    "    state_labels=\"time\",\n",
    "    inline_labels=\"population_change\",\n",
    "    chart=\"bar\",\n",
    "    preset=\"race\",\n",
    ").render()"
   ]
  }
 ],
 "metadata": {},
 "nbformat": 4,
 "nbformat_minor": 4
}
