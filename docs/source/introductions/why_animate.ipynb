{
 "cells": [
  {
   "cell_type": "markdown",
   "metadata": {},
   "source": [
    "# Why Animate\n",
    "\n",
    "Here are some reasons you may want to use ahlive to animate your data to life!"
   ]
  },
  {
   "cell_type": "markdown",
   "metadata": {},
   "source": [
    "### add dimension\n",
    "\n",
    "Data can be mapped to color, and also time!"
   ]
  },
  {
   "cell_type": "code",
   "execution_count": null,
   "metadata": {},
   "outputs": [],
   "source": [
    "import ahlive as ah\n",
    "import xarray as xr\n",
    "\n",
    "ds = xr.tutorial.open_dataset(\"air_temperature\")\n",
    "ds[\"month\"] = ds[\"time\"].dt.strftime(\"%m - %b\")\n",
    "ds = ds.groupby(\"month\").mean()\n",
    "\n",
    "ds_kcmi = ds[\"air\"].sel(lon=-88.5 + 360, lat=40, method=\"nearest\")\n",
    "tmpf_inline = ds_kcmi * 1.8 - 459.67\n",
    "\n",
    "ah.Dataset(\n",
    "    ds,\n",
    "    xs=\"lon\",\n",
    "    ys=\"lat\",\n",
    "    cs=\"air\",\n",
    "    state_labels=\"month\",\n",
    "    title=\"2013-2014 Monthly Averaged Temperatures\",\n",
    "    projection=\"LambertConformal\",\n",
    "    coastline=True,\n",
    "    revert=\"boomerang\",\n",
    "    fps=10\n",
    ").reference(\n",
    "    x0s=[-88.5] * 12,  # help wanted to simplify this method!\n",
    "    y0s=[40] * 12,\n",
    "    inline_labels=tmpf_inline\n",
    ").config(**{\n",
    "    \"ref_inline\": dict(suffix=\"°F\", color=\"black\"),\n",
    "    \"ref_plot\": dict(color=\"black\"),\n",
    "    \"state\": dict(color=\"black\")\n",
    "}).render()"
   ]
  },
  {
   "cell_type": "markdown",
   "metadata": {},
   "source": [
    "### tell story\n",
    "\n",
    "Present the plot, piece by piece, and highlight the important parts to tell a short story."
   ]
  },
  {
   "cell_type": "code",
   "execution_count": null,
   "metadata": {},
   "outputs": [],
   "source": [
    "import ahlive as ah\n",
    "\n",
    "df = ah.open_dataset(\n",
    "    label=\"iem_asos\",\n",
    "    stn=[\"KDEN\"],\n",
    "    ini=\"2019-10-09\",\n",
    "    end=\"2019-10-10\",\n",
    "    tz=\"mst\",\n",
    "    data=\"tmpf\",\n",
    "    verbose=True\n",
    ").dropna(subset=[\"tmpf\"])\n",
    "\n",
    "ah.DataFrame(\n",
    "    df,\n",
    "    xs=\"valid\",\n",
    "    ys=\"tmpf\",\n",
    "    xlims=\"fixed\",\n",
    "    ylim0s=\"explore\",\n",
    "    inline_labels=\"tmpf\",\n",
    "    ylabel=\"°F\",\n",
    "    ymargins=(0.3, 0.15),\n",
    "    title=\"2019-10-09 Temperature at Denver Airport\",\n",
    ").remark(\n",
    "    \"Sunrise at 7 AM\",\n",
    "    xs=\"2019-10-09 06:53\"\n",
    ").remark(\n",
    "    \"High reached at 3 PM\",\n",
    "    ys=82,\n",
    "    durations=3\n",
    ").remark(\n",
    "    \"Low reached at 11 PM, change of 52°F within 8 hours!\",\n",
    "    ys=30,\n",
    "    first=True,\n",
    "    durations=3,\n",
    ").config(\n",
    "    \"inline\",\n",
    "    suffix=\"°F\"\n",
    ").render()"
   ]
  },
  {
   "cell_type": "markdown",
   "metadata": {},
   "source": [
    "<div class=\"alert alert-warning\">\n",
    "\n",
    "Adding extra dimensionality to a visualization does not equate to better! Remember, the primary goal of a data visualization is to communicate an aspect of the data effectively.\n",
    "\n",
    "</div>"
   ]
  },
  {
   "cell_type": "markdown",
   "metadata": {},
   "source": [
    "### show progression\n",
    "\n",
    "What better way to show change over time... than over the time dimension!"
   ]
  },
  {
   "cell_type": "code",
   "execution_count": null,
   "metadata": {},
   "outputs": [],
   "source": [
    "import ahlive as ah\n",
    "\n",
    "df = ah.open_dataset(\n",
    "    \"owid_nuclear_weapons_tests_arms_control_association_2020\",\n",
    "    names=[\"country\", \"year\", \"count\"], verbose=True\n",
    ")\n",
    "df = df.loc[df[\"country\"].isin([\"Russia\", \"United States\"])]\n",
    "\n",
    "ah.DataFrame(\n",
    "    df,\n",
    "    xs=\"country\",\n",
    "    ys=\"count\",\n",
    "    label=\"country\",\n",
    "    title=\"Nuclear Arms Test\",\n",
    "    inline_labels=\"count\",\n",
    "    state_labels=\"year\",\n",
    "    chart=\"barh\",\n",
    "    preset=\"race\",\n",
    "    xlim1s=\"explore\",\n",
    "    figsize=(12, 5),\n",
    "    frames=5\n",
    ").config(**{\n",
    "    \"spacing\": dict(left=0.2),\n",
    "    \"durations\": dict(transition_frames=0.08)\n",
    "}).render()"
   ]
  },
  {
   "cell_type": "markdown",
   "metadata": {},
   "source": [
    "### emphasize extremes\n",
    "\n",
    "By having dynamic limits, extremes can be easily highlighted."
   ]
  },
  {
   "cell_type": "code",
   "execution_count": null,
   "metadata": {},
   "outputs": [],
   "source": [
    "import ahlive as ah\n",
    "\n",
    "df = ah.open_dataset(\n",
    "    \"owid_conflict_deaths_by_country_ucdp_2019\",\n",
    "    names=[\"country\", \"year\", \"deaths\"], verbose=True\n",
    ")\n",
    "df = df.loc[df[\"country\"].isin(df.nlargest(7, \"deaths\")[\"country\"].unique())]\n",
    "\n",
    "ah.DataFrame(\n",
    "    df,\n",
    "    xs=\"year\",\n",
    "    ys=\"deaths\",\n",
    "    label=\"country\",\n",
    "    state_labels=\"year\",\n",
    "    inline_labels=\"deaths\",\n",
    "    title=\"Conflict Deaths by Country\",\n",
    "    chart=\"scatter\",\n",
    "    preset=\"trail\",\n",
    "    join=\"cascade\",\n",
    "    ylim1s=\"explore\",\n",
    "    xlim1s=\"fixed\",\n",
    "    figsize=(10, 5),\n",
    "    frames=5,\n",
    "    fps=30,\n",
    ").config(\n",
    "    \"preset\", chart=\"both\"\n",
    ").render()"
   ]
  },
  {
   "cell_type": "markdown",
   "metadata": {},
   "source": [
    "### engage audience\n",
    "\n",
    "Sometimes, it's just more intriguing!"
   ]
  },
  {
   "cell_type": "code",
   "execution_count": null,
   "metadata": {},
   "outputs": [],
   "source": [
    "import ahlive as ah\n",
    "import matplotlib.pyplot as plt\n",
    "from cycler import cycler\n",
    "\n",
    "df = ah.open_dataset(\n",
    "    \"owid_causes_of_death_vs_media_coverage_shen_et_al_2018\", verbose=True,\n",
    "    names=[\"cause\", \"year\", \"actual\", \"google search\", \"nyt\", \"guardian\"]\n",
    ").dropna().melt([\"cause\", \"year\"], var_name=\"source\", value_name=\"share\")\n",
    "df[\"source\"] = df[\"source\"].str.upper()\n",
    "\n",
    "cmap = plt.get_cmap(\"plasma\", df[\"cause\"].nunique())\n",
    "plt.rc(\"axes\", prop_cycle=cycler(\"color\", cmap.colors))\n",
    "\n",
    "sources = df[\"source\"].unique()\n",
    "ah.layout([\n",
    "    ah.DataFrame(\n",
    "        df.loc[df[\"source\"] == source],\n",
    "        xs=\"share\",\n",
    "        label=\"cause\",\n",
    "        title=source,\n",
    "        xlabel=\" \",\n",
    "        suptitle=\"Shen et al. (2018) Death: Reality vs Reported\",\n",
    "        chart=\"pie\",\n",
    "        legend=False,\n",
    "        state_labels=\"year\",\n",
    "        inline_labels=\"cause\",\n",
    "        figsize=(15, 12),\n",
    "        fps=5,\n",
    "        autopct=\"%.0f%%\",\n",
    "        normalize=True,\n",
    "    ) for source in sources\n",
    "]).config(**{\n",
    "    \"state\": dict(xy=\"suptitle\"),\n",
    "    \"inline\": dict(\n",
    "        offset=1.25,\n",
    "        color=\"black\",\n",
    "        fontsize=12,\n",
    "        clip_on=False\n",
    "    )\n",
    "}).cols(2).render()"
   ]
  }
 ],
 "metadata": {
  "interpreter": {
   "hash": "c6e4e9f98eb68ad3b7c296f83d20e6de614cb42e90992a65aa266555a3137d0d"
  },
  "kernelspec": {
   "display_name": "Python 3.9.7 ('base')",
   "language": "python",
   "name": "python3"
  },
  "language_info": {
   "codemirror_mode": {
    "name": "ipython",
    "version": 3
   },
   "file_extension": ".py",
   "mimetype": "text/x-python",
   "name": "python",
   "nbconvert_exporter": "python",
   "pygments_lexer": "ipython3",
   "version": "3.9.7"
  }
 },
 "nbformat": 4,
 "nbformat_minor": 4
}
