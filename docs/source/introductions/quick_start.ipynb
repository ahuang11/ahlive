{
 "cells": [
  {
   "cell_type": "markdown",
   "metadata": {},
   "source": [
    "# Quick Start\n",
    "\n",
    "It's easy as 1 - 2 - 3!"
   ]
  },
  {
   "cell_type": "markdown",
   "metadata": {},
   "source": [
    "### 1 - import package\n",
    "\n",
    "The standard is to abbreviate `ahlive` as `ah`."
   ]
  },
  {
   "cell_type": "code",
   "execution_count": null,
   "metadata": {},
   "outputs": [],
   "source": [
    "import ahlive as ah"
   ]
  },
  {
   "cell_type": "markdown",
   "metadata": {},
   "source": [
    "### 2 - load data\n",
    "\n",
    "Here, nuclear weapons inventory data is fetched from \"Our World in Data\"."
   ]
  },
  {
   "cell_type": "code",
   "execution_count": null,
   "metadata": {},
   "outputs": [],
   "source": [
    "df = ah.open_dataset(\n",
    "    \"owid_nuclear_weapons_inventory_by_country_fas_nuclear_notebook\",\n",
    "    verbose=True\n",
    ")\n",
    "display(df)"
   ]
  },
  {
   "cell_type": "markdown",
   "metadata": {},
   "source": [
    "### 3 - generate animation\n",
    "\n",
    "- provide the dataframe, `df`\n",
    "- map the dataframe's column names to the plot's axes, `xs` and `ys`\n",
    "- specify how to group the data, `label`."
   ]
  },
  {
   "cell_type": "code",
   "execution_count": null,
   "metadata": {},
   "outputs": [],
   "source": [
    "ah.DataFrame(\n",
    "    df,\n",
    "    xs=\"year\",\n",
    "    ys=\"nuclear_weapons_inventory_by_country_fas_nuclear_notebook\",\n",
    "    label=\"entity\"\n",
    ").render()"
   ]
  },
  {
   "cell_type": "markdown",
   "metadata": {},
   "source": [
    "### add refinements\n",
    "\n",
    "In just three steps, an animation was output, but don't stop there! Take advantage of the features supported in ahlive, conveniently accessible by keywords!"
   ]
  },
  {
   "cell_type": "code",
   "execution_count": null,
   "metadata": {},
   "outputs": [],
   "source": [
    "import pandas as pd\n",
    "import ahlive as ah\n",
    "\n",
    "# load data\n",
    "df, meta = ah.tutorial.open_dataset(\n",
    "    \"owid_nuclear_weapons_inventory_by_country_fas_nuclear_notebook\",\n",
    "    return_meta=True\n",
    ")\n",
    "\n",
    "# rename columns\n",
    "df.columns = [\"entity\", \"year\", \"count\"]\n",
    "\n",
    "# add a world count\n",
    "df = pd.concat([df, df.groupby(\"year\", as_index=False).sum().assign(entity=\"World\")])\n",
    "\n",
    "# sort by maximum count\n",
    "countries = df.groupby(\"entity\")[\"count\"].max().sort_values().index\n",
    "df[\"entity\"] = pd.Categorical(\n",
    "    df[\"entity\"],\n",
    "    categories=countries,\n",
    "    ordered=True\n",
    ")\n",
    "df = df.sort_values([\"entity\", \"year\"])\n",
    "\n",
    "ah_df = ah.DataFrame(\n",
    "    # map data columns onto axes\n",
    "    df,\n",
    "    xs=\"year\",\n",
    "    ys=\"count\",\n",
    "    label=\"entity\",\n",
    "\n",
    "    # let one label finish before another starts\n",
    "    join=\"cascade\",\n",
    "\n",
    "    # enlarge the figure size\n",
    "    figsize=(12, 6),\n",
    "\n",
    "    # map the axes' limits\n",
    "    xlims=\"explore\",\n",
    "    ylims=\"explore\",\n",
    "\n",
    "    # map data columns onto dynamic labels\n",
    "    state_labels=\"year\",\n",
    "    inline_labels=\"entity\",\n",
    "\n",
    "    # add static labels\n",
    "    title=meta[\"label\"],\n",
    "    xlabel=\"Year\",\n",
    "    ylabel=\"Total Count\",\n",
    "\n",
    "    # add citations\n",
    "    note=meta[\"source\"],\n",
    "    caption=meta[\"base_url\"],\n",
    "    \n",
    "    # slowdown animation\n",
    "    fps=15,\n",
    "\n",
    "    # parallelize generation of each frame\n",
    "    scheduler=\"processes\",\n",
    "    workers=4\n",
    ")\n",
    "\n",
    "# add reference line to mark max\n",
    "ah_df = ah_df.reference(\n",
    "    y0s=\"y\", inline_labels=\"y\", last=True\n",
    ")\n",
    "\n",
    "# pause animation to add remarks\n",
    "ah_df = ah_df.remark(\n",
    "    \"Cold War begins\",\n",
    "    xs=1947,\n",
    "    labels=\"World\",\n",
    "    durations=1,\n",
    "    persist_inline=True\n",
    ")\n",
    "ah_df = ah_df.remark(\n",
    "    \"Cold War ends\",\n",
    "    xs=1991,\n",
    "    labels=\"World\",\n",
    "    durations=1,\n",
    "    persist_inline=True\n",
    ")\n",
    "\n",
    "# configure to use two columns for legend\n",
    "ah_df = ah_df.config(\n",
    "    \"legend\", ncol=2\n",
    ")\n",
    "\n",
    "# configure inline remarks to vertically align from bottom\n",
    "ah_df = ah_df.config(\n",
    "    \"remark_inline\", va=\"bottom\"\n",
    ")\n",
    "\n",
    "# create animation\n",
    "ah_df.render()"
   ]
  },
  {
   "cell_type": "markdown",
   "metadata": {},
   "source": [
    "### explore datasets\n",
    "\n",
    "See, it's that easy to get started.\n",
    "\n",
    "Don't have a dataset readily available? No worries! ahlive has a bunch of built-in datasets ready to use. Learn more in [Fetching](../essentials/fetching.ipynb)."
   ]
  },
  {
   "cell_type": "code",
   "execution_count": null,
   "metadata": {},
   "outputs": [],
   "source": [
    "import ahlive as ah\n",
    "ah.list_datasets()"
   ]
  }
 ],
 "metadata": {},
 "nbformat": 4,
 "nbformat_minor": 4
}
