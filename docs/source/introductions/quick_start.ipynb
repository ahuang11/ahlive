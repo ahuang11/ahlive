{
 "cells": [
  {
   "cell_type": "markdown",
   "metadata": {},
   "source": [
    "# Quick Start\n",
    "\n",
    "It's easy as 1 - 2 - 3!"
   ]
  },
  {
   "cell_type": "markdown",
   "metadata": {},
   "source": [
    "### 1 - import package\n",
    "\n",
    "The standard is to abbreviate `ahlive` as `ah`."
   ]
  },
  {
   "cell_type": "code",
   "execution_count": null,
   "metadata": {},
   "outputs": [],
   "source": [
    "import ahlive as ah"
   ]
  },
  {
   "cell_type": "markdown",
   "metadata": {},
   "source": [
    "### 2 - load data\n",
    "\n",
    "Here, nuclear weapons inventory data is fetched from \"Our World in Data\"."
   ]
  },
  {
   "cell_type": "code",
   "execution_count": null,
   "metadata": {},
   "outputs": [],
   "source": [
    "df = ah.open_dataset(\n",
    "    \"owid_nuclear_weapons_inventory_by_country_fas_nuclear_notebook\",\n",
    "    verbose=True\n",
    ")\n",
    "display(df)"
   ]
  },
  {
   "cell_type": "markdown",
   "metadata": {},
   "source": [
    "### 3 - generate animation\n",
    "\n",
    "- provide the dataframe, `df`\n",
    "- map the dataframe's column names to the plot's axes, `xs` and `ys`\n",
    "- specify how to group the data, `label`."
   ]
  },
  {
   "cell_type": "code",
   "execution_count": null,
   "metadata": {},
   "outputs": [],
   "source": [
    "ah.DataFrame(\n",
    "    df,\n",
    "    xs=\"year\",\n",
    "    ys=\"nuclear_weapons_inventory_by_country_fas_nuclear_notebook\",\n",
    "    label=\"entity\"\n",
    ").render()"
   ]
  },
  {
   "cell_type": "markdown",
   "metadata": {},
   "source": [
    "### add refinements\n",
    "\n",
    "In just three steps, an animation was output, but don't stop there! Take advantage of the features supported in ahlive, conveniently accessible by keywords!"
   ]
  },
  {
   "cell_type": "code",
   "execution_count": null,
   "metadata": {},
   "outputs": [],
   "source": [
    "import pandas as pd\n",
    "import ahlive as ah\n",
    "\n",
    "# load data\n",
    "df, meta = ah.tutorial.open_dataset(\n",
    "    \"owid_nuclear_weapons_inventory_by_country_fas_nuclear_notebook\",\n",
    "    return_meta=True\n",
    ")\n",
    "\n",
    "# rename columns\n",
    "df.columns = [\"entity\", \"year\", \"count\"]\n",
    "\n",
    "# sort by maximum count\n",
    "countries = df.groupby(\"entity\")[\"count\"].max().sort_values().index\n",
    "df[\"entity\"] = pd.Categorical(\n",
    "    df[\"entity\"],\n",
    "    categories=countries,\n",
    "    ordered=True\n",
    ")\n",
    "df = df.sort_values([\"entity\", \"year\"])\n",
    "\n",
    "# subset only the top five\n",
    "df = df.loc[df[\"entity\"].isin(countries[-4:])]\n",
    "\n",
    "# serialize data\n",
    "ah_df = ah.DataFrame(\n",
    "    # map data columns onto axes\n",
    "    df,\n",
    "    xs=\"year\",\n",
    "    ys=\"count\",\n",
    "    label=\"entity\",\n",
    "\n",
    "    # let one label finish before another starts\n",
    "    join=\"cascade\",\n",
    "\n",
    "    # enlarge the figure size\n",
    "    figsize=(10, 7),\n",
    "\n",
    "    # map the axes' limits\n",
    "    xlims=\"explore\",\n",
    "    ylims=\"explore\",\n",
    "\n",
    "    # map data columns onto dynamic labels\n",
    "    state_labels=\"year\",\n",
    "    inline_labels=\"entity\",\n",
    "\n",
    "    # add static labels\n",
    "    title=meta[\"label\"],\n",
    "    xlabel=\"Year\",\n",
    "    ylabel=\"Total Count\",\n",
    "\n",
    "    # add citations\n",
    "    note=meta[\"source\"],\n",
    "    caption=meta[\"base_url\"],\n",
    "\n",
    "    # add margins\n",
    "    xmargins=(0.05, 0.2),\n",
    "    ymargins=(0.1, 0.2),\n",
    "\n",
    "    # parallelize generation of each frame\n",
    "    scheduler=\"processes\",\n",
    "    workers=4\n",
    ")\n",
    "\n",
    "# add reference line to mark max\n",
    "ah_df = ah_df.reference(\n",
    "    y0s=\"y\", inline_labels=\"y\", last=True\n",
    ")\n",
    "\n",
    "# pause animation to add remarks\n",
    "remark_kwds = dict(\n",
    "    labels=[\"United States\", \"Russia\"],\n",
    "    durations=3,\n",
    "    persist_plot=True\n",
    ")\n",
    "ah_df = ah_df.remark(\"Cold War begins\", xs=1947, **remark_kwds)\n",
    "ah_df = ah_df.remark(\n",
    "    \"Peak number of weapons by the US\",\n",
    "    ys=df.loc[df[\"entity\"] == \"United States\", \"count\"].max(),\n",
    "    **remark_kwds\n",
    ")\n",
    "ah_df = ah_df.remark(\n",
    "    \"Peak number of weapons by Russia\",\n",
    "    ys=df[\"count\"].max(),\n",
    "    **remark_kwds)\n",
    "\n",
    "ah_df = ah_df.remark(\n",
    "    \"Cold War ends\",\n",
    "    xs=1991,\n",
    "    **remark_kwds\n",
    ")\n",
    "\n",
    "# slow down animation\n",
    "ah_df = ah_df.config(\n",
    "    \"durations\",\n",
    "    final_frame=5\n",
    ")\n",
    "\n",
    "# create animation\n",
    "ah_df.render()"
   ]
  },
  {
   "cell_type": "markdown",
   "metadata": {},
   "source": [
    "### explore datasets\n",
    "\n",
    "See, it's that easy to get started.\n",
    "\n",
    "Don't have a dataset readily available? No worries!\n",
    "\n",
    "ahlive has a bunch of built-in datasets ready to use. Learn more in [Fetching](../essentials/fetching.ipynb)."
   ]
  }
 ],
 "metadata": {},
 "nbformat": 4,
 "nbformat_minor": 4
}
