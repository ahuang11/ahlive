{
 "cells": [
  {
   "cell_type": "markdown",
   "metadata": {},
   "source": [
    "# Quick Start\n",
    "\n",
    "It's easy as 1 - 2 - 3!"
   ]
  },
  {
   "cell_type": "markdown",
   "metadata": {},
   "source": [
    "### 1 - import package\n",
    "\n",
    "The standard is to abbreviate `ahlive` as `ah`."
   ]
  },
  {
   "cell_type": "code",
   "execution_count": null,
   "metadata": {},
   "outputs": [],
   "source": [
    "import ahlive as ah"
   ]
  },
  {
   "cell_type": "markdown",
   "metadata": {},
   "source": [
    "### 2 - load data\n",
    "\n",
    "Here, CO2 concentrations data is fetched."
   ]
  },
  {
   "cell_type": "code",
   "execution_count": null,
   "metadata": {},
   "outputs": [],
   "source": [
    "df = ah.open_dataset(\"annual_co2\", names=[\"year\", \"co2\", \"uncertainty\"], verbose=True)\n",
    "display(df)"
   ]
  },
  {
   "cell_type": "markdown",
   "metadata": {},
   "source": [
    "### 3 - generate animation\n",
    "\n",
    "Simply input the dataframe, `df` and map the dataframe's column names to the plot's axes, `xs` and `ys`."
   ]
  },
  {
   "cell_type": "code",
   "execution_count": null,
   "metadata": {},
   "outputs": [],
   "source": [
    "ah.DataFrame(\n",
    "    df,\n",
    "    xs=\"year\",\n",
    "    ys=\"co2\",\n",
    ").render()"
   ]
  },
  {
   "cell_type": "markdown",
   "metadata": {},
   "source": [
    "### add refinements\n",
    "\n",
    "In just three steps, an animation was output, but don't stop there! Take advantage of the features supported in ahlive, conveniently accessible by keywords!"
   ]
  },
  {
   "cell_type": "code",
   "execution_count": null,
   "metadata": {},
   "outputs": [],
   "source": [
    "import ahlive as ah\n",
    "\n",
    "df, meta = ah.open_dataset(\n",
    "    \"annual_co2\",\n",
    "    names=[\"year\", \"co2\", \"uncertainty\"],\n",
    "    index_col=\"year\",\n",
    "    return_meta=True\n",
    ")\n",
    "df_cummax = df.cummax()\n",
    "\n",
    "ah.DataFrame(\n",
    "    df,\n",
    "    # map columns to axes\n",
    "    xs=\"year\",\n",
    "    ys=\"co2\",\n",
    "\n",
    "    # add dynamic labels\n",
    "    inline_labels=\"co2\",\n",
    "    state_labels=\"year\",\n",
    "\n",
    "    # add static labels\n",
    "    title=meta[\"label\"].title(),\n",
    "    ylabel=\"CO2 Concentrations [PPM]\",\n",
    "    note=meta[\"base_url\"],\n",
    "    caption=meta[\"description\"].split(\"\\n\")[0].title(),\n",
    "\n",
    "    # adjust dynamic limits\n",
    "    ylim1s=\"fixed\",\n",
    "    xlim1s=\"explore_5\",\n",
    "\n",
    "    # adjust figure\n",
    "    figsize=(13, 7),\n",
    "    ymargins=0.1\n",
    ").reference(\n",
    "    y0s=df_cummax[\"co2\"],\n",
    "    inline_labels=df_cummax[\"co2\"],\n",
    "    inline_locs=1000\n",
    ").remark(\n",
    "    \"Intergovernmental Panel on Climate Change (IPCC) is established\",\n",
    "    xs=1988\n",
    ").remark(\n",
    "    \"CO2 levels surpasses 400 PPM for the first time in recorded history\",\n",
    "    xs=2016  # based off Scripp's records\n",
    ").config(**{\n",
    "    \"ref_inline\": dict(prefix=\"Record max of \", suffix=\" PPM\", ha=\"center\"),\n",
    "    \"inline\": dict(suffix=\" PPM\"),\n",
    "    \"caption\": dict(width=120)\n",
    "}).render()"
   ]
  },
  {
   "cell_type": "markdown",
   "metadata": {},
   "source": [
    "### explore datasets\n",
    "\n",
    "See, it's that easy to get started. Don't have a dataset readily available? No worries!\n",
    "\n",
    "ahlive has a bunch of built-in datasets ready to use; learn more at [Fetching](../essentials/fetching.ipynb)."
   ]
  }
 ],
 "metadata": {
  "language_info": {
   "name": "python"
  }
 },
 "nbformat": 4,
 "nbformat_minor": 4
}
