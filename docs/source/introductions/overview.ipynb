{
 "cells": [
  {
   "cell_type": "markdown",
   "metadata": {},
   "source": [
    "# Overview\n",
    "Demonstrating ahlive's potential in a flash."
   ]
  },
  {
   "cell_type": "markdown",
   "metadata": {},
   "source": [
    "### easy as 1-2-3-4\n",
    "With just a few lines of code, create a stimulating animation!"
   ]
  },
  {
   "cell_type": "code",
   "execution_count": null,
   "metadata": {},
   "outputs": [],
   "source": [
    "import ahlive as ah\n",
    "df = ah.open_dataset(label='annual_co2')\n",
    "ah_df = ah.DataFrame(df, xs='year', ys='co2_ppm')\n",
    "ah_df.render()"
   ]
  },
  {
   "cell_type": "markdown",
   "metadata": {},
   "source": [
    "### simply annotate\n",
    "Conveniently add dynamic limits, labels, references, and remarks."
   ]
  },
  {
   "cell_type": "code",
   "execution_count": null,
   "metadata": {
    "ExecuteTime": {
     "end_time": "2020-12-10T05:22:35.619201Z",
     "start_time": "2020-12-10T05:21:54.044717Z"
    }
   },
   "outputs": [],
   "source": [
    "import ahlive as ah\n",
    "df = ah.open_dataset(label=\"annual_co2\")\n",
    "ah_df = ah.DataFrame(\n",
    "    df,\n",
    "    xs=\"year\",\n",
    "    ys=\"co2_ppm\",\n",
    "    ylim1s='explore_0.05',\n",
    "    ylabel=\"CO2 [ppm]\",\n",
    "    state_labels=\"year\",\n",
    "    inline_labels=\"co2_ppm\",\n",
    "    title=\"Annual Mean CO2 Concentration\",\n",
    ")\n",
    "ah_df = ah_df.reference(x0s='x', label='')\n",
    "ah_df = ah_df.remark(xs=1760, durations=1, remarks=\"Industrial Revolution\")\n",
    "ah_df = ah_df.config('inline', suffix=' ppm')\n",
    "ah_df.render()"
   ]
  },
  {
   "cell_type": "markdown",
   "metadata": {},
   "source": [
    "### built-in interpolation and easing\n",
    "Smooth and lively animations generated effortlessly."
   ]
  },
  {
   "cell_type": "code",
   "execution_count": null,
   "metadata": {},
   "outputs": [],
   "source": [
    "import ahlive as ah\n",
    "s = [88, 888, 2888]\n",
    "ah_arr1 = ah.Array(\n",
    "    [0, 2, 30], [0, 0.5, 1], s=s, label='Bloo',\n",
    "    interp='cubic', ease='in_out', revert='boomerang', frames=15)\n",
    "ah_arr2 = ah.Array(\n",
    "    [0, 0.5, 40], [1, 0.5, 2], s=s, label='OJ')\n",
    "(ah_arr1 * ah_arr2).render()"
   ]
  },
  {
   "cell_type": "markdown",
   "metadata": {},
   "source": [
    "### flexible and customizable\n",
    "And it's not just limited to the standard kinds of plots!"
   ]
  },
  {
   "cell_type": "code",
   "execution_count": null,
   "metadata": {},
   "outputs": [],
   "source": [
    "import ahlive as ah\n",
    "\n",
    "# define the data\n",
    "xs = [0, 0, 0]\n",
    "ys = [-2, 0, 2]\n",
    "hello = [\"Hello there!\"] * len(xs)\n",
    "enjoy = [\"Enjoy your stay!\"] * len(xs)\n",
    "\n",
    "# serialize the data\n",
    "ah_hello = ah.Array(\n",
    "    xs,\n",
    "    ys,\n",
    "    s=0,\n",
    "    inline_labels=hello,\n",
    "    style=\"bare\"\n",
    ")\n",
    "ah_enjoy = ah.Array(xs, ys, s=0, inline_labels=enjoy)\n",
    "\n",
    "# cascade the data; i.e. run one after the other\n",
    "ah_text = (ah_hello - ah_enjoy)\n",
    "\n",
    "# customize configuration\n",
    "ah_text = ah_text.config(\n",
    "    figure={'figsize': (2, 3)},\n",
    "    axes={'xlim': (-0.25, 0.25), 'ylim': (-1, 1)},\n",
    "    inline={'ha': 'center'},\n",
    "    spacing={'left': 0, 'right': 1, 'bottom': 0, 'right': 1}\n",
    ")\n",
    "ah_text.finalize()\n",
    "\n",
    "# animate the data\n",
    "ah_text.render()"
   ]
  }
 ],
 "metadata": {
  "kernelspec": {
   "display_name": "Python 3",
   "language": "python",
   "name": "python3"
  },
  "language_info": {
   "codemirror_mode": {
    "name": "ipython",
    "version": 3
   },
   "file_extension": ".py",
   "mimetype": "text/x-python",
   "name": "python",
   "nbconvert_exporter": "python",
   "pygments_lexer": "ipython3",
   "version": "3.8.5"
  }
 },
 "nbformat": 4,
 "nbformat_minor": 4
}
