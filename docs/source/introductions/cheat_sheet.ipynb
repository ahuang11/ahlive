{
 "cells": [
  {
   "cell_type": "markdown",
   "metadata": {},
   "source": [
    "# Cheat Sheet\n",
    "\n",
    "Pointers on where to start to achieve some functionality.\n",
    "\n",
    "How do I... | Documentation | Example\n",
    "--- | --- | ---\n",
    "transform a wide dataset into a tidy one | [pandas.melt](https://pandas.pydata.org/pandas-docs/stable/reference/api/pandas.melt.html) | `df.melt(index_col=[\"time\"])`\n",
    "add labels that follow the data | [inline labels](../essentials/labeling.ipynb#inline-labels) | `ah.Array(..., inline_labels=\"y\")`\n",
    "stack a pair of plots | [overlay](../essentials/merging.ipynb#overlay-objects) | `ah.Array(...) * ah.Array(...)`\n",
    "create subplots side by side | [layout](../essentials/merging.ipynb#layout-objects) | `ah.Array(...) + ah.Array(...)`\n",
    "map data geographically | [mapping](../essentials/mapping.ipynb) | `ah.Array(..., crs=\"platecaree\", projection=\"robinson\")`\n",
    "pause animation to add a commentary | [remarking](../essentials/remarking.ipynb) | `ah.Array(...).remark(\"is 2\", ys=2)`\n",
    "set a default value | [defaults](../customizations/configuring.ipynb#defaults) | `ah.config_defaults(\"plot\", color=\"black\")`\n",
    "make a bar chart race | [race](../customizations/presetting.ipynb#race) | `ah.Array(..., preset=\"race\")`\n",
    "delay replay of animation | [durations](../customizations/animating.ipynb#durations) | `ah.Array(...).config(\"durations\", final_frame=5)`\n",
    "render in parallel | [workers](../essentials/exporting.ipynb#workers) | `ah.Array(..., workers=8)`\n",
    "reduce choppiness of animation | [fps](../customizations/animating.ipynb#fps) | `ah.Array(..., fps=30)`\n",
    "use keyword not directly exposed in ahlive | [keywords](../customizations/configuring.ipynb#keywords) | `ah.Array(..., c=[1, 2, 3])`\n",
    "postprocess frame with custom code | [hooks](../customizations/configuring.ipynb#hooks) | `ah.Array(..., hooks=[postprocess_fig])`"
   ]
  }
 ],
 "metadata": {},
 "nbformat": 4,
 "nbformat_minor": 4
}
