{
 "cells": [
  {
   "cell_type": "markdown",
   "metadata": {},
   "source": [
    "# About\n",
    "ahlive is an open-source Python package that makes animating data simple, clean, and enjoyable!"
   ]
  },
  {
   "cell_type": "markdown",
   "metadata": {},
   "source": [
    "### motivation\n",
    "\n",
    "ahlive was developed because the author enjoyed seeing animated plots of data and wanted to make his own ones. There were already several Python packages that had animation capabilities, namely matplotlib, holoviews, easing, bar-chart-race, animaplot, etc. \n",
    "\n",
    "These packages, unfortunately, didn't include the author's desired features, or the features existed but was too verbose/complex to use. In addition, these features either didn't fit the packages' development roadmap, required a major internal refactor, or some of the packages were not actively maintained. Thus, ahlive was born."
   ]
  },
  {
   "cell_type": "markdown",
   "metadata": {},
   "source": [
    "### features\n",
    "\n",
    "Some of ahlive's notable aspects include:\n",
    "\n",
    "- variety of charts with presets, e.g. bar chart `race` and gridded `scan_x`\n",
    "\n",
    "- built-in dynamic annotations, e.g. `state_labels` and `inline_labels`\n",
    "\n",
    "- various static annotations, e.g. `title` and `caption`\n",
    "\n",
    "- easily accessible keywords, e.g. `figsize` and `xmargins`\n",
    "\n",
    "- vectorized and eased (smooth) interpolation, e.g. `interp` and `ease`\n",
    "\n",
    "- moving x and y axes limits, e.g. `xlims` and `ylims`\n",
    "\n",
    "- operators for joining plots, e.g. `*` and `+`\n",
    "\n",
    "- agile, sensible defaults, e.g. if under 5 frames, use `scatter` else `line`\n",
    "\n",
    "- extensible customizability, e.g. `hooks`\n",
    "\n",
    "- parallelized output, e.g. `num_workers`"
   ]
  },
  {
   "cell_type": "markdown",
   "metadata": {},
   "source": [
    "### requirements\n",
    "\n",
    "ahlive requires the following packages to work:\n",
    "\n",
    "\n",
    "package | internal use case\n",
    "--- | --- \n",
    "param | defining classes and docstrings\n",
    "numpy | interpolating and easing data\n",
    "pandas | wrangling data\n",
    "bottleneck | speeding up computations\n",
    "xarray | storing and manipulating data\n",
    "matplotlib | drawing static images\n",
    "imageio | creating animations\n",
    "\n",
    "For specific package versions see requirements.txt."
   ]
  },
  {
   "cell_type": "markdown",
   "metadata": {},
   "source": [
    "### name origin\n",
    "This package was named \"ahlive\" as a result of the author's enthusiasm for puns, and it took the author many long walks to satisfactorily derive the package's name.\n",
    "\n",
    "The package name has various meanings:\n",
    "\n",
    "- \"ahlive\" is a mispelling for \"alive\" and alive can mean not lifeless, not inanimate, or simply, animate, which happens to be the purpose of this package.\n",
    "\n",
    "- The first two letters \"ah\" as an interjection can sometimes mean eureka, e.g. \"ah, I finally figured it out!\" Hopefully, this package can help viewers gain insight from their data.\n",
    "\n",
    "- Additionally, \"ah\" as an interjection can be an exclamation of joy, e.g. \"ah, this is so cool!\" Hopefully, this package can bring joy to its viewers too.\n",
    "\n",
    "- Because developing this package was one of the author's primary pastime during the COVID-19 pandemic, \"ahlive\" can also be considered a portmanteau, or a blend of two or more words' meanings. The first two letters \"ah\" are the author's initials and the last four letters is \"live\": this package helped the author, **A**ndrew **H**uang, **live** through the quarantine.\n",
    "\n",
    "The author has previously considered naming the package \"xlive\", \"xvideo\", or \"xmovie\" because it followed the typical naming scheme for xarray-related packages e.g. xesmf, xskillscore, xgcm, etc. However, the author realized that these names might not be ideal if the user searched these  keywords in a professional setting. Nonetheless, while \"ahlive\" was still being developed privately, another Python animation package named \"xmovie\" was released."
   ]
  },
  {
   "cell_type": "markdown",
   "metadata": {},
   "source": [
    "### acknowledgements\n",
    "\n",
    "Besides the required packages, the author would like to give a shoutout to:\n",
    "\n",
    "- easing for sparking the idea of lively animations in Python\n",
    "\n",
    "- easing-functions for exemplifying scalar implementations of easing-functions\n",
    "\n",
    "- bar-chart-race for elucidating implementations of bar chart races\n",
    "\n",
    "- holoviews for inspiring much of ahlive's syntax and ease of use\n",
    "\n",
    "- xskillscore for exhibiting how to integrate CI and how to release\n",
    "\n",
    "**And, to the author's girlfriend, Shaojie H., for everything she does.**"
   ]
  }
 ],
 "metadata": {},
 "nbformat": 4,
 "nbformat_minor": 4
}
