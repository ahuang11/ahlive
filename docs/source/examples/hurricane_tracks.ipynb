{
 "cells": [
  {
   "cell_type": "markdown",
   "metadata": {},
   "source": [
    "# Hurricane Tracks\n",
    "\n",
    "Inspired by an anomalously active season."
   ]
  },
  {
   "cell_type": "code",
   "execution_count": null,
   "metadata": {},
   "outputs": [],
   "source": [
    "import ahlive as ah\n",
    "\n",
    "# open and subset 2020 Atlantic hurricanes\n",
    "df = ah.tutorial.open_dataset('tc_tracks')\n",
    "df = df.loc[(df['basin'] == 'NA')].loc['2020':]\n",
    "df = df.groupby('name').resample('1D').agg({\n",
    "    'lat': 'mean', 'lon': 'mean'})\n",
    "df = df.reset_index().sort_values(['iso_time', 'name'])\n",
    "\n",
    "# serialize\n",
    "ah_df = ah.DataFrame(\n",
    "    df, 'lon', 'lat', join='cascade', label='name',\n",
    "    state_labels='iso_time', inline_labels='name',\n",
    "    figsize=(8, 4.155), chart='scatter', preset='trail',\n",
    "    projection='PlateCarree', ocean=True, land=True,\n",
    "    xmargins=1.7, ymargins=0.2, style='bare',\n",
    "    note='Source: IBTrACS v04 - USA', frames=2, fps=15\n",
    ").config(**{\n",
    "    'preset': {'chart': 'line', 'expire': 5},\n",
    "    'ocean': {'color': '#54637a'},\n",
    "    'land': {'color': '#111111'},\n",
    "    'state': {'color': 'white'}\n",
    "})\n",
    "\n",
    "# animate the tracks\n",
    "ah_df.render()"
   ]
  }
 ],
 "metadata": {},
 "nbformat": 4,
 "nbformat_minor": 4
}
