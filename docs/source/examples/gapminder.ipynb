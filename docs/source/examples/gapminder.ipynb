{
 "cells": [
  {
   "cell_type": "markdown",
   "metadata": {},
   "source": [
    "# Gapminder\n",
    "Inspired by https://www.gapminder.org/tools/"
   ]
  },
  {
   "cell_type": "code",
   "execution_count": null,
   "metadata": {},
   "outputs": [],
   "source": [
    "import pandas as pd\n",
    "import ahlive as ah\n",
    "\n",
    "# open and combine dataframes\n",
    "pop_df = ah.tutorial.open_dataset('gapminder_population')\n",
    "lex_df = ah.tutorial.open_dataset('gapminder_life_expectancy')\n",
    "inc_df = ah.tutorial.open_dataset('gapminder_income')\n",
    "cnt_df = ah.tutorial.open_dataset('gapminder_country')\n",
    "df = pop_df.merge(lex_df, on=['geo', 'time']).merge(inc_df, on=['geo', 'time'])\n",
    "df = df.set_index('geo').join(cnt_df.set_index('country')[['name', 'region']])\n",
    "\n",
    "# subset and preprocess\n",
    "countries = [\n",
    "    \"United States\", \"China\", \"Kenya\", 'New Zealand',\n",
    "    \"Germany\", \"Brazil\", \"Afghanistan\"\n",
    "]\n",
    "df = df.loc[df['name'].isin(countries)]\n",
    "df = df.loc[df['time'].isin([1820, 1920, 2020])]\n",
    "df['population'] = df['population'] / 1e6\n",
    "\n",
    "# animate\n",
    "caption = (\n",
    "    'Income per person (GDP per capita, PPP$ inflation – adjusted), '\n",
    "    'Life Expectancy (Years), Population (million)')\n",
    "ah_df = ah.DataFrame(\n",
    "    df, 'income', 'life_expectancy', s='population', alpha=0.5,\n",
    "    label='name', inline_labels='name', state_labels='time',\n",
    "    title='Income, Life Expectancy, & Population',\n",
    "    subtitle='Source: World Bank Gapminder',\n",
    "    note='Population symbolized by size of dots',\n",
    "    caption=caption, figsize=(12, 7), legend=False, revert='boomerang',\n",
    "    xlim0s=0, xlim1s='explore', xmargins=0.1, ymargins=0.1,\n",
    ").remark(\n",
    "    remarks='s', durations=1.5, state_labels=[1820, 1920, 2020]\n",
    ").config(\n",
    "    'remark_inline', suffix='M'\n",
    ")\n",
    "ah_df.render()"
   ]
  }
 ],
 "metadata": {},
 "nbformat": 4,
 "nbformat_minor": 4
}
