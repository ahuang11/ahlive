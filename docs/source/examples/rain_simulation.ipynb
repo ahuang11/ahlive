{
 "cells": [
  {
   "cell_type": "markdown",
   "metadata": {},
   "source": [
    "# Rain simulation\n",
    "Inspired by https://matplotlib.org/3.2.1/gallery/animation/rain.html"
   ]
  },
  {
   "cell_type": "code",
   "execution_count": null,
   "metadata": {},
   "outputs": [],
   "source": [
    "import numpy as np\n",
    "import ahlive as ah\n",
    "\n",
    "overlays = []\n",
    "# have 8 unique rain occurrences\n",
    "for j in np.arange(8):\n",
    "    arrays = []\n",
    "    # at least 4 drops to 16 drops per occurrence\n",
    "    for i in range(np.random.randint(4, 16)):\n",
    "        # randomize location of raindrop splat\n",
    "        x = np.repeat(np.random.rand(1), 10)\n",
    "        y = np.repeat(np.random.rand(1), 10)\n",
    "        # make the raindrop splat expand in size\n",
    "        s = np.linspace(0, np.square(np.random.rand(1) * 100), 10)\n",
    "        # make the raindrop splat disappear\n",
    "        a = np.linspace(np.random.rand(1), 0, 10)\n",
    "        array = ah.Array(\n",
    "            x, y, s=s, alpha=a, frames=3, style='bare',\n",
    "            facecolor='none', edgecolor='black')\n",
    "        arrays.append(array\n",
    "                     )\n",
    "    # group the raindrops into one occurrence\n",
    "    overlay = ah.overlay(arrays)\n",
    "    overlays.append(overlay)\n",
    "# animate the occurrences one after another\n",
    "ah.cascade(overlays).render()"
   ]
  }
 ],
 "metadata": {},
 "nbformat": 4,
 "nbformat_minor": 4
}
