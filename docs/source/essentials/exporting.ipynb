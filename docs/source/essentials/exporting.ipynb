{
 "cells": [
  {
   "cell_type": "markdown",
   "metadata": {},
   "source": [
    "# Exporting\n",
    "It's easy."
   ]
  },
  {
   "cell_type": "markdown",
   "metadata": {},
   "source": [
    "### save\n",
    "Setting `save` will save the animation to disk and show it inline."
   ]
  },
  {
   "cell_type": "code",
   "execution_count": null,
   "metadata": {},
   "outputs": [],
   "source": [
    "import ahlive as ah\n",
    "ah.Array([0, 1, 2], [4, 5, 6], save='exporting_tutorial.gif').render()"
   ]
  },
  {
   "cell_type": "markdown",
   "metadata": {},
   "source": [
    "### fmt\n",
    "`fmt` does not have to be explicitly set; if `save` is suffixed with a file format, it will use that, else if `save` is not suffixed with any file format, it will default to gif.\n",
    "\n",
    "```python\n",
    "import ahlive as ah\n",
    "ah.Array([0, 1, 2], [4, 5, 6], save='exporting_tutorial').render()\n",
    "```\n",
    "\n",
    "However, `fmt` can be explicitly set as well. For example, to save as a video, set `fmt` as `mp4`, but note `imageio-ffmpeg` is required, e.g. `pip install imageio-ffmpeg`.\n",
    "\n",
    "```python\n",
    "import ahlive as ah\n",
    "ah.Array([0, 1, 2], [4, 5, 6], save='exporting_tutorial', fmt='mp4').render()\n",
    "```\n",
    "\n",
    "### show\n",
    "To disable showing inline, set `show` to `False`. If `save` is set, will still save to disk.\n",
    "\n",
    "```python\n",
    "import ahlive as ah\n",
    "ah.Array([0, 1, 2], [4, 5, 6], show=False).render()\n",
    "```\n",
    "\n",
    "### pygifsicle\n",
    "\n",
    "Reduce file size of an output GIF by setting `pygifiscle` to `True`. If `save` is not set, will write a temporary file in the current working directory.\n",
    "\n",
    "For this to work, `pip install pygifsicle` and `conda install gifsicle`.\n",
    "\n",
    "```python\n",
    "import ahlive as ah\n",
    "ah.Array([0, 1, 2], [4, 5, 6], pygifsicle=True).render()\n",
    "```\n",
    "\n",
    "### workers\n",
    "By default, ahlive uses a single thread to output each frame, but supports multiple processes through `workers`.\n",
    "\n",
    "```python\n",
    "import ahlive as ah\n",
    "ah.Array([0, 1, 2], [4, 5, 6], workers=1).render()\n",
    "```\n",
    "\n",
    "### progress\n",
    "The progress bar can be deactivated if desired.\n",
    "\n",
    "```python\n",
    "import ahlive as ah\n",
    "ah.Array([0, 1, 2], [4, 5, 6], progress=False).render()\n",
    "```\n",
    "\n",
    "### scheduler\n",
    "Sometimes, `scheduler='threads'` is more efficient than `scheduler='processes'` if your dataset is large.\n",
    "\n",
    "```python\n",
    "import ahlive as ah\n",
    "ah.Array([0, 1, 2], [4, 5, 6], scheduler='threads').render()\n",
    "```"
   ]
  }
 ],
 "metadata": {},
 "nbformat": 4,
 "nbformat_minor": 4
}
