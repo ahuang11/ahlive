{
 "cells": [
  {
   "cell_type": "markdown",
   "metadata": {},
   "source": [
    "# Exporting\n",
    "It's easy."
   ]
  },
  {
   "cell_type": "markdown",
   "metadata": {},
   "source": [
    "### save\n",
    "Setting `save` will save the animation to disk and show it inline."
   ]
  },
  {
   "cell_type": "code",
   "execution_count": null,
   "metadata": {},
   "outputs": [],
   "source": [
    "import ahlive as ah\n",
    "ah.Array([0, 1, 2], [4, 5, 6], save='exporting_tutorial.gif').render()"
   ]
  },
  {
   "cell_type": "markdown",
   "metadata": {},
   "source": [
    "### fmt\n",
    "`fmt` does not have to be explicitly set; if `save` is suffixed with a file format, it will use that, else if `save` is not suffixed with any file format, it will default to gif."
   ]
  },
  {
   "cell_type": "code",
   "execution_count": null,
   "metadata": {},
   "outputs": [],
   "source": [
    "import ahlive as ah\n",
    "ah.Array([0, 1, 2], [4, 5, 6], save='exporting_tutorial').render()"
   ]
  },
  {
   "cell_type": "markdown",
   "metadata": {},
   "source": [
    "However, `fmt` can be explicitly set as well. For example, to save as a video, set `fmt` as `mp4`, but note `imageio-ffmpeg` is required, e.g. `pip install imageio-ffmpeg`.\n",
    "\n",
    "```\n",
    "import ahlive as ah\n",
    "ah.Array([0, 1, 2], [4, 5, 6], save='exporting_tutorial', fmt='mp4').render()\n",
    "```"
   ]
  },
  {
   "cell_type": "markdown",
   "metadata": {},
   "source": [
    "### show\n",
    "To disable showing inline, set `show` to `False`."
   ]
  },
  {
   "cell_type": "code",
   "execution_count": null,
   "metadata": {},
   "outputs": [],
   "source": [
    "import ahlive as ah\n",
    "ah.Array([0, 1, 2], [4, 5, 6], show=False).render()"
   ]
  },
  {
   "cell_type": "markdown",
   "metadata": {},
   "source": [
    "### workers\n",
    "By default, ahlive uses up to multiple processors to parallelize the generation of individual frames. The number of processors used can be set through `workers`."
   ]
  },
  {
   "cell_type": "code",
   "execution_count": null,
   "metadata": {},
   "outputs": [],
   "source": [
    "import ahlive as ah\n",
    "ah.Array([0, 1, 2], [4, 5, 6], workers=1).render()"
   ]
  },
  {
   "cell_type": "markdown",
   "metadata": {},
   "source": [
    "### scheduler\n",
    "Sometimes, `scheduler='single-threaded'` is more efficient than `scheduler=processors` if your dataset is large."
   ]
  },
  {
   "cell_type": "code",
   "execution_count": null,
   "metadata": {},
   "outputs": [],
   "source": [
    "import ahlive as ah\n",
    "ah.Array([0, 1, 2], [4, 5, 6], scheduler='single-threaded').render()"
   ]
  }
 ],
 "metadata": {},
 "nbformat": 4,
 "nbformat_minor": 4
}
