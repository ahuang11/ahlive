{
 "cells": [
  {
   "cell_type": "markdown",
   "metadata": {},
   "source": [
    "# Labeling\n",
    "\n",
    "Viewers can better understand the animation if labeled; ahlive makes this easy!"
   ]
  },
  {
   "cell_type": "markdown",
   "metadata": {},
   "source": [
    "### annotating keywords\n",
    "ahlive has these keywords for annotating data:\n",
    "\n",
    "ahlive keyword | default location | scope | dynamic | description\n",
    "--- | --- | --- | --- | ---\n",
    "`suptitle` | upper center | figure | False | figure heading\n",
    "`watermark` | outer bottom right | figure | False | figure's acknowledgements\n",
    "`title` | upper left | subplot | False | subplots' headings\n",
    "`subtitle` | upper right | subplot | False | smaller subplots' headings\n",
    "`xlabel` | outer left | subplot | False | x-axes' names\n",
    "`ylabel` | outer bottom | subplot | False | y-axes' names\n",
    "`clabel` | outer right | subplot | False | colorbars' names\n",
    "`note` | lower left | subplot | False | subplots' comment\n",
    "`caption` | outer bottom left | subplot | False | subplots' descriptions\n",
    "`state_labels` | lower right | subplot | True | states' values\n",
    "`inline_labels` | upper right of last value | item | True | items' values\n",
    "`label` | top left | item | False | legend items' names\n",
    "`group` | top left | items | False | group of items' names\n",
    "`grid` | frame | subplot | False | grid"
   ]
  },
  {
   "cell_type": "markdown",
   "metadata": {},
   "source": [
    "### static labels\n",
    "To use any static label, simply pass a `str` value to the keyword."
   ]
  },
  {
   "cell_type": "code",
   "execution_count": null,
   "metadata": {},
   "outputs": [],
   "source": [
    "import ahlive as ah\n",
    "arr1 = ah.Array(\n",
    "    [0, 1, 2], [3, 4, 1], cs=[6, 7, 8],\n",
    "    suptitle='the \"suptitle\"', watermark='the \"watermark\"',\n",
    "    title='the \"title\"', subtitle='the \"subtitle\"',\n",
    "    xlabel='the \"xlabel\"', ylabel='the \"ylabel\"', clabel='the \"clabel\"',\n",
    "    note='the \"note\"', caption='the \"caption\"', label='the \"label\" for arr1',\n",
    "    grid=True\n",
    ")\n",
    "arr2 = ah.Array(\n",
    "    [0, 1, 2], [1.5, 3, 9], label='the \"label\" for arr2', marker='^'\n",
    ")\n",
    "(arr1 * arr2).render()"
   ]
  },
  {
   "cell_type": "markdown",
   "metadata": {},
   "source": [
    "### group labels\n",
    "\n",
    "Group labels batches multiple legend labels into a single legend label.\n",
    "\n",
    "This can also slightly optimize runtime because the same groups are plotted simultaneously."
   ]
  },
  {
   "cell_type": "code",
   "execution_count": null,
   "metadata": {},
   "outputs": [],
   "source": [
    "import ahlive as ah\n",
    "import pandas as pd\n",
    "df = pd.DataFrame({\n",
    "    'x': [0, 1, 2, 3, 4, 5],\n",
    "    'y': [3, 4, 5, 6, 7, 8],\n",
    "    'label': ['a', 'a', '1', '1', '2', '3'],\n",
    "    'group': ['alpha', 'alpha', 'number', 'number', 'number', 'number']})\n",
    "arr = ah.DataFrame(df, 'x', 'y', label='label', group='group')\n",
    "arr.render()"
   ]
  },
  {
   "cell_type": "markdown",
   "metadata": {},
   "source": [
    "### state labels\n",
    "To use `state_labels`, simply pass an `Iterable` to the keyword; the length should match the values passed to `xs` and `ys`."
   ]
  },
  {
   "cell_type": "code",
   "execution_count": null,
   "metadata": {},
   "outputs": [],
   "source": [
    "import ahlive as ah\n",
    "arr = ah.Array([0, 1, 2], [3, 4, 5], state_labels=['a', 'b', 'c'])\n",
    "arr.render()"
   ]
  },
  {
   "cell_type": "markdown",
   "metadata": {},
   "source": [
    "If using `ah.DataFrame` and `ah.Dataset`, instead of passing an `Iterable` to the keyword, pass a `str` referencing the column / label of the `pd.DataFrame` or `xr.Dataset`."
   ]
  },
  {
   "cell_type": "code",
   "execution_count": null,
   "metadata": {},
   "outputs": [],
   "source": [
    "import ahlive as ah\n",
    "import pandas as pd\n",
    "df = pd.DataFrame({'x': [0, 1, 2], 'y': [3, 4, 5], 'state': [10, 11, 12]})\n",
    "arr = ah.DataFrame(df, 'x', 'y', state_labels='state')\n",
    "arr.render()"
   ]
  },
  {
   "cell_type": "markdown",
   "metadata": {},
   "source": [
    "`state_labels` can also reside in the title by setting `xy` in `config`."
   ]
  },
  {
   "cell_type": "code",
   "execution_count": null,
   "metadata": {},
   "outputs": [],
   "source": [
    "import ahlive as ah\n",
    "import pandas as pd\n",
    "df = pd.DataFrame({'x': [0, 1, 2], 'y': [3, 4, 5], 'state': [10, 11, 12]})\n",
    "arr = ah.DataFrame(df, 'x', 'y', title=\"Title\", state_labels='state')\n",
    "arr.config(\"state\", xy=\"title\").render()"
   ]
  },
  {
   "cell_type": "markdown",
   "metadata": {},
   "source": [
    "Other valid `xy` locations are listed below."
   ]
  },
  {
   "cell_type": "code",
   "execution_count": null,
   "metadata": {},
   "outputs": [],
   "source": [
    "from ahlive.configuration import OPTIONS\n",
    "print(OPTIONS[\"state_xy\"])"
   ]
  },
  {
   "cell_type": "markdown",
   "metadata": {},
   "source": [
    "### inline labels\n",
    "To use `inline_labels`, simply pass an `Iterable` to the keyword; the length should match the values passed to `xs` and `ys`."
   ]
  },
  {
   "cell_type": "code",
   "execution_count": null,
   "metadata": {},
   "outputs": [],
   "source": [
    "import ahlive as ah\n",
    "arr = ah.Array([0, 1, 2], [3, 4, 5], inline_labels=['3', 'four', '5.0'])\n",
    "arr.render()"
   ]
  },
  {
   "cell_type": "markdown",
   "metadata": {},
   "source": [
    "To use `inline_labels` for `ah.DataFrame` and `ah.Dataset`, pass the column / label."
   ]
  },
  {
   "cell_type": "code",
   "execution_count": null,
   "metadata": {},
   "outputs": [],
   "source": [
    "import ahlive as ah\n",
    "import pandas as pd\n",
    "df = pd.DataFrame({'x': [0, 1, 2], 'y': [3, 4, 5]})\n",
    "arr = ah.DataFrame(df, 'x', 'y', inline_labels='y')\n",
    "arr.render()"
   ]
  },
  {
   "cell_type": "markdown",
   "metadata": {},
   "source": [
    "<div class=\"alert alert-info\">\n",
    "\n",
    "Both `state_labels` and `inline_labels` support various input types, e.g. `str`, `int`, `float`, or `datetime`.\n",
    "\n",
    "</div>"
   ]
  },
  {
   "cell_type": "markdown",
   "metadata": {},
   "source": [
    "### adjust text\n",
    "\n",
    "To prevent overlap, `adjust_text` can be set to True."
   ]
  },
  {
   "cell_type": "code",
   "execution_count": null,
   "metadata": {},
   "outputs": [],
   "source": [
    "import ahlive as ah\n",
    "arr1 = ah.Array([0, 1, 2], [3, 4, 5], inline_labels=\"red\", adjust_text=True)\n",
    "arr2 = ah.Array([0, 1, 2], [2, 4, 4], inline_labels=\"blue\")\n",
    "arr1.overlay(arr2).config(\"adjust_text\", precision=1).render()"
   ]
  },
  {
   "cell_type": "markdown",
   "metadata": {},
   "source": [
    "<div class=\"alert alert-warning\">\n",
    "\n",
    "Setting `adjust_text=True` may slow down the rendering significantly because for each frame, it iteratively moves them to reduce overlaps. Reducing `precision` or `lims` may help performance; see [adjustText](https://adjusttext.readthedocs.io/en/latest/)'s docs for more options.\n",
    "\n",
    "</div>"
   ]
  },
  {
   "cell_type": "markdown",
   "metadata": {},
   "source": [
    "### affixes\n",
    "\n",
    "All labels can be suffixed, prefixed, and/or added units through `config`."
   ]
  },
  {
   "cell_type": "code",
   "execution_count": null,
   "metadata": {},
   "outputs": [],
   "source": [
    "import ahlive as ah\n",
    "arr = ah.Array([0, 1, 2], [3, 4, 5], inline_labels=['3', 'four', '5.0'])\n",
    "arr.config(\"inline\", prefix=\"P \", suffix=\" S\", units=\"u\").render()"
   ]
  },
  {
   "cell_type": "markdown",
   "metadata": {},
   "source": [
    "### width\n",
    "\n",
    "If labels are too long, they can be wrapped automatically so every line is up to the max number of characters specified as `width`."
   ]
  },
  {
   "cell_type": "code",
   "execution_count": null,
   "metadata": {},
   "outputs": [],
   "source": [
    "import ahlive as ah\n",
    "caption = (\n",
    "    \"Super long caption that will wrap onto the next line automatically! \"\n",
    "    \"Isn't ahlive awesome?\"\n",
    ")\n",
    "arr = ah.Array([0, 1, 2], [3, 4, 5], caption=caption)\n",
    "arr.config(\"caption\", width=50).render()"
   ]
  },
  {
   "cell_type": "markdown",
   "metadata": {},
   "source": [
    "### replacements\n",
    "\n",
    "`replacements` can also be made to any labels by specifying a `dict` in `config`."
   ]
  },
  {
   "cell_type": "code",
   "execution_count": null,
   "metadata": {},
   "outputs": [],
   "source": [
    "import ahlive as ah\n",
    "arr = ah.Array([0, 1, 2], [3, 4, 5], state_labels=['3', 'four', '5.0'])\n",
    "arr.config(\"state\", replacements={\"[\": \"(\", \"]\": \")\"}, units=\"u\").render()"
   ]
  }
 ],
 "metadata": {},
 "nbformat": 4,
 "nbformat_minor": 4
}
