{
 "cells": [
  {
   "cell_type": "markdown",
   "metadata": {},
   "source": [
    "# Merging\n",
    "ahlive allows data to be combined into a single figure to let the animations run simultaneously."
   ]
  },
  {
   "cell_type": "markdown",
   "metadata": {},
   "source": [
    "### merging functions\n",
    "ahlive has these functions for merging data:\n",
    "\n",
    "ahlive function | method | operator | description\n",
    "--- | --- | --- | --- \n",
    "`ah.overlay` | `overlay` | `*` | stack plots over one another into a single subplot\n",
    "`ah.cascade` | `cascade` | `-` |  like overlay, but animates the data serially, one after another\n",
    "`ah.stagger` | `stagger` | `**` | like overlay, but animates the data in a staggered fashion, step by step\n",
    "`ah.slide` | `slide` | `//` | like overlay, but delays the latter datasets by a single frame\n",
    "`ah.layout` | `layout` | `+` `/` | arrange plots horizontally or vertically as multiple subplots\n",
    "`ah.merge` | n/a | n/a | a generic method for all merges by specifying `join`"
   ]
  },
  {
   "cell_type": "markdown",
   "metadata": {},
   "source": [
    "### overlay\n",
    "To overlay, simply multiply the objects.\n",
    "\n",
    "This results in an `ah.Data` object that contains multiple `item`s within the wrapped `xr.Dataset`."
   ]
  },
  {
   "cell_type": "code",
   "execution_count": null,
   "metadata": {},
   "outputs": [],
   "source": [
    "import ahlive as ah\n",
    "arr1 = ah.Array([0, 1, 2], [4, 5, 4], label='Array One', chart='line')\n",
    "arr2 = ah.Array([0, 1, 2], [3, 5, 6], label='Array Two', chart='line')\n",
    "# equivalently arr1.overlay(arr2) or ah.overlay([arr1, arr2])\n",
    "overlay = arr1 * arr2\n",
    "print(overlay)\n",
    "overlay.render()"
   ]
  },
  {
   "cell_type": "markdown",
   "metadata": {},
   "source": [
    "### cascade\n",
    "\n",
    "To cascade, simply subtract the objects.\n",
    "\n",
    "Similar to `overlay`, this results in an `ah.Data` object that contains multiple `item`s within the wrapped `xr.Dataset`, but the difference is that the first `ah.Data` object's animation concludes before the second `ah.Data` object is starts."
   ]
  },
  {
   "cell_type": "code",
   "execution_count": null,
   "metadata": {},
   "outputs": [],
   "source": [
    "import ahlive as ah\n",
    "arr1 = ah.Array([0, 1, 2], [0, 5, 4], label='Array One', chart='line')\n",
    "arr2 = ah.Array([0, 1, 2], [3, 5, 6], label='Array Two', chart='line')\n",
    "# equivalently arr1.cascade(arr2) or ah.cascade([arr1, arr2])\n",
    "cascade = arr1 - arr2\n",
    "print(cascade)\n",
    "cascade.render()"
   ]
  },
  {
   "cell_type": "markdown",
   "metadata": {},
   "source": [
    "### stagger\n",
    "To stagger, use the exponent symbol on the objects.\n",
    "\n",
    "Similar to `overlay` and `cascade`, this results in an `ah.Data` object that contains additional `item`s and `state`s within the wrapped `xr.Dataset`, but the difference is that the first `ah.Data` and the second `ah.Data` objects take turns animating."
   ]
  },
  {
   "cell_type": "code",
   "execution_count": null,
   "metadata": {},
   "outputs": [],
   "source": [
    "import ahlive as ah\n",
    "arr1 = ah.Array([0, 1, 2], [0, 5, 4], label='Array One', chart='line')\n",
    "arr2 = ah.Array([0, 1, 2], [3, 5, 6], label='Array Two', chart='line')\n",
    "# equivalently arr1.stagger(arr2) or ah.stagger([arr1, arr2])\n",
    "stagger = arr1 ** arr2\n",
    "print(stagger)\n",
    "stagger.render()"
   ]
  },
  {
   "cell_type": "markdown",
   "metadata": {},
   "source": [
    "### slide\n",
    "To slide, use the floor division symbol on the objects.\n",
    "\n",
    "Similar to `overlay`, `cascade`, and `stagger`, this results in an `ah.Data` object that contains additional `item`s and `state`s within the wrapped `xr.Dataset`, but the latter `ah.Data` objects' `frames` are offset by one and animated simultaneously."
   ]
  },
  {
   "cell_type": "code",
   "execution_count": null,
   "metadata": {},
   "outputs": [],
   "source": [
    "import ahlive as ah\n",
    "arr1 = ah.Array([0, 1, 2], [0, 5, 4], label='Array One', chart='line')\n",
    "arr2 = ah.Array([0, 1, 2], [3, 5, 6], label='Array Two', chart='line')\n",
    "# equivalently arr1.slide(arr2) or ah.slide([arr1, arr2])\n",
    "slide = arr1 // arr2\n",
    "print(slide)\n",
    "slide.render()"
   ]
  },
  {
   "cell_type": "markdown",
   "metadata": {},
   "source": [
    "### layout\n",
    "To layout, simply \n",
    "add the objects to lay them out horizontally or divide the objects to lay them out vertically.\n",
    "\n",
    "This results in an `ah.Data` object that contains multiple `key`s within the wrapped `dict`."
   ]
  },
  {
   "cell_type": "code",
   "execution_count": null,
   "metadata": {},
   "outputs": [],
   "source": [
    "import ahlive as ah\n",
    "arr1 = ah.Array([0, 1], [4, 5], title='Array One', chart='line')\n",
    "arr2 = ah.Array([0, 1], [3, 5], title='Array Two', chart='line')\n",
    "arr3 = ah.Array([0, 1], [7, 8], title='Array Three', chart='line')\n",
    "layout = (arr1 + arr2) / arr3\n",
    "print(layout)\n",
    "layout.render()"
   ]
  },
  {
   "cell_type": "markdown",
   "metadata": {},
   "source": [
    "Instead of manually using the divide operator to achieve a vertical layout, the max number of columns can be specified through `cols`.\n",
    "\n",
    "Any subplot that exceeds the max number of `cols` is wrapped to the next row."
   ]
  },
  {
   "cell_type": "code",
   "execution_count": null,
   "metadata": {},
   "outputs": [],
   "source": [
    "import ahlive as ah\n",
    "arr1 = ah.Array([0, 1], [4, 5], title='Array One', chart='line')\n",
    "arr2 = ah.Array([0, 1], [3, 5], title='Array Two', chart='line')\n",
    "arr3 = ah.Array([0, 1], [7, 8], title='Array Three', chart='line')\n",
    "layout = (arr1 + arr2 + arr3).cols(2)\n",
    "layout.render()"
   ]
  },
  {
   "cell_type": "markdown",
   "metadata": {},
   "source": [
    "### merge\n",
    "\n",
    "To merge a list of objects, use the built-in method, `merge` specifying the `join` method.\n",
    "\n",
    "This is useful for dynamically created objects, such as through list comprehensions."
   ]
  },
  {
   "cell_type": "code",
   "execution_count": null,
   "metadata": {},
   "outputs": [],
   "source": [
    "import ahlive as ah\n",
    "for join in ['overlay', 'cascade']:\n",
    "    merged = ah.merge([\n",
    "        ah.Array(\n",
    "            [0, 1, 2], [i, i + 1, i + 2], title=join\n",
    "        ) for i in range(0, 3)\n",
    "    ], join=join)\n",
    "    merged.render()"
   ]
  }
 ],
 "metadata": {},
 "nbformat": 4,
 "nbformat_minor": 4
}
