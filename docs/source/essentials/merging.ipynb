{
 "cells": [
  {
   "cell_type": "markdown",
   "metadata": {},
   "source": [
    "# Merging\n",
    "ahlive allows data to be combined into a single figure to let the animations run simultaneously."
   ]
  },
  {
   "cell_type": "markdown",
   "metadata": {},
   "source": [
    "### merging functions\n",
    "ahlive has these functions for merging data:\n",
    "\n",
    "ahlive method | operator | description\n",
    "--- | --- | --- \n",
    "`ah.overlay` | `*` | stack plots over one another into a single subplot\n",
    "`ah.cascade` | `-` |  like overlay, but animates the data serially, one after another\n",
    "`ah.layout` | `+` `/` | arrange plots horizontally or vertically as multiple subplots\n",
    "`ah.merge` |  | a generic method for all merges by specifying `join`"
   ]
  },
  {
   "cell_type": "markdown",
   "metadata": {},
   "source": [
    "### overlay objects\n",
    "To overlay, simply multiply the objects.\n",
    "\n",
    "This results in an `ah.Data` object that contains multiple `item`s within the wrapped `xr.Dataset`."
   ]
  },
  {
   "cell_type": "code",
   "execution_count": null,
   "metadata": {},
   "outputs": [],
   "source": [
    "import ahlive as ah\n",
    "arr1 = ah.Array([0, 1, 2], [4, 5, 4], label='Array One', chart='line')\n",
    "arr2 = ah.Array([0, 1, 2], [3, 5, 6], label='Array Two', chart='line')\n",
    "overlay = arr1 * arr2\n",
    "print(overlay)\n",
    "overlay.render()"
   ]
  },
  {
   "cell_type": "markdown",
   "metadata": {},
   "source": [
    "### cascade objects\n",
    "To cascade, simply subtract the objects.\n",
    "\n",
    "This results in an `ah.Data` object that contains additional `item`s and `state`s within the wrapped `xr.Dataset`."
   ]
  },
  {
   "cell_type": "code",
   "execution_count": null,
   "metadata": {},
   "outputs": [],
   "source": [
    "import ahlive as ah\n",
    "arr1 = ah.Array([0, 1, 2], [0, 5, 4], label='Array One', chart='line')\n",
    "arr2 = ah.Array([0, 1, 2], [3, 5, 6], label='Array Two', chart='line')\n",
    "cascade = arr1 - arr2\n",
    "print(cascade)\n",
    "cascade.render()"
   ]
  },
  {
   "cell_type": "markdown",
   "metadata": {},
   "source": [
    "### layout objects\n",
    "To layout, simply \n",
    "add the objects to lay them out horizontally or divide the objects to lay them out vertically.\n",
    "\n",
    "This results in an `ah.Data` object that contains multiple `key`s within the wrapped `dict`."
   ]
  },
  {
   "cell_type": "code",
   "execution_count": null,
   "metadata": {},
   "outputs": [],
   "source": [
    "import ahlive as ah\n",
    "arr1 = ah.Array([0, 1, 2], [4, 5, 4], title='Array One', chart='line')\n",
    "arr2 = ah.Array([0, 1, 2], [3, 5, 6], title='Array Two', chart='line')\n",
    "arr3 = ah.Array([0, 1, 2], [7, 8, 0], title='Array Three', chart='line')\n",
    "layout = (arr1 + arr2) / arr3\n",
    "print(layout)\n",
    "layout.render()"
   ]
  },
  {
   "cell_type": "markdown",
   "metadata": {},
   "source": [
    "Instead of manually using the divide operator to achieve a vertical layout, the max number of columns can be specified through `cols`.\n",
    "\n",
    "Any subplot that exceeds the max number of `cols` is wrapped to the next row."
   ]
  },
  {
   "cell_type": "code",
   "execution_count": null,
   "metadata": {},
   "outputs": [],
   "source": [
    "import ahlive as ah\n",
    "arr1 = ah.Array([0, 1, 2], [4, 5, 4], title='Array One', chart='line')\n",
    "arr2 = ah.Array([0, 1, 2], [3, 5, 6], title='Array Two', chart='line')\n",
    "arr3 = ah.Array([0, 1, 2], [7, 8, 0], title='Array Three', chart='line')\n",
    "layout = (arr1 + arr2 + arr3).cols(2)\n",
    "layout.render()"
   ]
  },
  {
   "cell_type": "markdown",
   "metadata": {},
   "source": [
    "### merge list\n",
    "\n",
    "To merge a list of objects, use the built-in method, `merge` specifying the `join` method.\n",
    "\n",
    "This is useful for dynamically created objects, such as through list comprehensions."
   ]
  },
  {
   "cell_type": "code",
   "execution_count": null,
   "metadata": {},
   "outputs": [],
   "source": [
    "import ahlive as ah\n",
    "for join in ['overlay', 'layout', 'cascade']:\n",
    "    merged = ah.merge([\n",
    "        ah.Array(\n",
    "            [0, 1, 2], [i, i + 1, i + 2], title=join\n",
    "        ) for i in range(0, 3)\n",
    "    ], join=join)\n",
    "    merged.render()"
   ]
  },
  {
   "cell_type": "markdown",
   "metadata": {},
   "source": [
    "<div class=\"alert alert-warning\">\n",
    "\n",
    "If all the objects are identically formatted, specifying `quick=True` in `ah.merge` can speed up the merges. \n",
    "`ah.DataFrame` and `ah.Dataset` have a built-in `join` keyword argument that does this internally.\n",
    "\n",
    "</div>"
   ]
  }
 ],
 "metadata": {},
 "nbformat": 4,
 "nbformat_minor": 4
}
