{
 "cells": [
  {
   "cell_type": "markdown",
   "metadata": {},
   "source": [
    "# Annotating\n",
    "\n",
    "Viewers can better understand the animation if annotated; ahlive makes this easy!"
   ]
  },
  {
   "cell_type": "markdown",
   "metadata": {},
   "source": [
    "### annotating keywords\n",
    "ahlive has these keywords for annotating data:\n",
    "\n",
    "ahlive keyword | default location | scope | dynamic | description\n",
    "--- | --- | --- | --- | ---\n",
    "`suptitle` | upper center | figure | False | figure heading\n",
    "`watermark` | outer bottom right | figure | False | figure's acknowledgements\n",
    "`title` | upper left | subplot | False | subplots' headings\n",
    "`subtitle` | upper right | subplot | False | smaller subplots' headings\n",
    "`xlabel` | outer left | subplot | False | x-axes' names\n",
    "`ylabel` | outer bottom | subplot | False | y-axes' names\n",
    "`clabel` | outer right | subplot | False | colorbars' names\n",
    "`note` | lower left | subplot | False | subplots' comment\n",
    "`caption` | outer bottom left | subplot | False | subplots' descriptions\n",
    "`state_labels` | lower right | subplot | True | states' values\n",
    "`inline_labels` | upper right of last value | item | True | items' values\n",
    "`label` | top left | item | False | legend items' names\n",
    "`grid` | frame | subplot | False | grid\n",
    "\n",
    "### annotating methods\n",
    "In addition to these keywords, ahlive has a couple other annotating methods:\n",
    "\n",
    "ahlive method | default location | scope | dynamic | description\n",
    "--- | --- | --- | --- | ---\n",
    "`remark` | bottom right of remark | item | False | commentary about a point\n",
    "`reference` | bottom right of reference | item | False | reference point, line, or area\n",
    "\n",
    "### geographic keywords\n",
    "For geographic annotations, there are these keywords:\n",
    "\n",
    "ahlive keyword | type | scope | description\n",
    "--- | --- | --- | ---\n",
    "`crs` | `str` | subplot | the data's projection coordinate reference system (crs)\n",
    "`projection` | `str` | subplot | the desired output crs\n",
    "`central_lon` | `float` | subplot | the desired longitude in degrees to center on\n",
    "`tiles` | `str` | subplot | whether to show web tiles\n",
    "`borders` | `bool` | subplot | whether to show country borders\n",
    "`coastline` | `bool` | subplot | whether to show coastlines\n",
    "`land` | `bool` | subplot | whether to show land\n",
    "`ocean` | `bool` | subplot | whether to show ocean\n",
    "`lakes` | `bool` | subplot | whether to show lakes\n",
    "`rivers` | `bool` | subplot | whether to show rivers\n",
    "`states` | `bool` | subplot | whether to show US states' borders\n",
    "`worldwide` | `bool` | subplot | whether to set to global extents"
   ]
  },
  {
   "cell_type": "markdown",
   "metadata": {},
   "source": [
    "### static labels\n",
    "To use any static label, simply pass a `str` value to the keyword."
   ]
  },
  {
   "cell_type": "code",
   "execution_count": null,
   "metadata": {},
   "outputs": [],
   "source": [
    "import ahlive as ah\n",
    "arr1 = ah.Array(\n",
    "    [0, 1, 2], [3, 4, 1], cs=[6, 7, 8],\n",
    "    suptitle='the \"suptitle\"', watermark='the \"watermark\"',\n",
    "    title='the \"title\"', subtitle='the \"subtitle\"',\n",
    "    xlabel='the \"xlabel\"', ylabel='the \"ylabel\"', clabel='the \"clabel\"',\n",
    "    note='the \"note\"', caption='the \"caption\"', label='the \"label\" for arr1',\n",
    "    grid=True\n",
    ")\n",
    "arr2 = ah.Array(\n",
    "    [0, 1, 2], [1.5, 3, 9], label='the \"label\" for arr2', marker='^'\n",
    ")\n",
    "(arr1 * arr2).render()"
   ]
  },
  {
   "cell_type": "markdown",
   "metadata": {},
   "source": [
    "### state labels\n",
    "To use `state_labels`, simply pass an `Iterable` to the keyword; the length should match the values passed to `xs` and `ys`."
   ]
  },
  {
   "cell_type": "code",
   "execution_count": null,
   "metadata": {},
   "outputs": [],
   "source": [
    "import ahlive as ah\n",
    "arr = ah.Array([0, 1, 2], [3, 4, 5], state_labels=['a', 'b', 'c'])\n",
    "arr.render()"
   ]
  },
  {
   "cell_type": "markdown",
   "metadata": {},
   "source": [
    "If using `ah.DataFrame` and `ah.Dataset`, instead of passing an `Iterable` to the keyword, pass a `str` referencing the column / label of the `pd.DataFrame` or `xr.Dataset`."
   ]
  },
  {
   "cell_type": "code",
   "execution_count": null,
   "metadata": {},
   "outputs": [],
   "source": [
    "import ahlive as ah\n",
    "import pandas as pd\n",
    "df = pd.DataFrame({'x': [0, 1, 2], 'y': [3, 4, 5], 'state': [10, 11, 12]})\n",
    "arr = ah.DataFrame(df, 'x', 'y', state_labels='state')\n",
    "arr.render()"
   ]
  },
  {
   "cell_type": "markdown",
   "metadata": {},
   "source": [
    "### inline labels\n",
    "To use `inline_labels`, simply pass an `Iterable` to the keyword; the length should match the values passed to `xs` and `ys`."
   ]
  },
  {
   "cell_type": "code",
   "execution_count": null,
   "metadata": {},
   "outputs": [],
   "source": [
    "import ahlive as ah\n",
    "arr = ah.Array([0, 1, 2], [3, 4, 5], inline_labels=['3', 'four', '5.0'])\n",
    "arr.render()"
   ]
  },
  {
   "cell_type": "markdown",
   "metadata": {},
   "source": [
    "To use `inline_labels` for `ah.DataFrame` and `ah.Dataset`, pass the column / label."
   ]
  },
  {
   "cell_type": "code",
   "execution_count": null,
   "metadata": {},
   "outputs": [],
   "source": [
    "import ahlive as ah\n",
    "import pandas as pd\n",
    "df = pd.DataFrame({'x': [0, 1, 2], 'y': [3, 4, 5]})\n",
    "arr = ah.DataFrame(df, 'x', 'y', inline_labels='y')\n",
    "arr.render()"
   ]
  },
  {
   "cell_type": "markdown",
   "metadata": {},
   "source": [
    "<div class=\"alert alert-info\">\n",
    "\n",
    "Both `state_labels` and `inline_labels` support various input types, e.g. `str`, `int`, `float`, or `datetime`.\n",
    "\n",
    "</div>"
   ]
  },
  {
   "cell_type": "markdown",
   "metadata": {},
   "source": [
    "### remark\n",
    "To add a remark, pass a `condition`; upon meeting that `condition`, the `remarks` will appear."
   ]
  },
  {
   "cell_type": "code",
   "execution_count": null,
   "metadata": {},
   "outputs": [],
   "source": [
    "import numpy as np\n",
    "import ahlive as ah\n",
    "xs = np.array([0, 1, 2])\n",
    "ys = np.array([3, 4, 5])\n",
    "arr = ah.Array(xs, ys)\n",
    "arr = arr.remark(\n",
    "    condition=ys == 4,\n",
    "    remarks='y equals to 4!!'\n",
    ")\n",
    "arr.render()"
   ]
  },
  {
   "cell_type": "markdown",
   "metadata": {},
   "source": [
    "<div class=\"alert alert-warning\">\n",
    "\n",
    "`remark` does not save the object inplace so be sure to either save it to a new variable or same variable!\n",
    "\n",
    "</div>"
   ]
  },
  {
   "cell_type": "markdown",
   "metadata": {},
   "source": [
    "It is also possible to add delays, in seconds, where there was a remark through `durations`."
   ]
  },
  {
   "cell_type": "code",
   "execution_count": null,
   "metadata": {},
   "outputs": [],
   "source": [
    "import numpy as np\n",
    "import ahlive as ah\n",
    "xs = np.array([0, 1, 2])\n",
    "ys = np.array([3, 4, 5])\n",
    "arr = ah.Array(xs, ys)\n",
    "arr = arr.remark(\n",
    "    condition=ys == 4,\n",
    "    remarks='y equals to 4!!',\n",
    "    durations=2\n",
    ")\n",
    "arr.render()"
   ]
  },
  {
   "cell_type": "markdown",
   "metadata": {},
   "source": [
    "Instead of formulating a `condition`, for convenience, values can be passed to `xs`, `ys`, `cs`, `state_labels`, and `inline_labels`. \n",
    "\n",
    "When the data values match the conditional values for the given label, `remarks` will trigger."
   ]
  },
  {
   "cell_type": "code",
   "execution_count": null,
   "metadata": {},
   "outputs": [],
   "source": [
    "import ahlive as ah\n",
    "arr = ah.Array([0, 1, 2], [3, 4, 5])\n",
    "arr = arr.remark(xs=1, remarks='x equals to 1!!')\n",
    "arr.render()"
   ]
  },
  {
   "cell_type": "markdown",
   "metadata": {},
   "source": [
    "Besides scalars, `xs`, `ys`, `cs`, `state_labels`, and `inline_labels` support `Iterables` too."
   ]
  },
  {
   "cell_type": "code",
   "execution_count": null,
   "metadata": {},
   "outputs": [],
   "source": [
    "import ahlive as ah\n",
    "arr = ah.Array([0, 1, 2], [3, 4, 5])\n",
    "arr = arr.remark(xs=[1, 2], remarks='xs condition is met!!')\n",
    "arr.render()"
   ]
  },
  {
   "cell_type": "markdown",
   "metadata": {},
   "source": [
    "Multiple `remarks` can be passed too, as long as it matches the number of states."
   ]
  },
  {
   "cell_type": "code",
   "execution_count": null,
   "metadata": {},
   "outputs": [],
   "source": [
    "import ahlive as ah\n",
    "arr = ah.Array([0, 1, 2], [3, 4, 5])\n",
    "arr = arr.remark(xs=[1, 2], remarks=['wont show', '1st show', '2nd show'])\n",
    "arr.render()"
   ]
  },
  {
   "cell_type": "markdown",
   "metadata": {},
   "source": [
    "Rather than setting static values for `remarks`, passing a label from the dataset, e.g. `x`, `y`, `c`, `state_label`, and `inline_label` (without the \"s\" suffix), can dynamically grab the value for that label at that given condition. Any labels listed under \"Data variables\" is valid for use as long as it contains a `state` dimension."
   ]
  },
  {
   "cell_type": "code",
   "execution_count": null,
   "metadata": {},
   "outputs": [],
   "source": [
    "import ahlive as ah\n",
    "arr = ah.Array([0, 1, 2], [3, 4, 5])\n",
    "print(arr)\n",
    "arr = arr.remark(xs=[1, 2], remarks='x')\n",
    "arr.render()"
   ]
  },
  {
   "cell_type": "markdown",
   "metadata": {},
   "source": [
    "Note, remarks will be triggered every time the conditional value is met."
   ]
  },
  {
   "cell_type": "code",
   "execution_count": null,
   "metadata": {},
   "outputs": [],
   "source": [
    "import ahlive as ah\n",
    "arr = ah.Array([0, 1, 2], [3, 4, 4])\n",
    "arr = arr.remark(ys=4, remarks='y')\n",
    "arr.render()"
   ]
  },
  {
   "cell_type": "markdown",
   "metadata": {},
   "source": [
    "To have the `remarks` trigger only once on the initial match, set `first` to `True`."
   ]
  },
  {
   "cell_type": "code",
   "execution_count": null,
   "metadata": {},
   "outputs": [],
   "source": [
    "import ahlive as ah\n",
    "arr = ah.Array([0, 1, 2], [3, 4, 4])\n",
    "arr = arr.remark(ys=4, remarks='y', first=True)\n",
    "arr.render()"
   ]
  },
  {
   "cell_type": "markdown",
   "metadata": {},
   "source": [
    "`first` operates separately on each conditional value, i.e. `remarks` will trigger for 3 and the first 4, but not the last 4."
   ]
  },
  {
   "cell_type": "code",
   "execution_count": null,
   "metadata": {},
   "outputs": [],
   "source": [
    "import ahlive as ah\n",
    "arr = ah.Array([0, 1, 2], [3, 4, 4])\n",
    "arr = arr.remark(ys=[3, 4], remarks='y', first=True)\n",
    "arr.render()"
   ]
  },
  {
   "cell_type": "markdown",
   "metadata": {},
   "source": [
    "An absolute tolerance `atol` can be specified for inexact matching."
   ]
  },
  {
   "cell_type": "code",
   "execution_count": null,
   "metadata": {},
   "outputs": [],
   "source": [
    "import ahlive as ah\n",
    "arr = ah.Array([0, 1, 2], [3, 4, 4])\n",
    "arr = arr.remark(ys=4.15, remarks='y', atol=0.5)\n",
    "arr.render()"
   ]
  },
  {
   "cell_type": "markdown",
   "metadata": {},
   "source": [
    "A relative tolerance `rtol` can be passed too."
   ]
  },
  {
   "cell_type": "code",
   "execution_count": null,
   "metadata": {},
   "outputs": [],
   "source": [
    "import ahlive as ah\n",
    "arr = ah.Array([0, 1, 2], [3, 4, 4])\n",
    "arr = arr.remark(ys=4.15, remarks='y', rtol=0.1)\n",
    "arr.render()"
   ]
  },
  {
   "cell_type": "markdown",
   "metadata": {},
   "source": [
    "<div class=\"alert alert-warning\">\n",
    "\n",
    "`rtol` and `atol` cannot be used with the `condition` or the `first` keyword.\n",
    "\n",
    "</div>"
   ]
  },
  {
   "cell_type": "markdown",
   "metadata": {},
   "source": [
    "### reference\n",
    "\n",
    "References can be added by passing one or more of `x0s`, `x1s`, `y0s`, `y1s`."
   ]
  },
  {
   "cell_type": "code",
   "execution_count": null,
   "metadata": {},
   "outputs": [],
   "source": [
    "import ahlive as ah\n",
    "arr = ah.Array([0, 1, 2], [3, 4, 5])\n",
    "arr = arr.reference(y0s=4)\n",
    "arr.render()"
   ]
  },
  {
   "cell_type": "markdown",
   "metadata": {},
   "source": [
    "Reference values can be animated too if an `Iterable` is passed."
   ]
  },
  {
   "cell_type": "code",
   "execution_count": null,
   "metadata": {},
   "outputs": [],
   "source": [
    "import ahlive as ah\n",
    "arr = ah.Array([0, 1, 2], [3, 4, 5])\n",
    "arr = arr.reference(y0s=[3, 3.5, 4.5])\n",
    "arr.render()"
   ]
  },
  {
   "cell_type": "markdown",
   "metadata": {},
   "source": [
    "Like remarks, rather than setting static values for references, passing a label from the dataset, e.g. `x`, `y`, `c`, `state_label`, and `inline_label` (without the \"s\" suffix), can dynamically grab the value for that label. Any labels listed under \"Data variables\" is valid for use as long as it contains a state dimension."
   ]
  },
  {
   "cell_type": "code",
   "execution_count": null,
   "metadata": {},
   "outputs": [],
   "source": [
    "import ahlive as ah\n",
    "arr = ah.Array([0, 1, 2], [3, 4, 5])\n",
    "arr = arr.reference(y0s='y')\n",
    "arr.render()"
   ]
  },
  {
   "cell_type": "markdown",
   "metadata": {},
   "source": [
    "The reference chart changes depending on whether `x0s`, `x1s`, `y0s`, `y1s` is set.\n",
    "\n",
    "If `x0s` and `x1s` is set, a vertical span is generated."
   ]
  },
  {
   "cell_type": "code",
   "execution_count": null,
   "metadata": {},
   "outputs": [],
   "source": [
    "import ahlive as ah\n",
    "arr = ah.Array([0, 1, 2], [3, 4, 5])\n",
    "arr = arr.reference(x0s=[0, 1, 2], x1s=[0, 2, 4])\n",
    "arr.render()"
   ]
  },
  {
   "cell_type": "markdown",
   "metadata": {},
   "source": [
    "Similarly if `y0s` and `y1s` is set, a horizontal span is generated."
   ]
  },
  {
   "cell_type": "code",
   "execution_count": null,
   "metadata": {},
   "outputs": [],
   "source": [
    "import ahlive as ah\n",
    "arr = ah.Array([0, 1, 2], [3, 4, 5])\n",
    "arr = arr.reference(y0s=[3.25, 4, 4.5], y1s=[3, 4.5, 5])\n",
    "arr.render()"
   ]
  },
  {
   "cell_type": "markdown",
   "metadata": {},
   "source": [
    "If all `x0s`, `x1s`, `y0s`, and `y1s` is set, a rectangle is generated."
   ]
  },
  {
   "cell_type": "code",
   "execution_count": null,
   "metadata": {},
   "outputs": [],
   "source": [
    "import ahlive as ah\n",
    "arr = ah.Array([0, 1, 2], [3, 4, 5])\n",
    "arr = arr.reference(x0s=[0, 1, 2], x1s=[0, 2, 4], y0s=[3.25, 4, 4.5], y1s=[3, 4.5, 5])\n",
    "arr.render()"
   ]
  },
  {
   "cell_type": "markdown",
   "metadata": {},
   "source": [
    "If only `x0s` and `y0s` is set, a point is generated."
   ]
  },
  {
   "cell_type": "code",
   "execution_count": null,
   "metadata": {},
   "outputs": [],
   "source": [
    "import ahlive as ah\n",
    "arr = ah.Array([0, 1, 2], [3, 4, 5])\n",
    "arr = arr.reference(x0s=[0, 1, 2], y0s=[3.25, 4, 4.5])\n",
    "arr.render()"
   ]
  },
  {
   "cell_type": "markdown",
   "metadata": {},
   "source": [
    "References also support `inline_labels`, but requires an `inline_locs` if the opposite axis is not set, i.e. `y0s` is not set when only `x0s` is set."
   ]
  },
  {
   "cell_type": "code",
   "execution_count": null,
   "metadata": {},
   "outputs": [],
   "source": [
    "import ahlive as ah\n",
    "arr = ah.Array([0, 1, 2], [3, 4, 5])\n",
    "arr = arr.reference(\n",
    "    x0s=[0.25, 0.75, 1.75],\n",
    "    inline_locs=3.5,\n",
    "    inline_labels=['first', 'second', 'third']\n",
    ")\n",
    "arr.render()"
   ]
  },
  {
   "cell_type": "markdown",
   "metadata": {},
   "source": [
    "Furthermore, references support `state_labels`."
   ]
  },
  {
   "cell_type": "code",
   "execution_count": null,
   "metadata": {},
   "outputs": [],
   "source": [
    "import ahlive as ah\n",
    "arr = ah.Array([0, 1, 2], [3, 4, 5])\n",
    "arr = arr.reference(\n",
    "    x0s=[0.25, 0.75, 1.75],\n",
    "    state_labels=['a', 'bb', 'ccc']\n",
    ")\n",
    "arr.render()"
   ]
  },
  {
   "cell_type": "markdown",
   "metadata": {},
   "source": [
    "If desired, references can be standalone by instantiating the class object, `ah.Reference`. The class works the same way; the only difference is that passing a label to substitute in the values is not possible, unless it's overlaid with another object."
   ]
  },
  {
   "cell_type": "code",
   "execution_count": null,
   "metadata": {},
   "outputs": [],
   "source": [
    "import ahlive as ah\n",
    "ref = ah.Reference(\n",
    "    x0s=[0, 1, 2],\n",
    "    inline_locs=0.5,\n",
    "    inline_labels=['A', 'B', 'C'],\n",
    "    state_labels=['d', 'e', 'f']\n",
    ")\n",
    "ref.render()"
   ]
  },
  {
   "cell_type": "markdown",
   "metadata": {},
   "source": [
    "### geography\n",
    "To utilize any geographic annotations, pass `crs` OR `projection` as an instantiated `cartopy.crs` object the class name.\n",
    "\n",
    "`crs` specifies the data's coordinate reference system; it's often set to `ccrs.PlateCarree()`, or conveniently `'platecarree'`, if the data is in degrees."
   ]
  },
  {
   "cell_type": "code",
   "execution_count": null,
   "metadata": {},
   "outputs": [],
   "source": [
    "import xarray as xr\n",
    "import ahlive as ah\n",
    "ds = xr.tutorial.open_dataset('air_temperature').isel(time=slice(0, 3))\n",
    "ah_ds = ah.Dataset(ds, 'lon', 'lat', 'air', crs='platecarree')\n",
    "ah_ds.render()"
   ]
  },
  {
   "cell_type": "markdown",
   "metadata": {},
   "source": [
    "`projection` on the other hand specifies the desired output crs. If `crs` is not specified, but `projection` is set, `crs` defaults to `ccrs.PlateCarree()`."
   ]
  },
  {
   "cell_type": "code",
   "execution_count": null,
   "metadata": {
    "ExecuteTime": {
     "end_time": "2021-07-18T19:02:11.847579Z",
     "start_time": "2021-07-18T19:02:02.082071Z"
    }
   },
   "outputs": [],
   "source": [
    "import xarray as xr\n",
    "import ahlive as ah\n",
    "ds = xr.tutorial.open_dataset('air_temperature').isel(time=slice(0, 3))\n",
    "ah_ds = ah.Dataset(ds, 'lon', 'lat', 'air', projection='lambertconformal')\n",
    "ah_ds.render()"
   ]
  },
  {
   "cell_type": "markdown",
   "metadata": {},
   "source": [
    "After setting either `crs` or `projection`, geographic features can be toggled."
   ]
  },
  {
   "cell_type": "code",
   "execution_count": null,
   "metadata": {},
   "outputs": [],
   "source": [
    "import xarray as xr\n",
    "import ahlive as ah\n",
    "ds = xr.tutorial.open_dataset('air_temperature').isel(time=slice(0, 3))\n",
    "ah_ds = ah.Dataset(\n",
    "    ds, 'lon', 'lat', 'air', projection='lambertconformal',\n",
    "    land=True, ocean=True, borders=True, states=True)\n",
    "ah_ds.render()"
   ]
  },
  {
   "cell_type": "markdown",
   "metadata": {},
   "source": [
    "It's also possible to pass a `cartopy.crs` instance into `crs`, `projection`, and geographic features."
   ]
  },
  {
   "cell_type": "code",
   "execution_count": null,
   "metadata": {
    "ExecuteTime": {
     "end_time": "2021-07-18T18:00:48.961953Z",
     "start_time": "2021-07-18T18:00:40.602385Z"
    }
   },
   "outputs": [],
   "source": [
    "import xarray as xr\n",
    "import ahlive as ah\n",
    "import cartopy.crs as ccrs\n",
    "import cartopy.feature as cfeature\n",
    "\n",
    "ds = xr.tutorial.open_dataset(\"air_temperature\").isel(time=slice(0, 3))\n",
    "ah_ds = ah.Dataset(\n",
    "    ds,\n",
    "    \"lon\",\n",
    "    \"lat\",\n",
    "    \"air\",\n",
    "    projection=ccrs.Orthographic(central_latitude=25, central_longitude=-88),\n",
    "    coastline=cfeature.COASTLINE.with_scale(\"50m\"),\n",
    ")\n",
    "ah_ds.render()"
   ]
  },
  {
   "cell_type": "markdown",
   "metadata": {},
   "source": [
    "`worldwide` can be set to view the data on a global extent."
   ]
  },
  {
   "cell_type": "code",
   "execution_count": null,
   "metadata": {
    "ExecuteTime": {
     "end_time": "2021-07-18T21:41:05.552028Z",
     "start_time": "2021-07-18T21:40:58.369866Z"
    }
   },
   "outputs": [],
   "source": [
    "import xarray as xr\n",
    "import ahlive as ah\n",
    "ds = xr.tutorial.open_dataset('air_temperature').isel(time=slice(0, 3))\n",
    "ah_ds = ah.Dataset(\n",
    "    ds, 'lon', 'lat', 'air', projection='robinson', worldwide=True)\n",
    "ah_ds.render()"
   ]
  },
  {
   "cell_type": "markdown",
   "metadata": {},
   "source": [
    "Web `tiles` can also be retrieved; click [here](https://scitools.org.uk/cartopy/docs/latest/cartopy/io/img_tiles.html) for a listing of available tiles."
   ]
  },
  {
   "cell_type": "code",
   "execution_count": null,
   "metadata": {
    "ExecuteTime": {
     "end_time": "2021-07-18T22:04:49.917861Z",
     "start_time": "2021-07-18T22:03:43.657953Z"
    }
   },
   "outputs": [],
   "source": [
    "import ahlive as ah\n",
    "arr = ah.Array(\n",
    "    [-88, -88.2, -88.5], [40, 40.5, 40.05], tiles=\"OSM\", zoom=7\n",
    ").config(\"tiles\", style=\"toner\")\n",
    "arr.render()"
   ]
  },
  {
   "cell_type": "markdown",
   "metadata": {},
   "source": [
    "The `central_lon` is automatically set to the median longitude of the data, but can be set manually."
   ]
  },
  {
   "cell_type": "code",
   "execution_count": null,
   "metadata": {},
   "outputs": [],
   "source": [
    "import xarray as xr\n",
    "import ahlive as ah\n",
    "ds = xr.tutorial.open_dataset('air_temperature').isel(time=slice(0, 3))\n",
    "ah_ds = ah.Dataset(\n",
    "    ds, 'lon', 'lat', 'air',\n",
    "    projection='robinson', worldwide=True, central_lon=0)\n",
    "ah_ds.render()"
   ]
  }
 ],
 "metadata": {
  "kernelspec": {
   "display_name": "Python [conda env:ahlive-ci]",
   "language": "python",
   "name": "conda-env-ahlive-ci-py"
  },
  "language_info": {
   "codemirror_mode": {
    "name": "ipython",
    "version": 3
   },
   "file_extension": ".py",
   "mimetype": "text/x-python",
   "name": "python",
   "nbconvert_exporter": "python",
   "pygments_lexer": "ipython3",
   "version": "3.7.9"
  }
 },
 "nbformat": 4,
 "nbformat_minor": 4
}
