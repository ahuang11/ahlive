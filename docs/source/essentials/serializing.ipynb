{
 "cells": [
  {
   "cell_type": "markdown",
   "metadata": {},
   "source": [
    "# Serializing\n",
    "For ahlive to work, data must be serialized into a standard format."
   ]
  },
  {
   "cell_type": "markdown",
   "metadata": {},
   "source": [
    "### serializing classes\n",
    "ahlive incorporates these classes to achieve this:\n",
    "\n",
    "ahlive class | input data type | use cases\n",
    "--- | --- | ---\n",
    "`ah.Array` | `collections.Iterable` | for single, unlabeled 1D arrays\n",
    "`ah.DataFrame` | `pd.DataFrame` | for multiple, labeled 1D arrays\n",
    "`ah.Array2D` | `np.ndarray` | for single, unlabeled 2D arrays\n",
    "`ah.Dataset` | `xr.Dataset` | for multiple, labeled 2D arrays"
   ]
  },
  {
   "cell_type": "markdown",
   "metadata": {},
   "source": [
    "### ahlive.Array\n",
    "`ah.Array` is the basic building block for building an animation in ahlive.\n",
    "\n",
    "To instantiate, `xs` and `ys` are often specified as positional arguments; they are, respectively, the horizontal and vertical coordinates of a single data point. If `ys` is not specified, `ys` is set to `xs`, and `xs` is set as an incremental `range`.\n",
    "\n",
    "`label` is a common keyword argument for instantiation which yields a legend label in the output animation. Note, the legend will not show automatically if there is only a single item so `legend=True` must be specified."
   ]
  },
  {
   "cell_type": "code",
   "execution_count": null,
   "metadata": {},
   "outputs": [],
   "source": [
    "import ahlive as ah\n",
    "x = [1, 2, 3]\n",
    "y = [40, 50, 60]\n",
    "ah_arr = ah.Array(x, y, label='Array', legend=True)\n",
    "print(ah_arr)\n",
    "ah_arr.render()"
   ]
  },
  {
   "cell_type": "markdown",
   "metadata": {},
   "source": [
    "<div class=\"alert alert-info\">\n",
    "\n",
    "The desired type of plot can be specified; e.g. `chart='bar'`\n",
    "\n",
    "</div>"
   ]
  },
  {
   "cell_type": "markdown",
   "metadata": {},
   "source": [
    "### ahlive.DataFrame\n",
    "`ah.DataFrame` builds off `ah.Array`, but utilize column names.\n",
    "\n",
    "To instantiate, `df` is required on top of `xs` and `ys`. However, unlike `ah.Array`, column names from the `pd.DataFrame` are passed, i.e. not the actual data values-- likewise for `label`.\n",
    "\n",
    "An advantage of using `ah.DataFrame` instead of `ah.Array` is automatic labeling from column names."
   ]
  },
  {
   "cell_type": "code",
   "execution_count": null,
   "metadata": {},
   "outputs": [],
   "source": [
    "import pandas as pd\n",
    "import ahlive as ah\n",
    "x = [1, 2, 3]\n",
    "y = [40, 50, 60]\n",
    "df = pd.DataFrame({'the_x_name': x, 'y_axis': y})\n",
    "ah_df = ah.DataFrame(df, 'the_x_name', 'y_axis')\n",
    "print(ah_df)\n",
    "ah_df.render()"
   ]
  },
  {
   "cell_type": "markdown",
   "metadata": {},
   "source": [
    "Another advantage is if the `label` column contains multiple unique values; the unique values will be grouped and joined separately."
   ]
  },
  {
   "cell_type": "code",
   "execution_count": null,
   "metadata": {},
   "outputs": [],
   "source": [
    "import pandas as pd\n",
    "import ahlive as ah\n",
    "x = [1, 2, 3, 4]\n",
    "y = [40, 50, 60, 70]\n",
    "labels = ['a', 'a', 'b', 'b']\n",
    "df = pd.DataFrame({'the_x_name': x, 'y_axis': y, 'label': labels})\n",
    "display(df)\n",
    "ah_df = ah.DataFrame(df, 'the_x_name', 'y_axis', label='label')\n",
    "print(ah_df)\n",
    "ah_df.render()"
   ]
  },
  {
   "cell_type": "markdown",
   "metadata": {},
   "source": [
    "<div class=\"alert alert-info\">\n",
    "\n",
    "`ah.DataFrame` expects a tidy format `df`:\n",
    "\n",
    "1. Each variable forms a column.\n",
    "2. Each observation forms a row.\n",
    "3. Each type of observational unit forms a table.\n",
    "\n",
    "If the input `pd.DataFrame` is not tidy, try using `pd.melt`.\n",
    "\n",
    "</div>"
   ]
  },
  {
   "cell_type": "markdown",
   "metadata": {},
   "source": [
    "### ahlive.Array2D\n",
    "`ah.Array2D` is much like `ah.Array` but for gridded, 2D arrays.\n",
    "\n",
    "In addition to `xs` and `ys`, `ah.Array2D` requires `cs` which is a 2D array used for colormapping."
   ]
  },
  {
   "cell_type": "code",
   "execution_count": null,
   "metadata": {},
   "outputs": [],
   "source": [
    "import numpy as np\n",
    "import ahlive as ah\n",
    "x = np.arange(0, 3)\n",
    "y = np.arange(3, 6)\n",
    "c = np.random.random((2, len(y), len(x)))\n",
    "ah_arr2d = ah.Array2D(x, y, c)\n",
    "ah_arr2d.render()"
   ]
  },
  {
   "cell_type": "markdown",
   "metadata": {},
   "source": [
    "### ahlive.Dataset\n",
    "`ah.Dataset` is the `ah.Array2D` version of `ah.DataFrame`.\n",
    "\n",
    "`ah.Dataset` requires a total of four positional arguments: `ds`, `xs`, `ys`, `cs`. Similar to `ah.DataFrame`, these arguments should be labels from the `xr.Dataset`, not actual arrays."
   ]
  },
  {
   "cell_type": "code",
   "execution_count": null,
   "metadata": {},
   "outputs": [],
   "source": [
    "import numpy as np\n",
    "import xarray as xr\n",
    "import ahlive as ah\n",
    "x = np.arange(0, 3)\n",
    "y = np.arange(3, 6)\n",
    "c = np.random.random((2, len(y), len(x)))\n",
    "ds = xr.Dataset()\n",
    "ds['color_data'] = xr.DataArray(\n",
    "    c, coords={'the_x_name': x, 'y_axis': y},\n",
    "    dims=('time_dim', 'y_axis', 'the_x_name'))\n",
    "ah_ds = ah.Dataset(ds, 'the_x_name', 'y_axis', 'color_data')\n",
    "print(ah_ds)\n",
    "ah_ds.render()"
   ]
  },
  {
   "cell_type": "markdown",
   "metadata": {},
   "source": [
    "<div class=\"alert alert-warning\">\n",
    "\n",
    "If you have an `xr.Dataset` with 1D arrays for data variables, do not use `ah.Dataset`!\n",
    "\n",
    "Instead, first convert to a `pd.DataFrame` using `ds.to_dataframe()` then use `ah.DataFrame` to serialize the data.\n",
    "\n",
    "</div>"
   ]
  },
  {
   "cell_type": "markdown",
   "metadata": {},
   "source": [
    "### ahlive.Data\n",
    "\n",
    "The aforementioned classes all inherit from the internal class, `ah.Data`.\n",
    "\n",
    "It's essentially a higher level `dict`. The `dict` is accessible through the `data` property."
   ]
  },
  {
   "cell_type": "code",
   "execution_count": null,
   "metadata": {},
   "outputs": [],
   "source": [
    "import ahlive as ah\n",
    "ah.Array([0, 1, 2], [3, 4, 5]).data"
   ]
  },
  {
   "cell_type": "markdown",
   "metadata": {},
   "source": [
    "The keys of the `dict` store the subplots' positions as a (row, col) `tuple`."
   ]
  },
  {
   "cell_type": "code",
   "execution_count": null,
   "metadata": {},
   "outputs": [],
   "source": [
    "import ahlive as ah\n",
    "arr_dict = ah.Array([0, 1, 2], [3, 4, 5]).data\n",
    "print(arr_dict.keys())"
   ]
  },
  {
   "cell_type": "markdown",
   "metadata": {},
   "source": [
    "The values of the `dict` store the serialized input data as `xr.Dataset`s."
   ]
  },
  {
   "cell_type": "code",
   "execution_count": null,
   "metadata": {},
   "outputs": [],
   "source": [
    "import ahlive as ah\n",
    "arr_dict = ah.Array([0, 1, 2], [3, 4, 5]).data\n",
    "print(arr_dict.values())"
   ]
  },
  {
   "cell_type": "markdown",
   "metadata": {},
   "source": [
    "To access individual `xr.Dataset`s, simply specify the subplot's position."
   ]
  },
  {
   "cell_type": "code",
   "execution_count": null,
   "metadata": {},
   "outputs": [],
   "source": [
    "import ahlive as ah\n",
    "arr_dict = ah.Array([0, 1, 2], [3, 4, 5]).data\n",
    "print(arr_dict[1, 1])"
   ]
  },
  {
   "cell_type": "markdown",
   "metadata": {},
   "source": [
    "You can also manually edit the `xr.Dataset` after calling `finalize`."
   ]
  },
  {
   "cell_type": "code",
   "execution_count": null,
   "metadata": {},
   "outputs": [],
   "source": [
    "import ahlive as ah\n",
    "arr_dict = ah.Array([0, 1, 2], [3, 4, 5]).finalize().data\n",
    "for rowcol, ds in arr_dict.items():\n",
    "    ds['x'] += 10\n",
    "print(arr_dict)"
   ]
  }
 ],
 "metadata": {},
 "nbformat": 4,
 "nbformat_minor": 4
}
