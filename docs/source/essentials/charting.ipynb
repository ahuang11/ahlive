{
 "cells": [
  {
   "cell_type": "markdown",
   "metadata": {},
   "source": [
    "# Charting"
   ]
  },
  {
   "cell_type": "markdown",
   "metadata": {},
   "source": [
    "### chart keywords\n",
    "\n",
    "ahlive has these keywords for various types of charts:\n",
    "\n",
    "ahlive keyword | description\n",
    "--- | --- |\n",
    "`line` | connect data coordinates with a line\n",
    "`scatter` | mark data coordinates with symbols\n",
    "`bar` | fill data coordinates with vertical rectangles\n",
    "`barh` | fill data coordinates with horizontal rectangles\n",
    "`pie` | fill data arrays with fractional wedges \n",
    "`errorbar` | connect data coordinates with a line plus segments\n",
    "`area` | fill data coordinates with regions\n",
    "`annotation` | label data coordinates with text\n",
    "`pcolormesh` | paints data grids with filled colors\n",
    "`contourf` | contour data grids with filled colors\n",
    "`contour` | contour data grids with line colors\n",
    "`hexbin` | groups data grids as 2D histograms\n",
    "`quiver` | draws data grids as arrows\n",
    "`streamplot` | draws data grids as streamlines"
   ]
  },
  {
   "cell_type": "markdown",
   "metadata": {},
   "source": [
    "<div class=\"alert alert-warning\">\n",
    "\n",
    "A `chart`'s behavior may be modified by setting a `preset`. Learn more in [Presetting](../customizations/presetting.ipynb).\n",
    "\n",
    "</div>"
   ]
  },
  {
   "cell_type": "markdown",
   "metadata": {},
   "source": [
    "### line\n",
    "\n",
    "Draws a line, segment by segment, connecting the data points."
   ]
  },
  {
   "cell_type": "code",
   "execution_count": null,
   "metadata": {},
   "outputs": [],
   "source": [
    "import ahlive as ah\n",
    "ah.Array([-5, 0, 5], [1, -1, 0.5], xlims=\"fixed\", chart=\"line\").render()"
   ]
  },
  {
   "cell_type": "markdown",
   "metadata": {},
   "source": [
    "### scatter\n",
    "\n",
    "Draws a symbol that moves one coordinate point at a time."
   ]
  },
  {
   "cell_type": "code",
   "execution_count": null,
   "metadata": {},
   "outputs": [],
   "source": [
    "import ahlive as ah\n",
    "ah.Array([-5, 0, 5], [1, -1, 0.5], xlims=\"fixed\", chart=\"scatter\").render()"
   ]
  },
  {
   "cell_type": "markdown",
   "metadata": {},
   "source": [
    "### bar\n",
    "\n",
    "Draws bars, fusing the data points."
   ]
  },
  {
   "cell_type": "code",
   "execution_count": null,
   "metadata": {},
   "outputs": [],
   "source": [
    "import ahlive as ah\n",
    "ah.Array([-5, 0, 5], [1, -1, 0.5], xlims=\"fixed\", chart=\"bar\").render()"
   ]
  },
  {
   "cell_type": "markdown",
   "metadata": {},
   "source": [
    "### barh\n",
    "\n",
    "Same as `bar`, but horizontally."
   ]
  },
  {
   "cell_type": "code",
   "execution_count": null,
   "metadata": {},
   "outputs": [],
   "source": [
    "import ahlive as ah\n",
    "ah.Array([-5, 0, 5], [1, -1, 0.5], xlims=\"fixed\", chart=\"barh\").render()"
   ]
  },
  {
   "cell_type": "markdown",
   "metadata": {},
   "source": [
    "### pie\n",
    "\n",
    "Draws a fractionated circle with the area representing the data points."
   ]
  },
  {
   "cell_type": "code",
   "execution_count": null,
   "metadata": {},
   "outputs": [],
   "source": [
    "import ahlive as ah\n",
    "ah.Array([0.5, 0.75, 1], chart=\"pie\").render()"
   ]
  },
  {
   "cell_type": "markdown",
   "metadata": {},
   "source": [
    "<div class=\"alert alert-warning\">\n",
    "\n",
    "If both `xs` and `ys` are passed, `xs` will be ignored.\n",
    "\n",
    "</div>"
   ]
  },
  {
   "cell_type": "markdown",
   "metadata": {},
   "source": [
    "### errorbar\n",
    "\n",
    "Like `line`, but with vertical or horizontal segments at each base frame."
   ]
  },
  {
   "cell_type": "code",
   "execution_count": null,
   "metadata": {},
   "outputs": [],
   "source": [
    "import ahlive as ah\n",
    "ah.Array(\n",
    "    [0, 1, 2],\n",
    "    [1, 2, 3],\n",
    "    yerrs=[0.25, 0.5, 0],\n",
    "    xlims=\"fixed\",\n",
    "    chart=\"errorbar\",\n",
    ").render()"
   ]
  },
  {
   "cell_type": "markdown",
   "metadata": {},
   "source": [
    "### area\n",
    "\n",
    "Fills in regions, step by step."
   ]
  },
  {
   "cell_type": "code",
   "execution_count": null,
   "metadata": {},
   "outputs": [],
   "source": [
    "import ahlive as ah\n",
    "ah.Array(\n",
    "    [0, 1, 2],\n",
    "    [1, 2, 1.5],\n",
    "    y2=1,\n",
    "    xlims=\"fixed\",\n",
    "    chart=\"area\",\n",
    ").render()"
   ]
  },
  {
   "cell_type": "markdown",
   "metadata": {},
   "source": [
    "### annotation\n",
    "\n",
    "Have a label follow data coordinates."
   ]
  },
  {
   "cell_type": "code",
   "execution_count": null,
   "metadata": {},
   "outputs": [],
   "source": [
    "import ahlive as ah\n",
    "ah.Array(\n",
    "    [0, 1, 2],\n",
    "    [1, 2, 1.5],\n",
    "    text=[\"a\", \"b\", \"c\"],\n",
    "    xlims=\"fixed\",\n",
    "    chart=\"annotation\"\n",
    ").render()"
   ]
  },
  {
   "cell_type": "markdown",
   "metadata": {},
   "source": [
    "### pcolormesh\n",
    "\n",
    "Maps color to each grid cell based on the value."
   ]
  },
  {
   "cell_type": "code",
   "execution_count": null,
   "metadata": {},
   "outputs": [],
   "source": [
    "import ahlive as ah\n",
    "ah.Array2D(\n",
    "    [1, 2, 3],\n",
    "    [4, 5, 6],\n",
    "    [[[7, 8, 9], [10, 11, 12], [13, 14, 15]],\n",
    "     [[16, 17, 18], [19, 20, 21], [22, 23, 24]]\n",
    "    ],\n",
    "    chart=\"pcolormesh\"\n",
    ").render()"
   ]
  },
  {
   "cell_type": "markdown",
   "metadata": {},
   "source": [
    "### contourf\n",
    "\n",
    "Computes discrete contours and maps color to each interval."
   ]
  },
  {
   "cell_type": "code",
   "execution_count": null,
   "metadata": {},
   "outputs": [],
   "source": [
    "import ahlive as ah\n",
    "ah.Array2D(\n",
    "    [1, 2, 3],\n",
    "    [4, 5, 6],\n",
    "    [[[7, 8, 9], [10, 11, 12], [13, 14, 15]],\n",
    "     [[16, 17, 18], [19, 20, 21], [22, 23, 24]]\n",
    "    ],\n",
    "    chart=\"contourf\"\n",
    ").render()"
   ]
  },
  {
   "cell_type": "markdown",
   "metadata": {},
   "source": [
    "### contour\n",
    "\n",
    "Like `contourf`, but not filled."
   ]
  },
  {
   "cell_type": "code",
   "execution_count": null,
   "metadata": {},
   "outputs": [],
   "source": [
    "import ahlive as ah\n",
    "ah.Array2D(\n",
    "    [1, 2, 3],\n",
    "    [4, 5, 6],\n",
    "    [[[7, 8, 9], [10, 11, 12], [13, 14, 15]],\n",
    "     [[16, 17, 18], [19, 20, 21], [22, 23, 24]]\n",
    "    ],\n",
    "    chart=\"contour\"\n",
    ").render()"
   ]
  },
  {
   "cell_type": "markdown",
   "metadata": {},
   "source": [
    "### hexbin\n",
    "\n",
    "Groups nearby coordinates into a point, like a 2D histogram."
   ]
  },
  {
   "cell_type": "code",
   "execution_count": null,
   "metadata": {},
   "outputs": [],
   "source": [
    "import ahlive as ah\n",
    "import numpy as np\n",
    "\n",
    "xs, ys = np.random.randn(2, 100)\n",
    "cs = np.random.rand(2, 100, 100)\n",
    "\n",
    "ah.Array2D(xs, ys, cs, chart=\"hexbin\").render()"
   ]
  },
  {
   "cell_type": "markdown",
   "metadata": {},
   "source": [
    "### quiver\n",
    "\n",
    "Draws an arrow at each grid point."
   ]
  },
  {
   "cell_type": "code",
   "execution_count": null,
   "metadata": {},
   "outputs": [],
   "source": [
    "import ahlive as ah\n",
    "import numpy as np\n",
    "\n",
    "xs, ys = np.arange(0, 2 * np.pi, .5), np.arange(0, 2 * np.pi, .5)\n",
    "X, Y = np.meshgrid(xs, ys)\n",
    "us = np.stack([np.sin(X), np.cos(X)])\n",
    "vs = np.stack([np.sin(Y), np.sin(Y)])\n",
    "\n",
    "ah.Array2D(xs, ys, us * vs, us=us, vs=vs, chart=\"quiver\").render()"
   ]
  },
  {
   "cell_type": "markdown",
   "metadata": {},
   "source": [
    "### streamplot\n",
    "\n",
    "Draws a streamline at each grid point."
   ]
  },
  {
   "cell_type": "code",
   "execution_count": null,
   "metadata": {},
   "outputs": [],
   "source": [
    "import ahlive as ah\n",
    "import numpy as np\n",
    "\n",
    "xs, ys = np.arange(0, 2 * np.pi, 1), np.arange(0, 2 * np.pi, 1)\n",
    "X, Y = np.meshgrid(xs, ys)\n",
    "us = np.stack([np.sin(X), np.cos(X)])\n",
    "vs = np.stack([np.sin(Y), np.sin(Y)])\n",
    "\n",
    "ah.Array2D(xs, ys, us * vs, us=us, vs=vs, chart=\"streamplot\").render()"
   ]
  }
 ],
 "metadata": {},
 "nbformat": 4,
 "nbformat_minor": 4
}
