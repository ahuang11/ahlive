{
 "cells": [
  {
   "cell_type": "markdown",
   "metadata": {},
   "source": [
    "# Charting"
   ]
  },
  {
   "cell_type": "markdown",
   "metadata": {},
   "source": [
    "### chart keywords\n",
    "\n",
    "ahlive has these keywords for various types of charts:\n",
    "\n",
    "ahlive keyword | description\n",
    "--- | --- |\n",
    "`line` |\n",
    "`scatter` |\n",
    "`bar` |\n",
    "`barh` |\n",
    "`pcolormesh` |\n",
    "`contourf` |"
   ]
  },
  {
   "cell_type": "markdown",
   "metadata": {},
   "source": [
    "### line"
   ]
  },
  {
   "cell_type": "code",
   "execution_count": null,
   "metadata": {},
   "outputs": [],
   "source": [
    "import ahlive as ah\n",
    "(ah.Array([0, 1, 2], [3, 4, 5]) * ah.Array([0, 1, 2], [5, 4, 3])).render()"
   ]
  },
  {
   "cell_type": "code",
   "execution_count": null,
   "metadata": {},
   "outputs": [],
   "source": []
  }
 ],
 "metadata": {},
 "nbformat": 4,
 "nbformat_minor": 4
}
