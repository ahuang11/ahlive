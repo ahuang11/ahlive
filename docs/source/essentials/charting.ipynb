{
 "cells": [
  {
   "cell_type": "markdown",
   "metadata": {},
   "source": [
    "# Charting"
   ]
  },
  {
   "cell_type": "markdown",
   "metadata": {},
   "source": [
    "### chart keywords\n",
    "\n",
    "ahlive has these keywords for various types of charts:\n",
    "\n",
    "ahlive keyword | description\n",
    "--- | --- |\n",
    "`line` | connect data coordinates with a line\n",
    "`scatter` | mark data coordinates with symbols\n",
    "`bar` | fill data coordinates with vertical rectangles\n",
    "`barh` | fill data coordinates with horizontal rectangles\n",
    "`pie` | fill data arrays with fractional wedges \n",
    "`pcolormesh` | paints data grids with filled colors\n",
    "`contourf` | contour data grids with filled colors\n",
    "`contour` | contour data grids with line colors"
   ]
  },
  {
   "cell_type": "markdown",
   "metadata": {},
   "source": [
    "<div class=\"alert alert-warning\">\n",
    "\n",
    "A `chart`'s behavior may be modified by setting a `preset`. Learn more in [Presetting](../customizations/presetting.ipynb).\n",
    "\n",
    "</div>"
   ]
  },
  {
   "cell_type": "markdown",
   "metadata": {},
   "source": [
    "### line\n",
    "\n",
    "Draws a line, segment by segment, connecting the data points."
   ]
  },
  {
   "cell_type": "code",
   "execution_count": null,
   "metadata": {},
   "outputs": [],
   "source": [
    "import ahlive as ah\n",
    "ah.Array([-5, 0, 5], [5, -5, 0], xlims=\"fixed\", chart=\"line\").render()"
   ]
  },
  {
   "cell_type": "markdown",
   "metadata": {},
   "source": [
    "### scatter\n",
    "\n",
    "Draws a symbol that moves one coordinate point at a time."
   ]
  },
  {
   "cell_type": "code",
   "execution_count": null,
   "metadata": {},
   "outputs": [],
   "source": [
    "import ahlive as ah\n",
    "ah.Array([-5, 0, 5], [5, -5, 0], xlims=\"fixed\", chart=\"scatter\").render()"
   ]
  },
  {
   "cell_type": "markdown",
   "metadata": {},
   "source": [
    "### bar\n",
    "\n",
    "Draws bars, fusing the data points."
   ]
  },
  {
   "cell_type": "code",
   "execution_count": null,
   "metadata": {},
   "outputs": [],
   "source": [
    "import ahlive as ah\n",
    "ah.Array([-5, 0, 5], [5, -5, 0], xlims=\"fixed\", chart=\"bar\").render()"
   ]
  },
  {
   "cell_type": "markdown",
   "metadata": {},
   "source": [
    "### barh\n",
    "\n",
    "Same as `bar`, but horizontally."
   ]
  },
  {
   "cell_type": "code",
   "execution_count": null,
   "metadata": {},
   "outputs": [],
   "source": [
    "import ahlive as ah\n",
    "ah.Array([-5, 0, 5], [5, -5, 0], xlims=\"fixed\", chart=\"barh\").render()"
   ]
  },
  {
   "cell_type": "markdown",
   "metadata": {},
   "source": [
    "### pie\n",
    "\n",
    "Draws a fractionated circle with the area representing the data points."
   ]
  },
  {
   "cell_type": "code",
   "execution_count": null,
   "metadata": {},
   "outputs": [],
   "source": [
    "import ahlive as ah\n",
    "ah.Array([0.88, 0.28, 0.5], chart=\"pie\").render()"
   ]
  },
  {
   "cell_type": "markdown",
   "metadata": {},
   "source": [
    "<div class=\"alert alert-warning\">\n",
    "\n",
    "If both `xs` and `ys` are passed, `xs` will be ignored.\n",
    "\n",
    "</div>"
   ]
  },
  {
   "cell_type": "markdown",
   "metadata": {},
   "source": [
    "### pcolormesh\n",
    "\n",
    "Maps color to each grid cell based on the value."
   ]
  },
  {
   "cell_type": "code",
   "execution_count": null,
   "metadata": {},
   "outputs": [],
   "source": [
    "import ahlive as ah\n",
    "ah.Array2D(\n",
    "    [1, 2, 3],\n",
    "    [4, 5, 6],\n",
    "    [[[7, 8, 9], [10, 11, 12], [13, 14, 15]],\n",
    "     [[16, 17, 18], [19, 20, 21], [22, 23, 24]]\n",
    "    ],\n",
    "    chart=\"pcolormesh\"\n",
    ").render()"
   ]
  },
  {
   "cell_type": "markdown",
   "metadata": {},
   "source": [
    "### contourf\n",
    "\n",
    "Computes discrete contours and maps color to each interval."
   ]
  },
  {
   "cell_type": "code",
   "execution_count": null,
   "metadata": {},
   "outputs": [],
   "source": [
    "import ahlive as ah\n",
    "ah.Array2D(\n",
    "    [1, 2, 3],\n",
    "    [4, 5, 6],\n",
    "    [[[7, 8, 9], [10, 11, 12], [13, 14, 15]],\n",
    "     [[16, 17, 18], [19, 20, 21], [22, 23, 24]]\n",
    "    ],\n",
    "    chart=\"contourf\"\n",
    ").render()"
   ]
  },
  {
   "cell_type": "markdown",
   "metadata": {},
   "source": [
    "### contour\n",
    "\n",
    "Like `contourf`, but not filled."
   ]
  },
  {
   "cell_type": "code",
   "execution_count": null,
   "metadata": {},
   "outputs": [],
   "source": [
    "import ahlive as ah\n",
    "ah.Array2D(\n",
    "    [1, 2, 3],\n",
    "    [4, 5, 6],\n",
    "    [[[7, 8, 9], [10, 11, 12], [13, 14, 15]],\n",
    "     [[16, 17, 18], [19, 20, 21], [22, 23, 24]]\n",
    "    ],\n",
    "    chart=\"contour\"\n",
    ").render()"
   ]
  }
 ],
 "metadata": {},
 "nbformat": 4,
 "nbformat_minor": 4
}
