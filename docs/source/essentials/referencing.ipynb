{
 "cells": [
  {
   "cell_type": "markdown",
   "metadata": {},
   "source": [
    "# Referencing\n",
    "\n",
    "Reference baselines are readily available!"
   ]
  },
  {
   "cell_type": "markdown",
   "metadata": {},
   "source": [
    "### basic references\n",
    "\n",
    "References can be added by passing one or more of `x0s`, `x1s`, `y0s`, `y1s`."
   ]
  },
  {
   "cell_type": "code",
   "execution_count": null,
   "metadata": {},
   "outputs": [],
   "source": [
    "import ahlive as ah\n",
    "arr = ah.Array([0, 1, 2], [3, 4, 5])\n",
    "arr = arr.reference(y0s=4)\n",
    "arr.render()"
   ]
  },
  {
   "cell_type": "markdown",
   "metadata": {},
   "source": [
    "Reference values can be animated too if an `Iterable` is passed."
   ]
  },
  {
   "cell_type": "code",
   "execution_count": null,
   "metadata": {},
   "outputs": [],
   "source": [
    "import ahlive as ah\n",
    "arr = ah.Array([0, 1, 2], [3, 4, 5])\n",
    "arr = arr.reference(y0s=[3, 3.5, 4.5])\n",
    "arr.render()"
   ]
  },
  {
   "cell_type": "markdown",
   "metadata": {},
   "source": [
    "### dynamic references"
   ]
  },
  {
   "cell_type": "markdown",
   "metadata": {},
   "source": [
    "Like remarks, rather than setting static values for references, passing a label from the dataset, e.g. `x`, `y`, `c`, `state_label`, and `inline_label` (without the \"s\" suffix), can dynamically grab the value for that label. Any labels listed under \"Data variables\" is valid for use as long as it contains a state dimension."
   ]
  },
  {
   "cell_type": "code",
   "execution_count": null,
   "metadata": {},
   "outputs": [],
   "source": [
    "import ahlive as ah\n",
    "arr = ah.Array([0, 1, 2], [3, 4, 5])\n",
    "arr = arr.reference(y0s='y')\n",
    "arr.render()"
   ]
  },
  {
   "cell_type": "markdown",
   "metadata": {},
   "source": [
    "For multiple items, `last` will only plot the last item's reference."
   ]
  },
  {
   "cell_type": "code",
   "execution_count": null,
   "metadata": {},
   "outputs": [],
   "source": [
    "import ahlive as ah\n",
    "arr = ah.Array([0, 1, 2], [3, 4, 5])\n",
    "arr = arr - arr\n",
    "arr = arr.reference(y0s='y', last=True)\n",
    "arr.render()"
   ]
  },
  {
   "cell_type": "markdown",
   "metadata": {},
   "source": [
    "### vertical span\n",
    "\n",
    "The reference chart changes depending on whether `x0s`, `x1s`, `y0s`, `y1s` is set.\n",
    "\n",
    "If `x0s` and `x1s` is set, a vertical span is generated."
   ]
  },
  {
   "cell_type": "code",
   "execution_count": null,
   "metadata": {},
   "outputs": [],
   "source": [
    "import ahlive as ah\n",
    "arr = ah.Array([0, 1, 2], [3, 4, 5])\n",
    "arr = arr.reference(x0s=[0, 1, 2], x1s=[0, 2, 4])\n",
    "arr.render()"
   ]
  },
  {
   "cell_type": "markdown",
   "metadata": {},
   "source": [
    "### horizontal span\n",
    "\n",
    "Similarly if `y0s` and `y1s` is set, a horizontal span is generated."
   ]
  },
  {
   "cell_type": "code",
   "execution_count": null,
   "metadata": {},
   "outputs": [],
   "source": [
    "import ahlive as ah\n",
    "arr = ah.Array([0, 1, 2], [3, 4, 5])\n",
    "arr = arr.reference(y0s=[3.25, 4, 4.5], y1s=[3, 4.5, 5])\n",
    "arr.render()"
   ]
  },
  {
   "cell_type": "markdown",
   "metadata": {},
   "source": [
    "### rectangular bound\n",
    "\n",
    "If all `x0s`, `x1s`, `y0s`, and `y1s` is set, a rectangle is generated."
   ]
  },
  {
   "cell_type": "code",
   "execution_count": null,
   "metadata": {},
   "outputs": [],
   "source": [
    "import ahlive as ah\n",
    "arr = ah.Array([0, 1, 2], [3, 4, 5])\n",
    "arr = arr.reference(x0s=[0, 1, 2], x1s=[0, 2, 4], y0s=[3.25, 4, 4.5], y1s=[3, 4.5, 5])\n",
    "arr.render()"
   ]
  },
  {
   "cell_type": "markdown",
   "metadata": {},
   "source": [
    "### scatter point\n",
    "\n",
    "If only `x0s` and `y0s` is set, a point is generated."
   ]
  },
  {
   "cell_type": "code",
   "execution_count": null,
   "metadata": {},
   "outputs": [],
   "source": [
    "import ahlive as ah\n",
    "arr = ah.Array([0, 1, 2], [3, 4, 5])\n",
    "arr = arr.reference(x0s=[0, 1, 2], y0s=[3.25, 4, 4.5])\n",
    "arr.render()"
   ]
  },
  {
   "cell_type": "markdown",
   "metadata": {},
   "source": [
    "### inline labels\n",
    "\n",
    "References also support `inline_labels`, but requires an `inline_locs` if the opposite axis is not set, i.e. `y0s` is not set when only `x0s` is set."
   ]
  },
  {
   "cell_type": "code",
   "execution_count": null,
   "metadata": {},
   "outputs": [],
   "source": [
    "import ahlive as ah\n",
    "arr = ah.Array([0, 1, 2], [3, 4, 5])\n",
    "arr = arr.reference(\n",
    "    x0s=[0.25, 0.75, 1.75],\n",
    "    inline_locs=3.5,\n",
    "    inline_labels=['first', 'second', 'third']\n",
    ")\n",
    "arr.render()"
   ]
  },
  {
   "cell_type": "markdown",
   "metadata": {},
   "source": [
    "### state labels\n",
    "\n",
    "Furthermore, references support `state_labels`."
   ]
  },
  {
   "cell_type": "code",
   "execution_count": null,
   "metadata": {},
   "outputs": [],
   "source": [
    "import ahlive as ah\n",
    "arr = ah.Array([0, 1, 2], [3, 4, 5])\n",
    "arr = arr.reference(\n",
    "    x0s=[0.25, 0.75, 1.75],\n",
    "    state_labels=['a', 'bb', 'ccc']\n",
    ")\n",
    "arr.render()"
   ]
  },
  {
   "cell_type": "markdown",
   "metadata": {},
   "source": [
    "### standalone reference\n",
    "\n",
    "If desired, references can be standalone by instantiating the class object, `ah.Reference`. The class works the same way; the only difference is that passing a label to substitute in the values is not possible, unless it's overlaid with another object."
   ]
  },
  {
   "cell_type": "code",
   "execution_count": null,
   "metadata": {},
   "outputs": [],
   "source": [
    "import ahlive as ah\n",
    "ref = ah.Reference(\n",
    "    x0s=[0, 1],\n",
    "    inline_locs=0,\n",
    "    inline_labels=['A', 'B'],\n",
    "    state_labels=['d', 'e']\n",
    ")\n",
    "ref.render()"
   ]
  }
 ],
 "metadata": {},
 "nbformat": 4,
 "nbformat_minor": 4
}
