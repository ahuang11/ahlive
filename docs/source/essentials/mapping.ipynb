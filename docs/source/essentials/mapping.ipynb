{
 "cells": [
  {
   "cell_type": "markdown",
   "metadata": {},
   "source": [
    "# Mapping\n",
    "\n",
    "Map data onto a geographic map!\n",
    "\n",
    "### geographic keywords\n",
    "For geographic annotations, there are these keywords:\n",
    "\n",
    "ahlive keyword | type | scope | description\n",
    "--- | --- | --- | ---\n",
    "`crs` | `str` | subplot | the data's projection coordinate reference system (crs)\n",
    "`projection` | `str` | subplot | the desired output crs\n",
    "`central_lon` | `float` | subplot | the desired longitude in degrees to center on\n",
    "`borders` | `bool` | subplot | whether to show country borders\n",
    "`coastline` | `bool` | subplot | whether to show coastlines\n",
    "`tiles` | `bool` | subplot | whether to show tiles\n",
    "`zoom` | `int` | subplot | zoom level of tiles\n",
    "`land` | `bool` | subplot | whether to show land\n",
    "`ocean` | `bool` | subplot | whether to show ocean\n",
    "`lakes` | `bool` | subplot | whether to show lakes\n",
    "`rivers` | `bool` | subplot | whether to show rivers\n",
    "`states` | `bool` | subplot | whether to show US states' borders\n",
    "`worldwide` | `bool` | subplot | whether to set to global extents"
   ]
  },
  {
   "cell_type": "markdown",
   "metadata": {},
   "source": [
    "### reference crs\n",
    "To utilize any geographic annotations, pass `crs` OR `projection` as an instantiated `cartopy.crs` object the class name.\n",
    "\n",
    "`crs` specifies the data's coordinate reference system; it's often set to `ccrs.PlateCarree()`, or conveniently `'platecarree'`, if the data is in degrees."
   ]
  },
  {
   "cell_type": "code",
   "execution_count": null,
   "metadata": {},
   "outputs": [],
   "source": [
    "import xarray as xr\n",
    "import ahlive as ah\n",
    "ds = xr.tutorial.open_dataset('air_temperature').isel(time=slice(0, 3))\n",
    "ah_ds = ah.Dataset(ds, 'lon', 'lat', 'air', crs='platecarree')\n",
    "ah_ds.render()"
   ]
  },
  {
   "cell_type": "markdown",
   "metadata": {},
   "source": [
    "### projection crs\n",
    "\n",
    "`projection` on the other hand specifies the desired output crs. If `crs` is not specified, but `projection` is set, `crs` defaults to `ccrs.PlateCarree()`."
   ]
  },
  {
   "cell_type": "code",
   "execution_count": null,
   "metadata": {},
   "outputs": [],
   "source": [
    "import xarray as xr\n",
    "import ahlive as ah\n",
    "ds = xr.tutorial.open_dataset('air_temperature').isel(time=slice(0, 3))\n",
    "ah_ds = ah.Dataset(ds, 'lon', 'lat', 'air', projection='lambertconformal')\n",
    "ah_ds.render()"
   ]
  },
  {
   "cell_type": "code",
   "execution_count": null,
   "metadata": {},
   "outputs": [],
   "source": [
    "import xarray as xr\n",
    "import ahlive as ah\n",
    "import cartopy.crs as ccrs\n",
    "import cartopy.feature as cfeature\n",
    "\n",
    "ds = xr.tutorial.open_dataset(\"air_temperature\").isel(time=slice(0, 3))\n",
    "ah_ds = ah.Dataset(\n",
    "    ds,\n",
    "    \"lon\",\n",
    "    \"lat\",\n",
    "    \"air\",\n",
    "    projection=ccrs.Orthographic(central_latitude=25, central_longitude=-88),\n",
    "    coastline=cfeature.COASTLINE.with_scale(\"50m\"),\n",
    ")\n",
    "ah_ds.render()"
   ]
  },
  {
   "cell_type": "markdown",
   "metadata": {},
   "source": [
    "### geographic features\n",
    "\n",
    "After setting either `crs` or `projection`, geographic features can be toggled."
   ]
  },
  {
   "cell_type": "code",
   "execution_count": null,
   "metadata": {},
   "outputs": [],
   "source": [
    "import xarray as xr\n",
    "import ahlive as ah\n",
    "ds = xr.tutorial.open_dataset('air_temperature').isel(time=slice(0, 3))\n",
    "ah_ds = ah.Dataset(\n",
    "    ds, 'lon', 'lat', 'air', projection='lambertconformal',\n",
    "    land=True, ocean=True, borders=True, states=True)\n",
    "ah_ds.render()"
   ]
  },
  {
   "cell_type": "markdown",
   "metadata": {},
   "source": [
    "### worldwide view\n",
    "\n",
    "`worldwide` can be set to view the data on a global extent."
   ]
  },
  {
   "cell_type": "code",
   "execution_count": null,
   "metadata": {},
   "outputs": [],
   "source": [
    "import xarray as xr\n",
    "import ahlive as ah\n",
    "ds = xr.tutorial.open_dataset('air_temperature').isel(time=slice(0, 3))\n",
    "ah_ds = ah.Dataset(\n",
    "    ds, 'lon', 'lat', 'air', projection='robinson', worldwide=True)\n",
    "ah_ds.render()"
   ]
  },
  {
   "cell_type": "markdown",
   "metadata": {},
   "source": [
    "### central longitude\n",
    "\n",
    "The `central_lon` is automatically set to the median longitude of the data, but can be set manually."
   ]
  },
  {
   "cell_type": "code",
   "execution_count": null,
   "metadata": {},
   "outputs": [],
   "source": [
    "import xarray as xr\n",
    "import ahlive as ah\n",
    "ds = xr.tutorial.open_dataset('air_temperature').isel(time=slice(0, 3))\n",
    "ah_ds = ah.Dataset(\n",
    "    ds, 'lon', 'lat', 'air',\n",
    "    projection='robinson', worldwide=True, central_lon=0)\n",
    "ah_ds.render()"
   ]
  },
  {
   "cell_type": "markdown",
   "metadata": {},
   "source": [
    "### tiles and zoom\n",
    "\n",
    "Web `tiles` can also be retrieved; click [here](https://scitools.org.uk/cartopy/docs/latest/cartopy/io/img_tiles.html) for a listing of available tiles."
   ]
  },
  {
   "cell_type": "code",
   "execution_count": 1,
   "metadata": {
    "ExecuteTime": {
     "end_time": "2021-11-06T03:56:18.897683Z",
     "start_time": "2021-11-06T03:55:02.547382Z"
    },
    "scrolled": false
   },
   "outputs": [
    {
     "data": {
      "application/vnd.jupyter.widget-view+json": {
       "model_id": "7a21a246dcee4343aa6afbd2b049fbd1",
       "version_major": 2,
       "version_minor": 0
      },
      "text/plain": [
       "HBox(children=(FloatProgress(value=0.0, max=40.0), HTML(value='')))"
      ]
     },
     "metadata": {},
     "output_type": "display_data"
    },
    {
     "name": "stdout",
     "output_type": "stream",
     "text": [
      "<urlopen error [Errno 101] Network is unreachable><urlopen error [Errno 101] Network is unreachable>\n",
      "\n",
      "<urlopen error [Errno 101] Network is unreachable><urlopen error [Errno 101] Network is unreachable>\n",
      "\n",
      "<urlopen error [Errno 101] Network is unreachable><urlopen error [Errno 101] Network is unreachable>\n",
      "<urlopen error [Errno 101] Network is unreachable>\n",
      "\n",
      "<urlopen error [Errno 101] Network is unreachable>\n",
      "<urlopen error [Errno 101] Network is unreachable><urlopen error [Errno 101] Network is unreachable><urlopen error [Errno 101] Network is unreachable>\n",
      "\n",
      "\n",
      "<urlopen error [Errno 101] Network is unreachable><urlopen error [Errno 101] Network is unreachable>\n",
      "<urlopen error [Errno 101] Network is unreachable>\n",
      "\n",
      "<urlopen error [Errno 101] Network is unreachable><urlopen error [Errno 101] Network is unreachable>\n",
      "\n",
      "<urlopen error [Errno 101] Network is unreachable>\n",
      "<urlopen error [Errno 101] Network is unreachable>\n",
      "<urlopen error [Errno 101] Network is unreachable><urlopen error [Errno 101] Network is unreachable>\n",
      "<urlopen error [Errno 101] Network is unreachable><urlopen error [Errno 101] Network is unreachable>\n",
      "\n",
      "<urlopen error [Errno 101] Network is unreachable><urlopen error [Errno 101] Network is unreachable>\n",
      "\n",
      "\n",
      "<urlopen error [Errno 101] Network is unreachable>\n"
     ]
    },
    {
     "ename": "KeyboardInterrupt",
     "evalue": "",
     "output_type": "error",
     "traceback": [
      "\u001b[0;31m---------------------------------------------------------------------------\u001b[0m",
      "\u001b[0;31mKeyboardInterrupt\u001b[0m                         Traceback (most recent call last)",
      "\u001b[0;32m/mnt/c/Users/sephi/GOOGLE~1/Bash/ahlive/ahlive/animation.py\u001b[0m in \u001b[0;36m_create_frames\u001b[0;34m(self, data, canvas_kwds)\u001b[0m\n\u001b[1;32m   1698\u001b[0m             \u001b[0;32mfor\u001b[0m \u001b[0mjob\u001b[0m \u001b[0;32min\u001b[0m \u001b[0mjobs\u001b[0m\u001b[0;34m:\u001b[0m\u001b[0;34m\u001b[0m\u001b[0;34m\u001b[0m\u001b[0m\n\u001b[0;32m-> 1699\u001b[0;31m                 \u001b[0mbuf\u001b[0m \u001b[0;34m=\u001b[0m \u001b[0mjob\u001b[0m\u001b[0;34m.\u001b[0m\u001b[0mresult\u001b[0m\u001b[0;34m(\u001b[0m\u001b[0;34m)\u001b[0m\u001b[0;34m\u001b[0m\u001b[0;34m\u001b[0m\u001b[0m\n\u001b[0m\u001b[1;32m   1700\u001b[0m                 \u001b[0;32mif\u001b[0m \u001b[0mbuf\u001b[0m \u001b[0;32mis\u001b[0m \u001b[0;32mnot\u001b[0m \u001b[0;32mNone\u001b[0m\u001b[0;34m:\u001b[0m\u001b[0;34m\u001b[0m\u001b[0;34m\u001b[0m\u001b[0m\n",
      "\u001b[0;32m~/anaconda3/envs/py3/lib/python3.7/concurrent/futures/_base.py\u001b[0m in \u001b[0;36mresult\u001b[0;34m(self, timeout)\u001b[0m\n\u001b[1;32m    429\u001b[0m \u001b[0;34m\u001b[0m\u001b[0m\n\u001b[0;32m--> 430\u001b[0;31m             \u001b[0mself\u001b[0m\u001b[0;34m.\u001b[0m\u001b[0m_condition\u001b[0m\u001b[0;34m.\u001b[0m\u001b[0mwait\u001b[0m\u001b[0;34m(\u001b[0m\u001b[0mtimeout\u001b[0m\u001b[0;34m)\u001b[0m\u001b[0;34m\u001b[0m\u001b[0;34m\u001b[0m\u001b[0m\n\u001b[0m\u001b[1;32m    431\u001b[0m \u001b[0;34m\u001b[0m\u001b[0m\n",
      "\u001b[0;32m~/anaconda3/envs/py3/lib/python3.7/threading.py\u001b[0m in \u001b[0;36mwait\u001b[0;34m(self, timeout)\u001b[0m\n\u001b[1;32m    295\u001b[0m             \u001b[0;32mif\u001b[0m \u001b[0mtimeout\u001b[0m \u001b[0;32mis\u001b[0m \u001b[0;32mNone\u001b[0m\u001b[0;34m:\u001b[0m\u001b[0;34m\u001b[0m\u001b[0;34m\u001b[0m\u001b[0m\n\u001b[0;32m--> 296\u001b[0;31m                 \u001b[0mwaiter\u001b[0m\u001b[0;34m.\u001b[0m\u001b[0macquire\u001b[0m\u001b[0;34m(\u001b[0m\u001b[0;34m)\u001b[0m\u001b[0;34m\u001b[0m\u001b[0;34m\u001b[0m\u001b[0m\n\u001b[0m\u001b[1;32m    297\u001b[0m                 \u001b[0mgotit\u001b[0m \u001b[0;34m=\u001b[0m \u001b[0;32mTrue\u001b[0m\u001b[0;34m\u001b[0m\u001b[0;34m\u001b[0m\u001b[0m\n",
      "\u001b[0;31mKeyboardInterrupt\u001b[0m: ",
      "\nDuring handling of the above exception, another exception occurred:\n",
      "\u001b[0;31mKeyboardInterrupt\u001b[0m                         Traceback (most recent call last)",
      "\u001b[0;32m<ipython-input-1-7541700d4d65>\u001b[0m in \u001b[0;36m<module>\u001b[0;34m\u001b[0m\n\u001b[1;32m      3\u001b[0m     \u001b[0;34m[\u001b[0m\u001b[0;34m-\u001b[0m\u001b[0;36m88\u001b[0m\u001b[0;34m,\u001b[0m \u001b[0;34m-\u001b[0m\u001b[0;36m88.2\u001b[0m\u001b[0;34m,\u001b[0m \u001b[0;34m-\u001b[0m\u001b[0;36m88.5\u001b[0m\u001b[0;34m]\u001b[0m\u001b[0;34m,\u001b[0m \u001b[0;34m[\u001b[0m\u001b[0;36m40\u001b[0m\u001b[0;34m,\u001b[0m \u001b[0;36m40.5\u001b[0m\u001b[0;34m,\u001b[0m \u001b[0;36m40.05\u001b[0m\u001b[0;34m]\u001b[0m\u001b[0;34m,\u001b[0m \u001b[0mtiles\u001b[0m\u001b[0;34m=\u001b[0m\u001b[0;34m\"OSM\"\u001b[0m\u001b[0;34m,\u001b[0m \u001b[0mzoom\u001b[0m\u001b[0;34m=\u001b[0m\u001b[0;36m13\u001b[0m\u001b[0;34m\u001b[0m\u001b[0;34m\u001b[0m\u001b[0m\n\u001b[1;32m      4\u001b[0m ).config(\"tiles\", style=\"toner\")\n\u001b[0;32m----> 5\u001b[0;31m \u001b[0marr\u001b[0m\u001b[0;34m.\u001b[0m\u001b[0mrender\u001b[0m\u001b[0;34m(\u001b[0m\u001b[0;34m)\u001b[0m\u001b[0;34m\u001b[0m\u001b[0;34m\u001b[0m\u001b[0m\n\u001b[0m",
      "\u001b[0;32m/mnt/c/Users/sephi/GOOGLE~1/Bash/ahlive/ahlive/animation.py\u001b[0m in \u001b[0;36mrender\u001b[0;34m(self)\u001b[0m\n\u001b[1;32m   1882\u001b[0m                 \u001b[0mpop\u001b[0m\u001b[0;34m(\u001b[0m\u001b[0mds\u001b[0m\u001b[0;34m,\u001b[0m \u001b[0;34m\"duration\"\u001b[0m\u001b[0;34m)\u001b[0m\u001b[0;34m\u001b[0m\u001b[0;34m\u001b[0m\u001b[0m\n\u001b[1;32m   1883\u001b[0m \u001b[0;34m\u001b[0m\u001b[0m\n\u001b[0;32m-> 1884\u001b[0;31m             \u001b[0mbuf_list\u001b[0m \u001b[0;34m=\u001b[0m \u001b[0mself_copy\u001b[0m\u001b[0;34m.\u001b[0m\u001b[0m_create_frames\u001b[0m\u001b[0;34m(\u001b[0m\u001b[0mdata\u001b[0m\u001b[0;34m,\u001b[0m \u001b[0mcanvas_kwds\u001b[0m\u001b[0;34m)\u001b[0m\u001b[0;34m\u001b[0m\u001b[0;34m\u001b[0m\u001b[0m\n\u001b[0m\u001b[1;32m   1885\u001b[0m             \u001b[0mout_obj\u001b[0m\u001b[0;34m,\u001b[0m \u001b[0mext\u001b[0m \u001b[0;34m=\u001b[0m \u001b[0mself_copy\u001b[0m\u001b[0;34m.\u001b[0m\u001b[0m_write_rendered\u001b[0m\u001b[0;34m(\u001b[0m\u001b[0mbuf_list\u001b[0m\u001b[0;34m,\u001b[0m \u001b[0mdurations\u001b[0m\u001b[0;34m,\u001b[0m \u001b[0mcanvas_kwds\u001b[0m\u001b[0;34m)\u001b[0m\u001b[0;34m\u001b[0m\u001b[0;34m\u001b[0m\u001b[0m\n\u001b[1;32m   1886\u001b[0m \u001b[0;34m\u001b[0m\u001b[0m\n",
      "\u001b[0;32m/mnt/c/Users/sephi/GOOGLE~1/Bash/ahlive/ahlive/animation.py\u001b[0m in \u001b[0;36m_create_frames\u001b[0;34m(self, data, canvas_kwds)\u001b[0m\n\u001b[1;32m   1700\u001b[0m                 \u001b[0;32mif\u001b[0m \u001b[0mbuf\u001b[0m \u001b[0;32mis\u001b[0m \u001b[0;32mnot\u001b[0m \u001b[0;32mNone\u001b[0m\u001b[0;34m:\u001b[0m\u001b[0;34m\u001b[0m\u001b[0;34m\u001b[0m\u001b[0m\n\u001b[1;32m   1701\u001b[0m                     \u001b[0mbuf_list\u001b[0m\u001b[0;34m.\u001b[0m\u001b[0mappend\u001b[0m\u001b[0;34m(\u001b[0m\u001b[0mbuf\u001b[0m\u001b[0;34m)\u001b[0m\u001b[0;34m\u001b[0m\u001b[0;34m\u001b[0m\u001b[0m\n\u001b[0;32m-> 1702\u001b[0;31m                 \u001b[0mprogress_bar\u001b[0m\u001b[0;34m.\u001b[0m\u001b[0mupdate\u001b[0m\u001b[0;34m(\u001b[0m\u001b[0;36m1\u001b[0m\u001b[0;34m)\u001b[0m\u001b[0;34m\u001b[0m\u001b[0;34m\u001b[0m\u001b[0m\n\u001b[0m\u001b[1;32m   1703\u001b[0m         \u001b[0mprogress_bar\u001b[0m\u001b[0;34m.\u001b[0m\u001b[0mclose\u001b[0m\u001b[0;34m(\u001b[0m\u001b[0;34m)\u001b[0m\u001b[0;34m\u001b[0m\u001b[0;34m\u001b[0m\u001b[0m\n\u001b[1;32m   1704\u001b[0m \u001b[0;34m\u001b[0m\u001b[0m\n",
      "\u001b[0;32m~/anaconda3/envs/py3/lib/python3.7/concurrent/futures/_base.py\u001b[0m in \u001b[0;36m__exit__\u001b[0;34m(self, exc_type, exc_val, exc_tb)\u001b[0m\n\u001b[1;32m    621\u001b[0m \u001b[0;34m\u001b[0m\u001b[0m\n\u001b[1;32m    622\u001b[0m     \u001b[0;32mdef\u001b[0m \u001b[0m__exit__\u001b[0m\u001b[0;34m(\u001b[0m\u001b[0mself\u001b[0m\u001b[0;34m,\u001b[0m \u001b[0mexc_type\u001b[0m\u001b[0;34m,\u001b[0m \u001b[0mexc_val\u001b[0m\u001b[0;34m,\u001b[0m \u001b[0mexc_tb\u001b[0m\u001b[0;34m)\u001b[0m\u001b[0;34m:\u001b[0m\u001b[0;34m\u001b[0m\u001b[0;34m\u001b[0m\u001b[0m\n\u001b[0;32m--> 623\u001b[0;31m         \u001b[0mself\u001b[0m\u001b[0;34m.\u001b[0m\u001b[0mshutdown\u001b[0m\u001b[0;34m(\u001b[0m\u001b[0mwait\u001b[0m\u001b[0;34m=\u001b[0m\u001b[0;32mTrue\u001b[0m\u001b[0;34m)\u001b[0m\u001b[0;34m\u001b[0m\u001b[0;34m\u001b[0m\u001b[0m\n\u001b[0m\u001b[1;32m    624\u001b[0m         \u001b[0;32mreturn\u001b[0m \u001b[0;32mFalse\u001b[0m\u001b[0;34m\u001b[0m\u001b[0;34m\u001b[0m\u001b[0m\n\u001b[1;32m    625\u001b[0m \u001b[0;34m\u001b[0m\u001b[0m\n",
      "\u001b[0;32m~/anaconda3/envs/py3/lib/python3.7/concurrent/futures/process.py\u001b[0m in \u001b[0;36mshutdown\u001b[0;34m(self, wait)\u001b[0m\n\u001b[1;32m    679\u001b[0m             \u001b[0mself\u001b[0m\u001b[0;34m.\u001b[0m\u001b[0m_queue_management_thread_wakeup\u001b[0m\u001b[0;34m.\u001b[0m\u001b[0mwakeup\u001b[0m\u001b[0;34m(\u001b[0m\u001b[0;34m)\u001b[0m\u001b[0;34m\u001b[0m\u001b[0;34m\u001b[0m\u001b[0m\n\u001b[1;32m    680\u001b[0m             \u001b[0;32mif\u001b[0m \u001b[0mwait\u001b[0m\u001b[0;34m:\u001b[0m\u001b[0;34m\u001b[0m\u001b[0;34m\u001b[0m\u001b[0m\n\u001b[0;32m--> 681\u001b[0;31m                 \u001b[0mself\u001b[0m\u001b[0;34m.\u001b[0m\u001b[0m_queue_management_thread\u001b[0m\u001b[0;34m.\u001b[0m\u001b[0mjoin\u001b[0m\u001b[0;34m(\u001b[0m\u001b[0;34m)\u001b[0m\u001b[0;34m\u001b[0m\u001b[0;34m\u001b[0m\u001b[0m\n\u001b[0m\u001b[1;32m    682\u001b[0m         \u001b[0;31m# To reduce the risk of opening too many files, remove references to\u001b[0m\u001b[0;34m\u001b[0m\u001b[0;34m\u001b[0m\u001b[0;34m\u001b[0m\u001b[0m\n\u001b[1;32m    683\u001b[0m         \u001b[0;31m# objects that use file descriptors.\u001b[0m\u001b[0;34m\u001b[0m\u001b[0;34m\u001b[0m\u001b[0;34m\u001b[0m\u001b[0m\n",
      "\u001b[0;32m~/anaconda3/envs/py3/lib/python3.7/threading.py\u001b[0m in \u001b[0;36mjoin\u001b[0;34m(self, timeout)\u001b[0m\n\u001b[1;32m   1042\u001b[0m \u001b[0;34m\u001b[0m\u001b[0m\n\u001b[1;32m   1043\u001b[0m         \u001b[0;32mif\u001b[0m \u001b[0mtimeout\u001b[0m \u001b[0;32mis\u001b[0m \u001b[0;32mNone\u001b[0m\u001b[0;34m:\u001b[0m\u001b[0;34m\u001b[0m\u001b[0;34m\u001b[0m\u001b[0m\n\u001b[0;32m-> 1044\u001b[0;31m             \u001b[0mself\u001b[0m\u001b[0;34m.\u001b[0m\u001b[0m_wait_for_tstate_lock\u001b[0m\u001b[0;34m(\u001b[0m\u001b[0;34m)\u001b[0m\u001b[0;34m\u001b[0m\u001b[0;34m\u001b[0m\u001b[0m\n\u001b[0m\u001b[1;32m   1045\u001b[0m         \u001b[0;32melse\u001b[0m\u001b[0;34m:\u001b[0m\u001b[0;34m\u001b[0m\u001b[0;34m\u001b[0m\u001b[0m\n\u001b[1;32m   1046\u001b[0m             \u001b[0;31m# the behavior of a negative timeout isn't documented, but\u001b[0m\u001b[0;34m\u001b[0m\u001b[0;34m\u001b[0m\u001b[0;34m\u001b[0m\u001b[0m\n",
      "\u001b[0;32m~/anaconda3/envs/py3/lib/python3.7/threading.py\u001b[0m in \u001b[0;36m_wait_for_tstate_lock\u001b[0;34m(self, block, timeout)\u001b[0m\n\u001b[1;32m   1058\u001b[0m         \u001b[0;32mif\u001b[0m \u001b[0mlock\u001b[0m \u001b[0;32mis\u001b[0m \u001b[0;32mNone\u001b[0m\u001b[0;34m:\u001b[0m  \u001b[0;31m# already determined that the C code is done\u001b[0m\u001b[0;34m\u001b[0m\u001b[0;34m\u001b[0m\u001b[0m\n\u001b[1;32m   1059\u001b[0m             \u001b[0;32massert\u001b[0m \u001b[0mself\u001b[0m\u001b[0;34m.\u001b[0m\u001b[0m_is_stopped\u001b[0m\u001b[0;34m\u001b[0m\u001b[0;34m\u001b[0m\u001b[0m\n\u001b[0;32m-> 1060\u001b[0;31m         \u001b[0;32melif\u001b[0m \u001b[0mlock\u001b[0m\u001b[0;34m.\u001b[0m\u001b[0macquire\u001b[0m\u001b[0;34m(\u001b[0m\u001b[0mblock\u001b[0m\u001b[0;34m,\u001b[0m \u001b[0mtimeout\u001b[0m\u001b[0;34m)\u001b[0m\u001b[0;34m:\u001b[0m\u001b[0;34m\u001b[0m\u001b[0;34m\u001b[0m\u001b[0m\n\u001b[0m\u001b[1;32m   1061\u001b[0m             \u001b[0mlock\u001b[0m\u001b[0;34m.\u001b[0m\u001b[0mrelease\u001b[0m\u001b[0;34m(\u001b[0m\u001b[0;34m)\u001b[0m\u001b[0;34m\u001b[0m\u001b[0;34m\u001b[0m\u001b[0m\n\u001b[1;32m   1062\u001b[0m             \u001b[0mself\u001b[0m\u001b[0;34m.\u001b[0m\u001b[0m_stop\u001b[0m\u001b[0;34m(\u001b[0m\u001b[0;34m)\u001b[0m\u001b[0;34m\u001b[0m\u001b[0;34m\u001b[0m\u001b[0m\n",
      "\u001b[0;31mKeyboardInterrupt\u001b[0m: "
     ]
    },
    {
     "name": "stdout",
     "output_type": "stream",
     "text": [
      "<urlopen error [Errno 101] Network is unreachable>\n",
      "<urlopen error [Errno 101] Network is unreachable>\n",
      "<urlopen error [Errno 101] Network is unreachable>\n",
      "<urlopen error [Errno 101] Network is unreachable>\n",
      "<urlopen error [Errno 101] Network is unreachable>\n",
      "<urlopen error [Errno 101] Network is unreachable><urlopen error [Errno 101] Network is unreachable>\n",
      "\n",
      "<urlopen error [Errno 101] Network is unreachable>\n",
      "<urlopen error [Errno 101] Network is unreachable><urlopen error [Errno 101] Network is unreachable>\n",
      "\n",
      "<urlopen error [Errno 101] Network is unreachable>\n",
      "<urlopen error [Errno 101] Network is unreachable>\n",
      "<urlopen error [Errno 101] Network is unreachable>\n",
      "<urlopen error [Errno 101] Network is unreachable><urlopen error [Errno 101] Network is unreachable>\n",
      "\n",
      "<urlopen error [Errno 101] Network is unreachable>\n",
      "<urlopen error [Errno 101] Network is unreachable><urlopen error [Errno 101] Network is unreachable>\n",
      "\n",
      "<urlopen error [Errno 101] Network is unreachable>\n",
      "<urlopen error [Errno 101] Network is unreachable>\n",
      "<urlopen error [Errno 101] Network is unreachable>\n",
      "<urlopen error [Errno 101] Network is unreachable>\n",
      "<urlopen error [Errno 101] Network is unreachable>\n",
      "<urlopen error [Errno 101] Network is unreachable>\n",
      "<urlopen error [Errno 101] Network is unreachable>\n",
      "<urlopen error [Errno 101] Network is unreachable>\n",
      "<urlopen error [Errno 101] Network is unreachable>\n",
      "<urlopen error [Errno 101] Network is unreachable><urlopen error [Errno 101] Network is unreachable>\n",
      "\n",
      "<urlopen error [Errno 101] Network is unreachable>\n",
      "<urlopen error [Errno 101] Network is unreachable><urlopen error [Errno 101] Network is unreachable>\n",
      "\n",
      "<urlopen error [Errno 101] Network is unreachable><urlopen error [Errno 101] Network is unreachable>\n",
      "\n",
      "<urlopen error [Errno 101] Network is unreachable>\n",
      "<urlopen error [Errno 101] Network is unreachable>\n",
      "<urlopen error [Errno 101] Network is unreachable>\n",
      "<urlopen error [Errno 101] Network is unreachable><urlopen error [Errno 101] Network is unreachable>\n",
      "\n",
      "<urlopen error [Errno 101] Network is unreachable>\n",
      "<urlopen error [Errno 101] Network is unreachable><urlopen error [Errno 101] Network is unreachable>\n",
      "\n",
      "<urlopen error [Errno 101] Network is unreachable>\n",
      "<urlopen error [Errno 101] Network is unreachable>\n",
      "<urlopen error [Errno 101] Network is unreachable>\n",
      "<urlopen error [Errno 101] Network is unreachable>\n",
      "<urlopen error [Errno 101] Network is unreachable>\n",
      "<urlopen error [Errno 101] Network is unreachable>\n"
     ]
    }
   ],
   "source": [
    "import ahlive as ah\n",
    "arr = ah.Array(\n",
    "    [-88, -88.2, -88.5], [40, 40.5, 40.05], tiles=\"OSM\", zoom=9\n",
    ").config(\"tiles\", style=\"toner\")\n",
    "arr.render()"
   ]
  }
 ],
 "metadata": {
  "kernelspec": {
   "display_name": "Python [conda env:py3]",
   "language": "python",
   "name": "conda-env-py3-py"
  },
  "language_info": {
   "codemirror_mode": {
    "name": "ipython",
    "version": 3
   },
   "file_extension": ".py",
   "mimetype": "text/x-python",
   "name": "python",
   "nbconvert_exporter": "python",
   "pygments_lexer": "ipython3",
   "version": "3.7.7"
  },
  "varInspector": {
   "cols": {
    "lenName": 16,
    "lenType": 16,
    "lenVar": 40
   },
   "kernels_config": {
    "python": {
     "delete_cmd_postfix": "",
     "delete_cmd_prefix": "del ",
     "library": "var_list.py",
     "varRefreshCmd": "print(var_dic_list())"
    },
    "r": {
     "delete_cmd_postfix": ") ",
     "delete_cmd_prefix": "rm(",
     "library": "var_list.r",
     "varRefreshCmd": "cat(var_dic_list()) "
    }
   },
   "types_to_exclude": [
    "module",
    "function",
    "builtin_function_or_method",
    "instance",
    "_Feature"
   ],
   "window_display": false
  }
 },
 "nbformat": 4,
 "nbformat_minor": 4
}
