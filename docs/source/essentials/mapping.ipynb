{
 "cells": [
  {
   "cell_type": "markdown",
   "metadata": {},
   "source": [
    "# Mapping\n",
    "\n",
    "Map data onto a geographic map!\n",
    "\n",
    "### geographic keywords\n",
    "For geographic annotations, there are these keywords:\n",
    "\n",
    "ahlive keyword | type | scope | description\n",
    "--- | --- | --- | ---\n",
    "`crs` | `str` | subplot | the data's projection coordinate reference system (crs)\n",
    "`projection` | `str` | subplot | the desired output crs\n",
    "`central_lon` | `float` | subplot | the desired longitude in degrees to center on\n",
    "`borders` | `bool` | subplot | whether to show country borders\n",
    "`coastline` | `bool` | subplot | whether to show coastlines\n",
    "`land` | `bool` | subplot | whether to show land\n",
    "`ocean` | `bool` | subplot | whether to show ocean\n",
    "`lakes` | `bool` | subplot | whether to show lakes\n",
    "`rivers` | `bool` | subplot | whether to show rivers\n",
    "`states` | `bool` | subplot | whether to show US states' borders\n",
    "`worldwide` | `bool` | subplot | whether to set to global extents"
   ]
  },
  {
   "cell_type": "markdown",
   "metadata": {},
   "source": [
    "### reference crs\n",
    "To utilize any geographic annotations, pass `crs` OR `projection` as an instantiated `cartopy.crs` object the class name.\n",
    "\n",
    "`crs` specifies the data's coordinate reference system; it's often set to `ccrs.PlateCarree()`, or conveniently `'platecarree'`, if the data is in degrees."
   ]
  },
  {
   "cell_type": "code",
   "execution_count": null,
   "metadata": {},
   "outputs": [],
   "source": [
    "import xarray as xr\n",
    "import ahlive as ah\n",
    "ds = xr.tutorial.open_dataset('air_temperature').isel(time=slice(0, 3))\n",
    "ah_ds = ah.Dataset(ds, 'lon', 'lat', 'air', crs='platecarree')\n",
    "ah_ds.render()"
   ]
  },
  {
   "cell_type": "markdown",
   "metadata": {},
   "source": [
    "### projection crs\n",
    "\n",
    "`projection` on the other hand specifies the desired output crs. If `crs` is not specified, but `projection` is set, `crs` defaults to `ccrs.PlateCarree()`."
   ]
  },
  {
   "cell_type": "code",
   "execution_count": null,
   "metadata": {},
   "outputs": [],
   "source": [
    "import xarray as xr\n",
    "import ahlive as ah\n",
    "ds = xr.tutorial.open_dataset('air_temperature').isel(time=slice(0, 3))\n",
    "ah_ds = ah.Dataset(ds, 'lon', 'lat', 'air', projection='lambertconformal')\n",
    "ah_ds.render()"
   ]
  },
  {
   "cell_type": "markdown",
   "metadata": {},
   "source": [
    "### geographic features\n",
    "\n",
    "After setting either `crs` or `projection`, geographic features can be toggled."
   ]
  },
  {
   "cell_type": "code",
   "execution_count": null,
   "metadata": {},
   "outputs": [],
   "source": [
    "import xarray as xr\n",
    "import ahlive as ah\n",
    "ds = xr.tutorial.open_dataset('air_temperature').isel(time=slice(0, 3))\n",
    "ah_ds = ah.Dataset(\n",
    "    ds, 'lon', 'lat', 'air', projection='lambertconformal',\n",
    "    land=True, ocean=True, borders=True, states=True)\n",
    "ah_ds.render()"
   ]
  },
  {
   "cell_type": "markdown",
   "metadata": {},
   "source": [
    "### worldwide view\n",
    "\n",
    "`worldwide` can be set to view the data on a global extent."
   ]
  },
  {
   "cell_type": "code",
   "execution_count": null,
   "metadata": {},
   "outputs": [],
   "source": [
    "import xarray as xr\n",
    "import ahlive as ah\n",
    "ds = xr.tutorial.open_dataset('air_temperature').isel(time=slice(0, 3))\n",
    "ah_ds = ah.Dataset(\n",
    "    ds, 'lon', 'lat', 'air', projection='robinson', worldwide=True)\n",
    "ah_ds.render()"
   ]
  },
  {
   "cell_type": "markdown",
   "metadata": {},
   "source": [
    "### central longitude\n",
    "\n",
    "The `central_lon` is automatically set to the median longitude of the data, but can be set manually."
   ]
  },
  {
   "cell_type": "code",
   "execution_count": null,
   "metadata": {},
   "outputs": [],
   "source": [
    "import xarray as xr\n",
    "import ahlive as ah\n",
    "ds = xr.tutorial.open_dataset('air_temperature').isel(time=slice(0, 3))\n",
    "ah_ds = ah.Dataset(\n",
    "    ds, 'lon', 'lat', 'air',\n",
    "    projection='robinson', worldwide=True, central_lon=0)\n",
    "ah_ds.render()"
   ]
  }
 ],
 "metadata": {},
 "nbformat": 4,
 "nbformat_minor": 4
}
