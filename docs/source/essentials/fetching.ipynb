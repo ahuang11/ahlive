{
 "cells": [
  {
   "cell_type": "markdown",
   "metadata": {},
   "source": [
    "# Fetching\n",
    "\n",
    "ahlive has many datasets readily available!"
   ]
  },
  {
   "cell_type": "markdown",
   "metadata": {},
   "source": [
    "### list datasets\n",
    "\n",
    "To get a listing of available datasets, use `list_datasets`. Here, \"urban\" is used as the search `pattern` and then a `sample` of 8 are shown."
   ]
  },
  {
   "cell_type": "code",
   "execution_count": null,
   "metadata": {},
   "outputs": [],
   "source": [
    "import ahlive as ah\n",
    "ah.list_datasets(pattern=\"urban\", sample=8)"
   ]
  },
  {
   "cell_type": "markdown",
   "metadata": {},
   "source": [
    "### open dataset\n",
    "\n",
    "To open the dataset into a dataframe, enter the label of the dataset."
   ]
  },
  {
   "cell_type": "code",
   "execution_count": null,
   "metadata": {},
   "outputs": [],
   "source": [
    "import ahlive as ah\n",
    "ah.open_dataset(\"annual_co2\")"
   ]
  },
  {
   "cell_type": "markdown",
   "metadata": {},
   "source": [
    "### built-in keywords\n",
    "\n",
    "Some datasets have built-in keywords, like `iem_asos`--look for \"adjustable keywords\" after running `ah.list_datasets`."
   ]
  },
  {
   "cell_type": "code",
   "execution_count": null,
   "metadata": {},
   "outputs": [],
   "source": [
    "import ahlive as ah\n",
    "ah.open_dataset(\"iem_asos\", stn=\"DEN\", end=\"2020-01-02\", elev=True, data=\"tmpf\")"
   ]
  },
  {
   "cell_type": "markdown",
   "metadata": {},
   "source": [
    "### pandas keywords\n",
    "\n",
    "Besides the built-in keywords, all `pd.read_csv` keywords are supported."
   ]
  },
  {
   "cell_type": "code",
   "execution_count": null,
   "metadata": {},
   "outputs": [],
   "source": [
    "import ahlive as ah\n",
    "ah.open_dataset(\"annual_co2\", names=[\"Year\", \"CO2\"], usecols=[\"Year\", \"CO2\"])"
   ]
  },
  {
   "cell_type": "markdown",
   "metadata": {},
   "source": [
    "To see a list of valid keywords for `pd.read_csv`:"
   ]
  },
  {
   "cell_type": "markdown",
   "metadata": {},
   "source": [
    "### raw dataset\n",
    "\n",
    "Sometimes, ahlive subsets and renames columns from the fetched dataset. To get the raw dataset without any preprocessing:"
   ]
  },
  {
   "cell_type": "code",
   "execution_count": null,
   "metadata": {},
   "outputs": [],
   "source": [
    "import ahlive as ah\n",
    "ah.open_dataset(\"iem_asos\", raw=True)"
   ]
  },
  {
   "cell_type": "markdown",
   "metadata": {},
   "source": [
    "### verbose description\n",
    "\n",
    "To see a description and where the data was fetched from:"
   ]
  },
  {
   "cell_type": "code",
   "execution_count": null,
   "metadata": {},
   "outputs": [],
   "source": [
    "import ahlive as ah\n",
    "ah.open_dataset(\"annual_co2\", verbose=True)"
   ]
  },
  {
   "cell_type": "markdown",
   "metadata": {},
   "source": [
    "### return meta\n",
    "\n",
    "It's possible to return the metadata as a variable, useful for adding citations in your animation. To return the metadata:"
   ]
  },
  {
   "cell_type": "code",
   "execution_count": null,
   "metadata": {},
   "outputs": [],
   "source": [
    "import ahlive as ah\n",
    "df, meta = ah.open_dataset(\"annual_co2\", return_meta=True)\n",
    "for key, val in meta.items():\n",
    "    print(f\"{key}: {val}\")"
   ]
  },
  {
   "cell_type": "markdown",
   "metadata": {},
   "source": [
    "### use cache\n",
    "\n",
    "All datasets are cached at `$HOME/.ahlive/`."
   ]
  },
  {
   "cell_type": "code",
   "execution_count": null,
   "metadata": {},
   "outputs": [],
   "source": [
    "import ahlive as ah\n",
    "print(ah.DEFAULTS[\"cache_kwds\"])"
   ]
  },
  {
   "cell_type": "markdown",
   "metadata": {},
   "source": [
    "To change the default cache directory:"
   ]
  },
  {
   "cell_type": "code",
   "execution_count": null,
   "metadata": {},
   "outputs": [],
   "source": [
    "import os\n",
    "import ahlive as ah\n",
    "ah.config_defaults(\"cache\", directory=os.path.expandvars(\"$HOME/.ahlive/new_cache\"))\n",
    "print(ah.DEFAULTS[\"cache_kwds\"])"
   ]
  },
  {
   "cell_type": "markdown",
   "metadata": {},
   "source": [
    "To disable reading from cache:"
   ]
  },
  {
   "cell_type": "code",
   "execution_count": null,
   "metadata": {},
   "outputs": [],
   "source": [
    "import ahlive as ah\n",
    "ah.open_dataset(\"annual_co2\", use_cache=False)"
   ]
  }
 ],
 "metadata": {},
 "nbformat": 4,
 "nbformat_minor": 4
}
