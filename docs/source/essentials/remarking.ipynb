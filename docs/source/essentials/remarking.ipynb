{
 "cells": [
  {
   "cell_type": "markdown",
   "metadata": {},
   "source": [
    "# Remarking\n",
    "\n",
    "Got something to highlight? Make a remark!"
   ]
  },
  {
   "cell_type": "markdown",
   "metadata": {},
   "source": [
    "### trigger condition\n",
    "\n",
    "To add a remark, pass a `condition`; upon meeting that `condition`, the `remarks` will appear."
   ]
  },
  {
   "cell_type": "code",
   "execution_count": null,
   "metadata": {},
   "outputs": [],
   "source": [
    "import numpy as np\n",
    "import ahlive as ah\n",
    "xs = np.array([0, 1, 2])\n",
    "ys = np.array([3, 4, 5])\n",
    "arr = ah.Array(xs, ys)\n",
    "arr = arr.remark(\n",
    "    condition=ys == 4,\n",
    "    remarks='y equals to 4!!'\n",
    ")\n",
    "arr.render()"
   ]
  },
  {
   "cell_type": "markdown",
   "metadata": {},
   "source": [
    "<div class=\"alert alert-warning\">\n",
    "\n",
    "`remark` does not save the object inplace so be sure to either save it to a new variable or same variable!\n",
    "\n",
    "</div>"
   ]
  },
  {
   "cell_type": "markdown",
   "metadata": {},
   "source": [
    "### delay durations\n",
    "\n",
    "It is also possible to add delays, in seconds, where there was a remark through `durations`."
   ]
  },
  {
   "cell_type": "code",
   "execution_count": null,
   "metadata": {},
   "outputs": [],
   "source": [
    "import numpy as np\n",
    "import ahlive as ah\n",
    "xs = np.array([0, 1, 2])\n",
    "ys = np.array([3, 4, 5])\n",
    "arr = ah.Array(xs, ys)\n",
    "arr = arr.remark(\n",
    "    condition=ys == 4,\n",
    "    remarks='y equals to 4!!',\n",
    "    durations=2\n",
    ")\n",
    "arr.render()"
   ]
  },
  {
   "cell_type": "markdown",
   "metadata": {},
   "source": [
    "<div class=\"alert alert-warning\">\n",
    "\n",
    "`durations` only work with GIFs!\n",
    "\n",
    "</div>"
   ]
  },
  {
   "cell_type": "markdown",
   "metadata": {},
   "source": [
    "### convenient conditions"
   ]
  },
  {
   "cell_type": "markdown",
   "metadata": {},
   "source": [
    "Instead of formulating a `condition`, for convenience, values can be passed to `xs`, `ys`, `cs`, `state_labels`, and `inline_labels`. \n",
    "\n",
    "When the data values match the conditional values for the given label, `remarks` will trigger."
   ]
  },
  {
   "cell_type": "code",
   "execution_count": null,
   "metadata": {},
   "outputs": [],
   "source": [
    "import ahlive as ah\n",
    "arr = ah.Array([0, 1, 2], [3, 4, 5])\n",
    "arr = arr.remark(xs=1, remarks='x equals to 1!!')\n",
    "arr.render()"
   ]
  },
  {
   "cell_type": "markdown",
   "metadata": {},
   "source": [
    "Besides scalars, `xs`, `ys`, `cs`, `state_labels`, and `inline_labels` support `Iterables` too."
   ]
  },
  {
   "cell_type": "code",
   "execution_count": null,
   "metadata": {},
   "outputs": [],
   "source": [
    "import ahlive as ah\n",
    "arr = ah.Array([0, 1, 2], [3, 4, 5])\n",
    "arr = arr.remark(xs=[1, 2], remarks='xs condition is met!!')\n",
    "arr.render()"
   ]
  },
  {
   "cell_type": "markdown",
   "metadata": {},
   "source": [
    "Multiple `remarks` can be passed too, as long as it matches the number of states."
   ]
  },
  {
   "cell_type": "code",
   "execution_count": null,
   "metadata": {},
   "outputs": [],
   "source": [
    "import ahlive as ah\n",
    "arr = ah.Array([0, 1, 2], [3, 4, 5])\n",
    "arr = arr.remark(xs=[1, 2], remarks=['wont show', '1st show', '2nd show'])\n",
    "arr.render()"
   ]
  },
  {
   "cell_type": "markdown",
   "metadata": {},
   "source": [
    "### dynamic remarks"
   ]
  },
  {
   "cell_type": "markdown",
   "metadata": {},
   "source": [
    "Rather than setting static values for `remarks`, passing a label from the dataset, e.g. `x`, `y`, `c`, `state_label`, and `inline_label` (without the \"s\" suffix), can dynamically grab the value for that label at that given condition. Any labels listed under \"Data variables\" is valid for use as long as it contains a `state` dimension."
   ]
  },
  {
   "cell_type": "code",
   "execution_count": null,
   "metadata": {},
   "outputs": [],
   "source": [
    "import ahlive as ah\n",
    "arr = ah.Array([0, 1, 2], [3, 4, 5])\n",
    "print(arr)\n",
    "arr = arr.remark(xs=[1, 2], remarks='x')\n",
    "arr.render()"
   ]
  },
  {
   "cell_type": "markdown",
   "metadata": {},
   "source": [
    "Note, remarks will be triggered every time the conditional value is met."
   ]
  },
  {
   "cell_type": "code",
   "execution_count": null,
   "metadata": {},
   "outputs": [],
   "source": [
    "import ahlive as ah\n",
    "arr = ah.Array([0, 1, 2], [3, 4, 4])\n",
    "arr = arr.remark(ys=4, remarks='y')\n",
    "arr.render()"
   ]
  },
  {
   "cell_type": "markdown",
   "metadata": {},
   "source": [
    "### first encounter"
   ]
  },
  {
   "cell_type": "markdown",
   "metadata": {},
   "source": [
    "To have the `remarks` trigger only once on the initial match, set `first` to `True`."
   ]
  },
  {
   "cell_type": "code",
   "execution_count": null,
   "metadata": {},
   "outputs": [],
   "source": [
    "import ahlive as ah\n",
    "arr = ah.Array([0, 1, 2], [3, 4, 4])\n",
    "arr = arr.remark(ys=4, remarks='y', first=True)\n",
    "arr.render()"
   ]
  },
  {
   "cell_type": "markdown",
   "metadata": {},
   "source": [
    "`first` operates separately on each conditional value, i.e. `remarks` will trigger for 3 and the first 4, but not the last 4."
   ]
  },
  {
   "cell_type": "code",
   "execution_count": null,
   "metadata": {},
   "outputs": [],
   "source": [
    "import ahlive as ah\n",
    "arr = ah.Array([0, 1, 2], [3, 4, 4])\n",
    "arr = arr.remark(ys=[3, 4], remarks='y', first=True)\n",
    "arr.render()"
   ]
  },
  {
   "cell_type": "markdown",
   "metadata": {},
   "source": [
    "### tolerance levels"
   ]
  },
  {
   "cell_type": "markdown",
   "metadata": {},
   "source": [
    "An absolute tolerance `atol` can be specified for inexact matching."
   ]
  },
  {
   "cell_type": "code",
   "execution_count": null,
   "metadata": {},
   "outputs": [],
   "source": [
    "import ahlive as ah\n",
    "arr = ah.Array([0, 1, 2], [3, 4, 4])\n",
    "arr = arr.remark(ys=4.15, remarks='y', atol=0.5)\n",
    "arr.render()"
   ]
  },
  {
   "cell_type": "markdown",
   "metadata": {},
   "source": [
    "A relative tolerance `rtol` can be passed too."
   ]
  },
  {
   "cell_type": "code",
   "execution_count": null,
   "metadata": {},
   "outputs": [],
   "source": [
    "import ahlive as ah\n",
    "arr = ah.Array([0, 1, 2], [3, 4, 4])\n",
    "arr = arr.remark(ys=4.15, remarks='y', rtol=0.1)\n",
    "arr.render()"
   ]
  },
  {
   "cell_type": "markdown",
   "metadata": {},
   "source": [
    "<div class=\"alert alert-warning\">\n",
    "\n",
    "`rtol` and `atol` cannot be used with the `condition` or the `first` keyword.\n",
    "\n",
    "</div>"
   ]
  }
 ],
 "metadata": {},
 "nbformat": 4,
 "nbformat_minor": 4
}
