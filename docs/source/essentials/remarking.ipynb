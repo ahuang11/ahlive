{
 "cells": [
  {
   "cell_type": "markdown",
   "metadata": {},
   "source": [
    "# Remarking\n",
    "\n",
    "Got something to highlight? Make a remark!"
   ]
  },
  {
   "cell_type": "markdown",
   "metadata": {},
   "source": [
    "### trigger condition\n",
    "\n",
    "To add a remark, pass a `condition`; upon meeting that `condition`, the `remarks` will appear."
   ]
  },
  {
   "cell_type": "code",
   "execution_count": null,
   "metadata": {},
   "outputs": [],
   "source": [
    "import numpy as np\n",
    "import ahlive as ah\n",
    "xs = np.array([0, 1, 2])\n",
    "ys = np.array([3, 4, 5])\n",
    "arr = ah.Array(xs, ys)\n",
    "arr = arr.remark(\n",
    "    condition=ys == 4,\n",
    "    remarks='y equals to 4!!'\n",
    ")\n",
    "arr.render()"
   ]
  },
  {
   "cell_type": "markdown",
   "metadata": {},
   "source": [
    "<div class=\"alert alert-warning\">\n",
    "\n",
    "`remark` does not save the object inplace so be sure to either save it to a new variable or same variable!\n",
    "\n",
    "</div>"
   ]
  },
  {
   "cell_type": "markdown",
   "metadata": {},
   "source": [
    "Sometimes, when joining `ah.Array`s, using `condition` can get flaky."
   ]
  },
  {
   "cell_type": "code",
   "execution_count": null,
   "metadata": {},
   "outputs": [],
   "source": [
    "import numpy as np\n",
    "import ahlive as ah\n",
    "\n",
    "xs = np.array([0, 1, 2])\n",
    "ys = np.array([3, 4, 5])\n",
    "\n",
    "arr = ah.Array(xs, ys)\n",
    "arr = arr - arr\n",
    "\n",
    "try:\n",
    "    arr = arr.remark(\n",
    "        condition=ys == 4,\n",
    "        remarks='y equals to 4!!'\n",
    "    )\n",
    "    arr.render()\n",
    "except ValueError as e:\n",
    "    print(e)"
   ]
  },
  {
   "cell_type": "markdown",
   "metadata": {},
   "source": [
    "To get around that, use the `xr.Dataset` under `data` for `condition`."
   ]
  },
  {
   "cell_type": "code",
   "execution_count": null,
   "metadata": {},
   "outputs": [],
   "source": [
    "import numpy as np\n",
    "import ahlive as ah\n",
    "\n",
    "xs = np.array([0, 1, 2])\n",
    "ys = np.array([3, 4, 5])\n",
    "\n",
    "arr = ah.Array(xs, ys)\n",
    "arr = arr - arr\n",
    "\n",
    "ds = arr.data[1, 1]\n",
    "\n",
    "arr = arr.remark(\n",
    "    condition=ds[\"y\"] == 4,\n",
    "    remarks='y equals to 4!!'\n",
    ")\n",
    "arr.render()"
   ]
  },
  {
   "cell_type": "code",
   "execution_count": null,
   "metadata": {},
   "outputs": [],
   "source": [
    "import numpy as np\n",
    "import ahlive as ah\n",
    "\n",
    "xs = np.array([0, 1, 2])\n",
    "ys = np.array([3, 4, 5])\n",
    "\n",
    "arr = ah.Array(xs, ys)\n",
    "arr = arr - arr\n",
    "\n",
    "arr.reference(y0s=\"y\", last=True).render()"
   ]
  },
  {
   "cell_type": "markdown",
   "metadata": {},
   "source": [
    "### convenient conditions"
   ]
  },
  {
   "cell_type": "markdown",
   "metadata": {},
   "source": [
    "Instead of formulating a `condition`, for convenience, values can be passed to `xs`, `ys`, `cs`, `labels`, `state_labels`, and `inline_labels`.\n",
    "\n",
    "When the data values match the conditional values for the given label, `remarks` will trigger."
   ]
  },
  {
   "cell_type": "code",
   "execution_count": null,
   "metadata": {},
   "outputs": [],
   "source": [
    "import numpy as np\n",
    "import ahlive as ah\n",
    "\n",
    "xs = np.array([0, 1, 2])\n",
    "ys = np.array([3, 4, 5])\n",
    "\n",
    "arr = ah.Array(xs, ys)\n",
    "arr = arr - arr\n",
    "\n",
    "ds = arr.data[1, 1]\n",
    "\n",
    "arr = arr.remark(\n",
    "    ys=4,\n",
    "    remarks='y equals to 4!!'\n",
    ")\n",
    "arr.render()"
   ]
  },
  {
   "cell_type": "markdown",
   "metadata": {},
   "source": [
    "Values to match can be `Iterables` as well."
   ]
  },
  {
   "cell_type": "code",
   "execution_count": null,
   "metadata": {},
   "outputs": [],
   "source": [
    "import ahlive as ah\n",
    "arr = ah.Array([0, 1, 2], [3, 4, 5])\n",
    "arr = arr.remark(xs=[1, 2], remarks=\"y is matched!\")\n",
    "arr.render()"
   ]
  },
  {
   "cell_type": "markdown",
   "metadata": {},
   "source": [
    "Multiple `remarks` can be passed too, as long as it matches the number of states."
   ]
  },
  {
   "cell_type": "code",
   "execution_count": null,
   "metadata": {},
   "outputs": [],
   "source": [
    "import ahlive as ah\n",
    "arr = ah.Array([0, 1, 2], [3, 4, 5])\n",
    "arr = arr.remark(xs=[1, 2], remarks=['wont show', '1st show', '2nd show'])\n",
    "arr.render()"
   ]
  },
  {
   "cell_type": "markdown",
   "metadata": {},
   "source": [
    "Any labels listed under \"Data variables\" is valid for use as long as it contains a `state` dimension."
   ]
  },
  {
   "cell_type": "code",
   "execution_count": null,
   "metadata": {},
   "outputs": [],
   "source": [
    "import ahlive as ah\n",
    "arr = ah.Array([0, 1, 2], [3, 4, 5], s=[6, 7, 8])\n",
    "print(arr)\n",
    "arr = arr.remark(s=[6, 7], remarks=['the size is 6', 'the size is 7', ''])\n",
    "arr.render()"
   ]
  },
  {
   "cell_type": "markdown",
   "metadata": {},
   "source": [
    "### dynamic remarks"
   ]
  },
  {
   "cell_type": "markdown",
   "metadata": {},
   "source": [
    "Rather than setting static values for `remarks`, passing a label from the dataset, e.g. `x`, `y`, `c`, `label`, `state_label`, and `inline_label` (without the \"s\" suffix), can dynamically grab the value for that label at that given condition. Any labels listed under \"Data variables\" is valid for use as long as it contains a `state` dimension."
   ]
  },
  {
   "cell_type": "code",
   "execution_count": null,
   "metadata": {},
   "outputs": [],
   "source": [
    "import ahlive as ah\n",
    "arr = ah.Array([0, 1, 2], [3, 4, 5])\n",
    "print(arr)\n",
    "arr = arr.remark(xs=[1, 2], remarks='x')\n",
    "arr.render()"
   ]
  },
  {
   "cell_type": "markdown",
   "metadata": {},
   "source": [
    "Note, remarks will be triggered every time the conditional value is met."
   ]
  },
  {
   "cell_type": "code",
   "execution_count": null,
   "metadata": {},
   "outputs": [],
   "source": [
    "import ahlive as ah\n",
    "arr = ah.Array([0, 1, 2], [3, 4, 4])\n",
    "arr = arr.remark(ys=4, remarks='y')\n",
    "arr.render()"
   ]
  },
  {
   "cell_type": "markdown",
   "metadata": {},
   "source": [
    "### delay durations\n",
    "\n",
    "It is also possible to add delays, in seconds, where there was a remark through `durations`."
   ]
  },
  {
   "cell_type": "code",
   "execution_count": null,
   "metadata": {},
   "outputs": [],
   "source": [
    "import numpy as np\n",
    "import ahlive as ah\n",
    "xs = np.array([0, 1, 2])\n",
    "ys = np.array([3, 4, 5])\n",
    "arr = ah.Array(xs, ys)\n",
    "arr = arr.remark(\n",
    "    condition=ys == 4,\n",
    "    remarks='y equals to 4!!',\n",
    "    durations=2\n",
    ")\n",
    "arr.render()"
   ]
  },
  {
   "cell_type": "markdown",
   "metadata": {},
   "source": [
    "<div class=\"alert alert-warning\">\n",
    "\n",
    "`durations` is only supported with gif, i.e. not video formats!\n",
    "\n",
    "</div>"
   ]
  },
  {
   "cell_type": "markdown",
   "metadata": {},
   "source": [
    "### first encounter"
   ]
  },
  {
   "cell_type": "markdown",
   "metadata": {},
   "source": [
    "To have the `remarks` trigger only once on the initial match, set `first` to `True`."
   ]
  },
  {
   "cell_type": "code",
   "execution_count": null,
   "metadata": {},
   "outputs": [],
   "source": [
    "import ahlive as ah\n",
    "arr = ah.Array([0, 1, 2], [3, 4, 4])\n",
    "arr = arr.remark(ys=4, remarks='y', first=True)\n",
    "arr.render()"
   ]
  },
  {
   "cell_type": "markdown",
   "metadata": {},
   "source": [
    "`first` operates separately on each conditional value, i.e. `remarks` will trigger for 3 and the first 4, but not the last 4."
   ]
  },
  {
   "cell_type": "code",
   "execution_count": null,
   "metadata": {},
   "outputs": [],
   "source": [
    "import ahlive as ah\n",
    "arr = ah.Array([0, 1, 2], [3, 4, 4])\n",
    "arr = arr.remark(ys=[3, 4], remarks='y', first=True)\n",
    "arr.render()"
   ]
  },
  {
   "cell_type": "markdown",
   "metadata": {},
   "source": [
    "<div class=\"alert alert-warning\">\n",
    "\n",
    "`first` does not work with manually input `condition`, only with convenient conditions.\n",
    "\n",
    "</div>"
   ]
  },
  {
   "cell_type": "markdown",
   "metadata": {},
   "source": [
    "### persist plot\n",
    "\n",
    "To have the plot marker persist:"
   ]
  },
  {
   "cell_type": "code",
   "execution_count": null,
   "metadata": {},
   "outputs": [],
   "source": [
    "import ahlive as ah\n",
    "arr = ah.Array([0, 1, 2], [3, 4, 4])\n",
    "arr = arr.remark(ys=4, remarks='y', persist_plot=True)\n",
    "arr.render()"
   ]
  },
  {
   "cell_type": "markdown",
   "metadata": {},
   "source": [
    "### persist inline\n",
    "\n",
    "To have the inline label persist:"
   ]
  },
  {
   "cell_type": "code",
   "execution_count": null,
   "metadata": {},
   "outputs": [],
   "source": [
    "import ahlive as ah\n",
    "arr = ah.Array([0, 1, 2], [3, 4, 4])\n",
    "arr = arr.remark(ys=4, remarks='y', persist_inline=True)\n",
    "arr.render()"
   ]
  },
  {
   "cell_type": "markdown",
   "metadata": {},
   "source": [
    "### tolerance levels"
   ]
  },
  {
   "cell_type": "markdown",
   "metadata": {},
   "source": [
    "An absolute tolerance `atol` can be specified for inexact matching."
   ]
  },
  {
   "cell_type": "code",
   "execution_count": null,
   "metadata": {},
   "outputs": [],
   "source": [
    "import ahlive as ah\n",
    "arr = ah.Array([0, 1, 2], [3, 4, 4])\n",
    "arr = arr.remark(ys=4.15, remarks='y', atol=0.5)\n",
    "arr.render()"
   ]
  },
  {
   "cell_type": "markdown",
   "metadata": {},
   "source": [
    "A relative tolerance `rtol` can be passed too."
   ]
  },
  {
   "cell_type": "code",
   "execution_count": null,
   "metadata": {},
   "outputs": [],
   "source": [
    "import ahlive as ah\n",
    "arr = ah.Array([0, 1, 2], [3, 4, 4])\n",
    "arr = arr.remark(ys=4.15, remarks='y', rtol=0.1)\n",
    "arr.render()"
   ]
  },
  {
   "cell_type": "markdown",
   "metadata": {},
   "source": [
    "<div class=\"alert alert-warning\">\n",
    "\n",
    "`rtol` and `atol` cannot be used with the `condition` keyword.\n",
    "\n",
    "</div>"
   ]
  }
 ],
 "metadata": {},
 "nbformat": 4,
 "nbformat_minor": 4
}
